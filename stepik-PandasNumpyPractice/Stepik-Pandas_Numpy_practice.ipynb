{
 "cells": [
  {
   "cell_type": "markdown",
   "id": "41503404",
   "metadata": {},
   "source": [
    "## Практикум по Pandas\n",
    "https://stepik.org/course/111629/\n",
    "\n",
    "Прокачиваем практические навыки работы в Pandas. Рекомендовано специалистам по анализу данных. Выведи своё владение библиотекой Pandas на новый уровень!\n",
    "\n",
    "Предполагается, что вы самостоятельно работаете с документацией и другими источниками по Pandas, а здесь практикуетесь решать задачи.\n",
    "\n",
    "Практикум включает задачи, которые могут встретиться на собеседовании и работе. После прохождения курса вы будете уверенно владеть библиотекой Pandas.\n",
    "\n",
    "Желаем успехов в прохождении курса и освоении Pandas!\n"
   ]
  },
  {
   "cell_type": "code",
   "execution_count": 1,
   "id": "b77c3bb2",
   "metadata": {},
   "outputs": [],
   "source": [
    "# простые задания без описания:"
   ]
  },
  {
   "cell_type": "code",
   "execution_count": 2,
   "id": "378ec7a0",
   "metadata": {},
   "outputs": [
    {
     "data": {
      "text/plain": [
       "a    0\n",
       "b    1\n",
       "c    2\n",
       "e    3\n",
       "d    4\n",
       "dtype: int64"
      ]
     },
     "execution_count": 2,
     "metadata": {},
     "output_type": "execute_result"
    }
   ],
   "source": [
    "import pandas as pd\n",
    "import numpy as np\n",
    "\n",
    "pd.Series([0,1,2,3,4], index = ['a', 'b', 'c', 'e', 'd'])"
   ]
  },
  {
   "cell_type": "code",
   "execution_count": 3,
   "id": "f1882cda",
   "metadata": {},
   "outputs": [
    {
     "data": {
      "text/html": [
       "<div>\n",
       "<style scoped>\n",
       "    .dataframe tbody tr th:only-of-type {\n",
       "        vertical-align: middle;\n",
       "    }\n",
       "\n",
       "    .dataframe tbody tr th {\n",
       "        vertical-align: top;\n",
       "    }\n",
       "\n",
       "    .dataframe thead th {\n",
       "        text-align: right;\n",
       "    }\n",
       "</style>\n",
       "<table border=\"1\" class=\"dataframe\">\n",
       "  <thead>\n",
       "    <tr style=\"text-align: right;\">\n",
       "      <th></th>\n",
       "      <th>vals</th>\n",
       "    </tr>\n",
       "  </thead>\n",
       "  <tbody>\n",
       "    <tr>\n",
       "      <th>0</th>\n",
       "      <td>a</td>\n",
       "    </tr>\n",
       "    <tr>\n",
       "      <th>1</th>\n",
       "      <td>b</td>\n",
       "    </tr>\n",
       "    <tr>\n",
       "      <th>2</th>\n",
       "      <td>c</td>\n",
       "    </tr>\n",
       "  </tbody>\n",
       "</table>\n",
       "</div>"
      ],
      "text/plain": [
       "  vals\n",
       "0    a\n",
       "1    b\n",
       "2    c"
      ]
     },
     "execution_count": 3,
     "metadata": {},
     "output_type": "execute_result"
    }
   ],
   "source": [
    "s = pd.Series([\"a\", \"b\", \"c\"],\n",
    "              name=\"vals\")\n",
    "s.to_frame()"
   ]
  },
  {
   "cell_type": "code",
   "execution_count": 4,
   "id": "7ef424c7",
   "metadata": {},
   "outputs": [
    {
     "data": {
      "text/html": [
       "<div>\n",
       "<style scoped>\n",
       "    .dataframe tbody tr th:only-of-type {\n",
       "        vertical-align: middle;\n",
       "    }\n",
       "\n",
       "    .dataframe tbody tr th {\n",
       "        vertical-align: top;\n",
       "    }\n",
       "\n",
       "    .dataframe thead th {\n",
       "        text-align: right;\n",
       "    }\n",
       "</style>\n",
       "<table border=\"1\" class=\"dataframe\">\n",
       "  <thead>\n",
       "    <tr style=\"text-align: right;\">\n",
       "      <th></th>\n",
       "      <th>col1</th>\n",
       "      <th>col2</th>\n",
       "    </tr>\n",
       "  </thead>\n",
       "  <tbody>\n",
       "    <tr>\n",
       "      <th>0</th>\n",
       "      <td>a</td>\n",
       "      <td>0</td>\n",
       "    </tr>\n",
       "    <tr>\n",
       "      <th>1</th>\n",
       "      <td>b</td>\n",
       "      <td>1</td>\n",
       "    </tr>\n",
       "    <tr>\n",
       "      <th>2</th>\n",
       "      <td>c</td>\n",
       "      <td>2</td>\n",
       "    </tr>\n",
       "    <tr>\n",
       "      <th>3</th>\n",
       "      <td>e</td>\n",
       "      <td>3</td>\n",
       "    </tr>\n",
       "    <tr>\n",
       "      <th>4</th>\n",
       "      <td>d</td>\n",
       "      <td>4</td>\n",
       "    </tr>\n",
       "  </tbody>\n",
       "</table>\n",
       "</div>"
      ],
      "text/plain": [
       "  col1  col2\n",
       "0    a     0\n",
       "1    b     1\n",
       "2    c     2\n",
       "3    e     3\n",
       "4    d     4"
      ]
     },
     "execution_count": 4,
     "metadata": {},
     "output_type": "execute_result"
    }
   ],
   "source": [
    "s1 = pd.Series(list('abced'))\n",
    "s2 = pd.Series(np.arange(5))\n",
    "\n",
    "p = pd.concat([s1,s2], axis=1, keys = ['col1', 'col2'])\n",
    "p"
   ]
  },
  {
   "cell_type": "code",
   "execution_count": 5,
   "id": "04c79de5",
   "metadata": {},
   "outputs": [
    {
     "data": {
      "text/plain": [
       "XXX\n",
       "0    a\n",
       "1    b\n",
       "2    c\n",
       "3    e\n",
       "4    d\n",
       "Name: characters, dtype: object"
      ]
     },
     "execution_count": 5,
     "metadata": {},
     "output_type": "execute_result"
    }
   ],
   "source": [
    "s = pd.Series(list('abced'), name=\"characters\")\n",
    "s.index.name = 'XXX'\n",
    "s"
   ]
  },
  {
   "cell_type": "code",
   "execution_count": 6,
   "id": "2cf13ffb",
   "metadata": {},
   "outputs": [
    {
     "data": {
      "text/plain": [
       "0    1\n",
       "1    2\n",
       "2    3\n",
       "dtype: int64"
      ]
     },
     "execution_count": 6,
     "metadata": {},
     "output_type": "execute_result"
    }
   ],
   "source": [
    "s1 = pd.Series([1, 2, 3, 4, 5])\n",
    "s2 = pd.Series([4, 5, 6, 7, 8])\n",
    "s1[~s1.isin(s2)]"
   ]
  },
  {
   "cell_type": "code",
   "execution_count": 7,
   "id": "773fccbf",
   "metadata": {},
   "outputs": [
    {
     "name": "stdout",
     "output_type": "stream",
     "text": [
      "0    1\n",
      "1    2\n",
      "2    3\n",
      "5    6\n",
      "6    7\n",
      "7    8\n",
      "dtype: int64\n"
     ]
    }
   ],
   "source": [
    "s1 = pd.Series([1, 2, 3, 4, 5])\n",
    "s2 = pd.Series([4, 5, 6, 7, 8])\n",
    "\n",
    "s3 = pd.Series(np.union1d(s1, s2))\n",
    "s4 = pd.Series(np.intersect1d(s1,s2))\n",
    "s5 = s3[~s3.isin(s4)]\n",
    "print(s5)\n"
   ]
  },
  {
   "cell_type": "code",
   "execution_count": 8,
   "id": "b6481476",
   "metadata": {},
   "outputs": [
    {
     "data": {
      "text/plain": [
       "0    5\n",
       "1    6\n",
       "2    7\n",
       "dtype: int64"
      ]
     },
     "execution_count": 8,
     "metadata": {},
     "output_type": "execute_result"
    }
   ],
   "source": [
    " pd.Series([5,6,7])"
   ]
  },
  {
   "cell_type": "code",
   "execution_count": 9,
   "id": "ade36fbd",
   "metadata": {},
   "outputs": [
    {
     "data": {
      "text/plain": [
       "0    0\n",
       "1    1\n",
       "2    2\n",
       "dtype: int64"
      ]
     },
     "execution_count": 9,
     "metadata": {},
     "output_type": "execute_result"
    }
   ],
   "source": [
    " pd.Series([5,6,7]).index.to_series()"
   ]
  },
  {
   "cell_type": "code",
   "execution_count": 10,
   "id": "6f11f3f1",
   "metadata": {},
   "outputs": [
    {
     "data": {
      "text/plain": [
       "0    1.00\n",
       "1    1.75\n",
       "2    3.50\n",
       "3    5.50\n",
       "4    7.00\n",
       "dtype: float64"
      ]
     },
     "execution_count": 10,
     "metadata": {},
     "output_type": "execute_result"
    }
   ],
   "source": [
    "# расчет персентилей\n",
    "def solution(ser):\n",
    "    m0 = np.percentile(ser, 0)\n",
    "    m25 = np.percentile(ser, 25)\n",
    "    m50 = np.percentile(ser, 50)\n",
    "    m75 = np.percentile(ser, 75)\n",
    "    m100 = np.percentile(ser, 100)\n",
    "    result = pd.Series([m0, m25, m50, m75, m100])\n",
    "    # or\n",
    "    result = pd.Series(np.percentile(ser, [0, 25, 50, 75, 100]))\n",
    "    return result\n",
    "\n",
    "ser = [1,2,5,7]\n",
    "\n",
    "\n",
    "\n",
    "solution(ser)"
   ]
  },
  {
   "cell_type": "code",
   "execution_count": 11,
   "id": "8cbc3ed8",
   "metadata": {},
   "outputs": [
    {
     "data": {
      "text/plain": [
       "0      True\n",
       "1      True\n",
       "2     False\n",
       "3     False\n",
       "4      True\n",
       "5     False\n",
       "6     False\n",
       "7      True\n",
       "8     False\n",
       "9     False\n",
       "10    False\n",
       "11    False\n",
       "12     True\n",
       "13     True\n",
       "14    False\n",
       "15     True\n",
       "16    False\n",
       "17     True\n",
       "18    False\n",
       "19     True\n",
       "20    False\n",
       "21    False\n",
       "22     True\n",
       "23    False\n",
       "24     True\n",
       "25    False\n",
       "26    False\n",
       "27     True\n",
       "28     True\n",
       "29     True\n",
       "30    False\n",
       "31    False\n",
       "32     True\n",
       "33    False\n",
       "34    False\n",
       "35    False\n",
       "dtype: bool"
      ]
     },
     "execution_count": 11,
     "metadata": {},
     "output_type": "execute_result"
    }
   ],
   "source": [
    "s = pd.Series(list('abdcbdhafceeabcahbcaedadaecbbbecafgh'))\n",
    "result = s.value_counts()\n",
    "s.isin(result[:2].index)"
   ]
  },
  {
   "cell_type": "code",
   "execution_count": 13,
   "id": "88f7535c",
   "metadata": {},
   "outputs": [
    {
     "data": {
      "text/plain": [
       "0     Yet another value\n",
       "1     Yet another value\n",
       "2     Yet another value\n",
       "3     Yet another value\n",
       "4     Yet another value\n",
       "5     Yet another value\n",
       "6     Yet another value\n",
       "7     Yet another value\n",
       "8     Yet another value\n",
       "9     Yet another value\n",
       "10    Yet another value\n",
       "11    Yet another value\n",
       "12    Yet another value\n",
       "13    Yet another value\n",
       "14    Yet another value\n",
       "15    Yet another value\n",
       "16    Yet another value\n",
       "17    Yet another value\n",
       "18    Yet another value\n",
       "19    Yet another value\n",
       "20    Yet another value\n",
       "21    Yet another value\n",
       "22    Yet another value\n",
       "23    Yet another value\n",
       "24    Yet another value\n",
       "25    Yet another value\n",
       "26    Yet another value\n",
       "27    Yet another value\n",
       "28    Yet another value\n",
       "29    Yet another value\n",
       "30    Yet another value\n",
       "31    Yet another value\n",
       "32    Yet another value\n",
       "33    Yet another value\n",
       "34    Yet another value\n",
       "35    Yet another value\n",
       "dtype: object"
      ]
     },
     "execution_count": 13,
     "metadata": {},
     "output_type": "execute_result"
    }
   ],
   "source": [
    "\"\"\"\n",
    "Доработайте код таким образом, чтобы оставить только 2 наиболее \n",
    "встречающихся значения, а для остальных установите значение \n",
    "'Yet another value'.\n",
    "\n",
    "Функция solution должна возвращать серию.\n",
    "\"\"\"\n",
    "\n",
    "def solution():\n",
    "    s = pd.Series(list('abdcbdhafceeabcahbcaedadaecbbbecafgh'))\n",
    "    counts = s.value_counts()\n",
    "    result = s.where(s.isin(counts[:2].index),  'Yet another value')\n",
    "    \n",
    "    # or\n",
    "    \n",
    "    result = pd.Series(np.where(s.isin(result[:2].index), s, 'Yet another value'))\n",
    "    \n",
    "    return result\n",
    "\n",
    "solution()"
   ]
  },
  {
   "cell_type": "code",
   "execution_count": 14,
   "id": "36fb69ea",
   "metadata": {},
   "outputs": [
    {
     "data": {
      "text/plain": [
       "0       (6.0, 9.0]\n",
       "1       (6.0, 9.0]\n",
       "2       (6.0, 9.0]\n",
       "3       (3.0, 6.0]\n",
       "4       (3.0, 6.0]\n",
       "5       (3.0, 6.0]\n",
       "6    (-0.001, 3.0]\n",
       "7    (-0.001, 3.0]\n",
       "8    (-0.001, 3.0]\n",
       "9    (-0.001, 3.0]\n",
       "dtype: category\n",
       "Categories (3, interval[float64]): [(-0.001, 3.0] < (3.0, 6.0] < (6.0, 9.0]]"
      ]
     },
     "execution_count": 14,
     "metadata": {},
     "output_type": "execute_result"
    }
   ],
   "source": [
    "# Разбейте все значения из pandas.Series (переменная s1) на 3 интервала равного размера. \n",
    "# Функция должна вернуть серию\n",
    "\n",
    "def solution():\n",
    "    s1 = pd.Series(reversed(range(0, 10)))\n",
    "    result = pd.qcut(s1, 3)\n",
    "    return result\n",
    "\n",
    "solution()"
   ]
  },
  {
   "cell_type": "code",
   "execution_count": 15,
   "id": "5beabea7",
   "metadata": {},
   "outputs": [
    {
     "data": {
      "text/html": [
       "<div>\n",
       "<style scoped>\n",
       "    .dataframe tbody tr th:only-of-type {\n",
       "        vertical-align: middle;\n",
       "    }\n",
       "\n",
       "    .dataframe tbody tr th {\n",
       "        vertical-align: top;\n",
       "    }\n",
       "\n",
       "    .dataframe thead th {\n",
       "        text-align: right;\n",
       "    }\n",
       "</style>\n",
       "<table border=\"1\" class=\"dataframe\">\n",
       "  <thead>\n",
       "    <tr style=\"text-align: right;\">\n",
       "      <th></th>\n",
       "      <th>0</th>\n",
       "      <th>1</th>\n",
       "      <th>2</th>\n",
       "      <th>3</th>\n",
       "      <th>4</th>\n",
       "    </tr>\n",
       "  </thead>\n",
       "  <tbody>\n",
       "    <tr>\n",
       "      <th>0</th>\n",
       "      <td>0</td>\n",
       "      <td>1</td>\n",
       "      <td>2</td>\n",
       "      <td>3</td>\n",
       "      <td>4</td>\n",
       "    </tr>\n",
       "    <tr>\n",
       "      <th>1</th>\n",
       "      <td>5</td>\n",
       "      <td>6</td>\n",
       "      <td>7</td>\n",
       "      <td>8</td>\n",
       "      <td>9</td>\n",
       "    </tr>\n",
       "  </tbody>\n",
       "</table>\n",
       "</div>"
      ],
      "text/plain": [
       "   0  1  2  3  4\n",
       "0  0  1  2  3  4\n",
       "1  5  6  7  8  9"
      ]
     },
     "execution_count": 15,
     "metadata": {},
     "output_type": "execute_result"
    }
   ],
   "source": [
    "# Преобразуйте pandas.Series (переменная s1) в pandas.DataFrame размером 2 х 5:\n",
    "\n",
    "def solution():\n",
    "    s1 = pd.Series(range(0, 10))\n",
    "    result = pd.DataFrame(s1.to_numpy().reshape(2,5))\n",
    "    return result\n",
    "\n",
    "solution()"
   ]
  },
  {
   "cell_type": "code",
   "execution_count": 16,
   "id": "5409bd5b",
   "metadata": {},
   "outputs": [
    {
     "data": {
      "text/plain": [
       "array([[1],\n",
       "       [2],\n",
       "       [5]])"
      ]
     },
     "execution_count": 16,
     "metadata": {},
     "output_type": "execute_result"
    }
   ],
   "source": [
    "# Найдите индексы значений, которые кратны\n",
    "\n",
    "def solution():\n",
    "    s1 = pd.Series([5, 10, 2, 3, 9, 12, 1])\n",
    "    result = np.argwhere(s1.values % 2 == 0)\n",
    "    return result\n",
    "    \n",
    "solution()"
   ]
  },
  {
   "cell_type": "code",
   "execution_count": 17,
   "id": "1797af81",
   "metadata": {},
   "outputs": [
    {
     "data": {
      "text/plain": [
       "0     a\n",
       "7     h\n",
       "12    m\n",
       "15    p\n",
       "19    t\n",
       "dtype: object"
      ]
     },
     "execution_count": 17,
     "metadata": {},
     "output_type": "execute_result"
    }
   ],
   "source": [
    "# Создайте новый pandas.Series из элементов, которые находятся по индексам: 0, 7, 12, 15, 19.\n",
    "\n",
    "def solution():\n",
    "    s1 = pd.Series(list('abcdefghijklmnopqrstuvwxyz'))\n",
    "    indx = [0, 7, 12, 15, 19]\n",
    "    result = s1.take(indx)\n",
    "    return result\n",
    "    \n",
    "solution()"
   ]
  },
  {
   "cell_type": "code",
   "execution_count": 18,
   "id": "a0f26240",
   "metadata": {},
   "outputs": [
    {
     "data": {
      "text/plain": [
       "0     a\n",
       "7     h\n",
       "12    m\n",
       "15    p\n",
       "19    t\n",
       "dtype: object"
      ]
     },
     "execution_count": 18,
     "metadata": {},
     "output_type": "execute_result"
    }
   ],
   "source": [
    "s1 = pd.Series(list('abcdefghijklmnopqrstuvwxyz'))\n",
    "df = pd.DataFrame(s1).take((0, 7, 12, 15, 19))\n",
    "df[0].rename(None, inplace=True)\n"
   ]
  },
  {
   "cell_type": "code",
   "execution_count": 19,
   "id": "794be64c",
   "metadata": {},
   "outputs": [
    {
     "data": {
      "text/plain": [
       "0   2022-01-01 00:00:00\n",
       "1   2022-02-02 00:00:00\n",
       "2   2022-03-03 00:00:00\n",
       "3   2022-04-04 00:00:00\n",
       "4   2022-05-05 00:00:00\n",
       "5   2022-06-06 12:20:00\n",
       "dtype: datetime64[ns]"
      ]
     },
     "execution_count": 19,
     "metadata": {},
     "output_type": "execute_result"
    }
   ],
   "source": [
    "# Преобразуйте элементы pandas.Series (переменная s1) из строк в даты.\n",
    "\n",
    "def solution():\n",
    "    s1 = pd.Series(['01 Jan 2022', '02-02-2022', '20220303', '2022/04/04', '2022-05-05', '2022-06-06T12:20'])\n",
    "    result = pd.to_datetime(s1)\n",
    "    # or\n",
    "    result = pd.Series(s1, dtype='datetime64')\n",
    "    \n",
    "    return result\n",
    "\n",
    "solution()"
   ]
  },
  {
   "cell_type": "code",
   "execution_count": 20,
   "id": "c3f91b27",
   "metadata": {},
   "outputs": [
    {
     "data": {
      "text/html": [
       "<div>\n",
       "<style scoped>\n",
       "    .dataframe tbody tr th:only-of-type {\n",
       "        vertical-align: middle;\n",
       "    }\n",
       "\n",
       "    .dataframe tbody tr th {\n",
       "        vertical-align: top;\n",
       "    }\n",
       "\n",
       "    .dataframe thead th {\n",
       "        text-align: right;\n",
       "    }\n",
       "</style>\n",
       "<table border=\"1\" class=\"dataframe\">\n",
       "  <thead>\n",
       "    <tr style=\"text-align: right;\">\n",
       "      <th></th>\n",
       "      <th>year</th>\n",
       "      <th>month</th>\n",
       "      <th>day</th>\n",
       "    </tr>\n",
       "  </thead>\n",
       "  <tbody>\n",
       "    <tr>\n",
       "      <th>0</th>\n",
       "      <td>2015</td>\n",
       "      <td>2</td>\n",
       "      <td>4</td>\n",
       "    </tr>\n",
       "    <tr>\n",
       "      <th>1</th>\n",
       "      <td>2016</td>\n",
       "      <td>3</td>\n",
       "      <td>5</td>\n",
       "    </tr>\n",
       "  </tbody>\n",
       "</table>\n",
       "</div>"
      ],
      "text/plain": [
       "   year  month  day\n",
       "0  2015      2    4\n",
       "1  2016      3    5"
      ]
     },
     "execution_count": 20,
     "metadata": {},
     "output_type": "execute_result"
    }
   ],
   "source": [
    "pd.DataFrame({'year': [2015, 2016],\n",
    "                   'month': [2, 3],\n",
    "                   'day': [4, 5]})"
   ]
  },
  {
   "cell_type": "code",
   "execution_count": 21,
   "id": "b1a7712a",
   "metadata": {},
   "outputs": [
    {
     "data": {
      "text/plain": [
       "0   2015-02-04\n",
       "1   2016-03-05\n",
       "dtype: datetime64[ns]"
      ]
     },
     "execution_count": 21,
     "metadata": {},
     "output_type": "execute_result"
    }
   ],
   "source": [
    "pd.to_datetime(pd.DataFrame({'year': [2015, 2016],\n",
    "                             'month': [2, 3],\n",
    "                             'day': [4, 5]}))"
   ]
  },
  {
   "cell_type": "code",
   "execution_count": 22,
   "id": "550299c2",
   "metadata": {},
   "outputs": [
    {
     "data": {
      "text/plain": [
       "[True, False, False, False, True, True, False, False, True]"
      ]
     },
     "execution_count": 22,
     "metadata": {},
     "output_type": "execute_result"
    }
   ],
   "source": [
    "s1 = pd.Series([10, 9, 6, 5, 3, 1, 12, 8, 13])\n",
    "s2 = pd.Series([1, 3, 10, 13])\n",
    "s1.isin(s2).to_list()\n",
    "# s1.values % 2 == 0"
   ]
  },
  {
   "cell_type": "code",
   "execution_count": 23,
   "id": "741977e3",
   "metadata": {},
   "outputs": [
    {
     "data": {
      "text/plain": [
       "[5, 4, 0, 8]"
      ]
     },
     "execution_count": 23,
     "metadata": {},
     "output_type": "execute_result"
    }
   ],
   "source": [
    "# Объект pandas.Series (переменная s1) содержит некоторые числовые значения. \n",
    "# Для значений хранящихся в s2 определите индексы под которыми они \n",
    "# хранятся  в s1. Функция должна вернуть список (python list):\n",
    "\n",
    "\n",
    "def solution():\n",
    "    s1 = pd.Series([10, 9, 6, 5, 3, 1, 12, 8, 13])\n",
    "    s2 = pd.Series([1, 3, 10, 13])\n",
    "    result = [np.argwhere([s1 == value])[0][1] for value in s2.values if value in s1.values]\n",
    "    return result\n",
    "\n",
    "\n",
    "solution()"
   ]
  },
  {
   "cell_type": "code",
   "execution_count": 24,
   "id": "49b341de",
   "metadata": {},
   "outputs": [
    {
     "data": {
      "text/plain": [
       "33.0"
      ]
     },
     "execution_count": 24,
     "metadata": {},
     "output_type": "execute_result"
    }
   ],
   "source": [
    "# Даны следующие ряды данных:\n",
    "# s_forecast - ряд прогнозных значений\n",
    "# s_real - ряд фактических значений\n",
    "# Вычислите среднеквадратичную ошибку. MSE\n",
    "\n",
    "def solution():\n",
    "    s_forecast = pd.Series(range(10))\n",
    "    s_real  = pd.Series(reversed(range(10)))\n",
    "    result = np.mean((s_forecast - s_real) ** 2) \n",
    "    return result\n",
    "\n",
    "solution()"
   ]
  },
  {
   "cell_type": "code",
   "execution_count": 25,
   "id": "220cc9bc",
   "metadata": {},
   "outputs": [],
   "source": [
    "# Измените первый символ каждого слова на верхний регистр.\n",
    "\n",
    "def solution():\n",
    "    s1 = pd.Series(['the', 'weather', 'is', 'fine']) \n",
    "    result = s1.str.capitalize()\n",
    "    # or\n",
    "    result = s1.apply(lambda x: x[0].upper() + x[1:])\n",
    "    return result"
   ]
  },
  {
   "cell_type": "code",
   "execution_count": 26,
   "id": "90537ead",
   "metadata": {},
   "outputs": [
    {
     "data": {
      "text/plain": [
       "0    3\n",
       "1    7\n",
       "2    2\n",
       "3    4\n",
       "dtype: int64"
      ]
     },
     "execution_count": 26,
     "metadata": {},
     "output_type": "execute_result"
    }
   ],
   "source": [
    "# Подсчитайте количество символов в каждом слове. Функция solution \n",
    "# должна вернуть серию:\n",
    "\n",
    "def solution():\n",
    "    s1 = pd.Series(['the', 'weather', 'is', 'fine']) \n",
    "    result = s1.str.len()\n",
    "    return result\n",
    "\n",
    "solution()"
   ]
  },
  {
   "cell_type": "code",
   "execution_count": 27,
   "id": "a47ed693",
   "metadata": {},
   "outputs": [
    {
     "data": {
      "text/plain": [
       "<pandas.core.indexes.accessors.DatetimeProperties object at 0x7fcc34be0970>"
      ]
     },
     "execution_count": 27,
     "metadata": {},
     "output_type": "execute_result"
    }
   ],
   "source": [
    "pd.to_datetime(s1).dt"
   ]
  },
  {
   "cell_type": "code",
   "execution_count": 28,
   "id": "794debce",
   "metadata": {},
   "outputs": [
    {
     "name": "stdout",
     "output_type": "stream",
     "text": [
      "Date: [5, 4, 3, 4, 5, 6]\n",
      "Week number: [1, 5, 13, 22, 9, 9]\n",
      "Day number of year: [5, 35, 93, 155, 64, 65]\n",
      "Day of week: ['Tuesday', 'Thursday', 'Saturday', 'Friday', 'Friday', 'Saturday']\n",
      "Date: [5, 4, 3, 4, 5, 6]\n",
      "Week number: [1, 5, 13, 22, 9, 9]\n",
      "Day number of year: [5, 35, 93, 155, 64, 65]\n",
      "Day of week: ['Tuesday', 'Thursday', 'Saturday', 'Friday', 'Friday', 'Saturday']\n"
     ]
    }
   ],
   "source": [
    "# Вытяните день месяца, номер недели, \n",
    "# день года и день недели из серии (s1)\n",
    "\n",
    "from collections import defaultdict\n",
    "\n",
    "s1 = pd.Series(['05 Jan 2021', '02-04-2021', '20210403', '2021/06/04', '2021-03-05', '2021-03-06T12:20'])\n",
    "\n",
    "out = defaultdict(list)\n",
    "for i in pd.to_datetime(s1):\n",
    "    out[\"Date\"].append(i.day)\n",
    "    out[\"Week number\"].append(i.week)\n",
    "    out[\"Day number of year\"].append(i.dayofyear)\n",
    "    out[\"Day of week\"].append(i.day_name())\n",
    "    \n",
    "for key in out:\n",
    "    print(f\"{key}: {out[key]}\")\n",
    "\n",
    "# or  \n",
    "out = defaultdict(list)\n",
    "date_t = pd.to_datetime(s1).dt\n",
    "for key, val  in zip([\"Date\", \"Week number\", \"Day number of year\", \"Day of week\"],\n",
    "                [date_t.day, date_t.isocalendar().week, date_t.dayofyear, date_t.day_name()]):\n",
    "    out[key].extend(val)\n",
    "\n",
    "for key in out:\n",
    "    print(f\"{key}: {out[key]}\")\n",
    "    "
   ]
  },
  {
   "cell_type": "code",
   "execution_count": 29,
   "id": "b859014a",
   "metadata": {},
   "outputs": [
    {
     "data": {
      "text/plain": [
       "0   2022-01-10\n",
       "1   2022-02-10\n",
       "2   2022-03-10\n",
       "dtype: datetime64[ns]"
      ]
     },
     "execution_count": 29,
     "metadata": {},
     "output_type": "execute_result"
    }
   ],
   "source": [
    "# Измените даты лежащие в серии (s1) таким образом чтобы они \n",
    "# начинались с 10-го числа соответствующего месяца.\n",
    "\n",
    "s1 = pd.Series(['Jan 2022', 'Feb 2022', 'Mar 2022'])\n",
    "\n",
    "s1 = pd.to_datetime(s1)\n",
    "delta =pd.Timedelta(days=9)\n",
    "s1 + delta"
   ]
  },
  {
   "cell_type": "code",
   "execution_count": 30,
   "id": "e44c8601",
   "metadata": {},
   "outputs": [
    {
     "data": {
      "text/plain": [
       "0     Apple\n",
       "1    Orange\n",
       "4     Money\n",
       "dtype: object"
      ]
     },
     "execution_count": 30,
     "metadata": {},
     "output_type": "execute_result"
    }
   ],
   "source": [
    "# Из серии (s1) вытяните слова, содержащие не менее 2 гласных.\n",
    "\n",
    "s1 = pd.Series(['Apple', 'Orange', 'Plan', 'Sky', 'Money'])\n",
    "\n",
    "s1[(s1.str.count('[aeiouyAEIOUY]')) >= 2]\n",
    "\n",
    "# or\n",
    "\n",
    "s2 = s1.apply((lambda x: sum(1 if i.lower() in 'aeiouy' else 0 for i in x)))\n",
    "s2 = s2.where(s2 >= 2).dropna()\n",
    "s1 = s1.iloc[s2.index]\n",
    "s1"
   ]
  },
  {
   "cell_type": "code",
   "execution_count": 31,
   "id": "dedad5f5",
   "metadata": {},
   "outputs": [
    {
     "data": {
      "text/plain": [
       "1          help@stepik.com\n",
       "2                user@t.co\n",
       "3    lovepandas@google.com\n",
       "dtype: object"
      ]
     },
     "execution_count": 31,
     "metadata": {},
     "output_type": "execute_result"
    }
   ],
   "source": [
    "# Извлеките корректные почтовые адреса из серии (s1). \n",
    "# Используйте pattern для этой задачи.\n",
    "\n",
    "s1 = pd.Series(['teach pandas at stepik.com', 'help@stepik.com', 'user@t.co', 'lovepandas@google.com'])\n",
    "\n",
    "pattern ='[A-Za-z0-9._%+-]+@[A-Za-z0-9.-]+\\\\.[A-Za-z]{2,4}'\n",
    "s1[s1.str.contains(pattern)]\n",
    "\n",
    "# or\n",
    "\n",
    "s1[s1.str.findall(pattern).explode().notnull()]"
   ]
  },
  {
   "cell_type": "code",
   "execution_count": 32,
   "id": "511d3430",
   "metadata": {},
   "outputs": [
    {
     "data": {
      "text/plain": [
       "apple     6.0\n",
       "banana    4.0\n",
       "carrot    5.8\n",
       "dtype: float64"
      ]
     },
     "execution_count": 32,
     "metadata": {},
     "output_type": "execute_result"
    }
   ],
   "source": [
    "# Вычислите среднее значение веса каждого фрукта.\n",
    "\n",
    "fruit_list = ['banana', 'carrot', 'apple', 'carrot', 'carrot', 'apple', 'banana', 'carrot', 'apple', 'carrot']\n",
    "weights_list =  [1.0, 2.0, 3.0, 4.0, 5.0, 6.0, 7.0, 8.0, 9.0, 10.0]\n",
    "\n",
    "fruits = pd.Series(fruit_list)\n",
    "weights = pd.Series(weights_list)\n",
    "\n",
    "weights.index = fruits\n",
    "weights.groupby(weights.index).agg(np.mean)"
   ]
  },
  {
   "cell_type": "code",
   "execution_count": 33,
   "id": "9bba21a4",
   "metadata": {},
   "outputs": [
    {
     "data": {
      "text/plain": [
       "18.16590212458495"
      ]
     },
     "execution_count": 33,
     "metadata": {},
     "output_type": "execute_result"
    }
   ],
   "source": [
    "# Вычислить евклидово расстояние между рядами (точками) X и Y\n",
    "\n",
    "X = pd.Series([1, 2, 3, 4, 5, 6, 7, 8, 9, 10])\n",
    "Y = pd.Series([10, 9, 8, 7, 6, 5, 4, 3, 2, 1])\n",
    "\n",
    "((X-Y) ** 2).sum() ** 0.5"
   ]
  },
  {
   "cell_type": "code",
   "execution_count": 34,
   "id": "cc094798",
   "metadata": {},
   "outputs": [
    {
     "name": "stdout",
     "output_type": "stream",
     "text": [
      "[1 5 7]\n",
      "[1 5 7]\n",
      "[1 5 7]\n",
      "[1 5 7]\n",
      "[1 5 7]\n"
     ]
    }
   ],
   "source": [
    "# Определите индексы пиков (значения, окруженные меньшими значениями\n",
    "# с обеих сторон).\n",
    "\n",
    "s1 = pd.Series([2, 10, 3, 4, 9, 10, 2, 7, 3])\n",
    "\n",
    "indx = []\n",
    "for i in range(1, s1.size):\n",
    "    if s1[i-1] < s1[i] > s1[i+1]:\n",
    "        indx.append(i)\n",
    "print(f\"[{' '.join(map(str, s1[indx].index))}]\")\n",
    "\n",
    "# or \n",
    "\n",
    "comp = s1.rolling(3, center=True).max()\n",
    "res = s1 - comp\n",
    "print(res[res==0].index.values)\n",
    "\n",
    "# or \n",
    "print(np.array(s1.loc[np.where(np.diff(s1) < 0)].index))\n",
    "\n",
    "# or\n",
    "\n",
    "print(s1[(s1.shift(-1) < s1) & (s1 > s1.shift(1))].index.values)\n",
    "print(np.array(s1.index[(s1 > s1.shift(-1)) & (s1 > s1.shift(1))]))"
   ]
  },
  {
   "cell_type": "code",
   "execution_count": 35,
   "id": "11857e21",
   "metadata": {},
   "outputs": [
    {
     "data": {
      "text/plain": [
       "Int64Index([1, 5, 7], dtype='int64')"
      ]
     },
     "execution_count": 35,
     "metadata": {},
     "output_type": "execute_result"
    }
   ],
   "source": [
    "s1 = pd.Series([2, 10, 3, 4, 9, 10, 2, 7, 3])\n",
    "\n",
    "s0 = s1.shift(-1)\n",
    "s2 = s1.shift(1)\n",
    "s1[(s0 < s1) & (s1 > s2)].index"
   ]
  },
  {
   "cell_type": "code",
   "execution_count": 36,
   "id": "db6eafb5",
   "metadata": {},
   "outputs": [
    {
     "name": "stdout",
     "output_type": "stream",
     "text": [
      "2022-01-01     1.0\n",
      "2022-01-02     1.0\n",
      "2022-01-03    10.0\n",
      "2022-01-04    10.0\n",
      "2022-01-05    10.0\n",
      "2022-01-06     3.0\n",
      "2022-01-07     3.0\n",
      "2022-01-08     3.0\n",
      "Freq: D, dtype: float64\n",
      "2022-01-01     1.0\n",
      "2022-01-02     1.0\n",
      "2022-01-03    10.0\n",
      "2022-01-04    10.0\n",
      "2022-01-05    10.0\n",
      "2022-01-06     3.0\n",
      "2022-01-07     3.0\n",
      "2022-01-08     3.0\n",
      "Freq: D, dtype: float64\n"
     ]
    }
   ],
   "source": [
    "# В серии (s1) находятся даты с 1 по 8 января 2022 года. \n",
    "# Однако некоторые даты и значения к датам пропущены. \n",
    "# Сделайте так, чтобы все отсутствующие даты отображались и \n",
    "# заполнялись значением из предыдущей даты.\n",
    "\n",
    "s1 = pd.Series([1,10,3,np.nan], index=pd.to_datetime(['2022-01-01', '2022-01-03', '2022-01-06', '2022-01-08']))\n",
    "print(s1.asfreq(\"1D\").fillna(method=\"ffill\"))\n",
    "# or\n",
    "print(s1.resample('1D').ffill().ffill())"
   ]
  },
  {
   "cell_type": "code",
   "execution_count": 37,
   "id": "83ae8b8d",
   "metadata": {},
   "outputs": [
    {
     "name": "stdout",
     "output_type": "stream",
     "text": [
      "Index(['user_name', 'user_balance', 'user_age', 'user_group'], dtype='object')\n"
     ]
    }
   ],
   "source": [
    "\"\"\"\n",
    "Отредактируйте название колонок датафрейма (df) следующим образом:\n",
    "1. user -> user_name\n",
    "2. все точки в названии колонок заменить нижним подчёркиванием\n",
    "Выведите названия колонок после преобразования.\n",
    "\"\"\"\n",
    "\n",
    "df = pd.DataFrame(data = {'user' : ['Ivan', 'Petr', 'Alex'], 'user.balance' : [500, 200, 0], 'user.age' : [34, 25, 18], 'user.group' : ['A', 'B', 'A']})\n",
    "\n",
    "print(pd.Index(pd.Series(df.columns).replace([\"user$\", \"\\.\"],[\"user_name\", \"_\"], regex=True)))\n",
    "\n",
    "# or\n",
    "\n",
    "df = df.rename({'user': 'user_name'}, axis='columns')\n",
    "df.columns.map(lambda x: x.replace('.', '_'))\n",
    "\n",
    "df.rename(columns={'user':'user_name'}, inplace=True)\n",
    "df.rename(columns=lambda x: x.replace('.','_'), inplace=True)\n",
    "\n"
   ]
  },
  {
   "cell_type": "code",
   "execution_count": 38,
   "id": "3aab6f6a",
   "metadata": {},
   "outputs": [
    {
     "name": "stdout",
     "output_type": "stream",
     "text": [
      "True\n"
     ]
    }
   ],
   "source": [
    "# Проверьте, имеются ли пропущенные значения в датафрейме (df).\n",
    "\n",
    "df = pd.DataFrame(data = {'user' : ['Ivan', 'Petr', 'Alex'], 'user.balance' : [500, None, 0], 'user.age' : [34, 25, 18], 'user.group' : ['A', 'B', 'A']})\n",
    "print(any(df.isnull()))"
   ]
  },
  {
   "cell_type": "code",
   "execution_count": 39,
   "id": "043fea89",
   "metadata": {},
   "outputs": [
    {
     "name": "stdout",
     "output_type": "stream",
     "text": [
      "user            0\n",
      "user.balance    2\n",
      "user.age        1\n",
      "user.group      0\n",
      "dtype: int64\n"
     ]
    }
   ],
   "source": [
    "# Подсчитайте количество пропущенных значений в каждом столбце.\n",
    "\n",
    "df = pd.DataFrame(data = {'user' : ['Ivan', 'Petr', 'Alex', 'Den'], 'user.balance' : [500, None, 0, None], 'user.age' : [34, None, 18, 43], 'user.group' : ['A', 'B', 'A', 'B']})\n",
    "print(df.isnull().sum())"
   ]
  },
  {
   "cell_type": "code",
   "execution_count": 40,
   "id": "5411dd82",
   "metadata": {},
   "outputs": [
    {
     "name": "stdout",
     "output_type": "stream",
     "text": [
      "   user.speed  user.bag_weight\n",
      "0        40.0         8.000000\n",
      "1        39.0         4.666667\n",
      "2        42.0         2.000000\n",
      "3        35.0         4.000000\n",
      "   user.speed  user.bag_weight\n",
      "0        40.0         8.000000\n",
      "1        39.0         4.666667\n",
      "2        42.0         2.000000\n",
      "3        35.0         4.000000\n"
     ]
    }
   ],
   "source": [
    "# Замените отсутствующие значения в столбцах user.speed и \n",
    "# user.bag_weight их соответствующими средними значениями.\n",
    "\n",
    "df = pd.DataFrame(data = {'user' : ['Ivan', 'Petr', 'Alex', 'Den'], 'user.speed' : [40, None, 42, 35], 'user.bag_weight' : [8, None, 2, 4]})\n",
    "\n",
    "print(df.fillna(df.mean(axis=0)).iloc[:, 1:])\n",
    "\n",
    "# or\n",
    "\n",
    "df = df.select_dtypes(exclude='object')\n",
    "print(df.fillna(df.mean()))"
   ]
  },
  {
   "cell_type": "code",
   "execution_count": 41,
   "id": "0035dbcb",
   "metadata": {},
   "outputs": [
    {
     "name": "stdout",
     "output_type": "stream",
     "text": [
      "                          user.speed                      user.bag_weight\n",
      "0                               40.0                                  8.0\n",
      "1  <function mean at 0x7fcc68261280>  <function median at 0x7fcc68124550>\n",
      "2                               42.0                                  2.0\n",
      "3                               35.0                                  4.0\n",
      "   user  user.speed  user.bag_weight\n",
      "0  Ivan        40.0              8.0\n",
      "1  Petr        39.0              4.0\n",
      "2  Alex        42.0              2.0\n",
      "3   Den        35.0              4.0\n",
      "   user  user.speed  user.bag_weight\n",
      "0  Ivan        40.0              8.0\n",
      "1  Petr        39.0              4.0\n",
      "2  Alex        42.0              2.0\n",
      "3   Den        35.0              4.0\n"
     ]
    }
   ],
   "source": [
    "# Используйте метод apply, чтобы заменить отсутствующие значения в user.speed средним значением столбца, \n",
    "# а в user.bag_weight — медианой столбца.\n",
    "\n",
    "\n",
    "df = df.fillna({'user.speed': np.mean, 'user.bag_weight': np.median})\n",
    "print(df)\n",
    "\n",
    "df = pd.DataFrame(data = {'user' : ['Ivan', 'Petr', 'Alex', 'Den'], 'user.speed' : [40, None, 42, 35], 'user.bag_weight' : [8, None, 2, 4]})\n",
    "df['user.speed'] = df['user.speed'].fillna(df['user.speed'].mean())\n",
    "df['user.bag_weight'] = df['user.bag_weight'].fillna(df['user.bag_weight'].median())\n",
    "print(df)\n",
    "\n",
    "#or\n",
    "\n",
    "df[['user.speed','user.bag_weight']] = df.apply({'user.speed': lambda x: x.fillna(x.mean()), 'user.bag_weight': lambda x: x.fillna(x.median())})\n",
    "print(df)"
   ]
  },
  {
   "cell_type": "code",
   "execution_count": 42,
   "id": "a12a6ece",
   "metadata": {},
   "outputs": [
    {
     "name": "stdout",
     "output_type": "stream",
     "text": [
      "   user  user.speed  user.bag_weight\n",
      "0  Ivan        40.0              8.0\n",
      "1  Petr        39.0              4.0\n",
      "2  Alex        42.0              2.0\n",
      "3   Den        35.0              4.0\n"
     ]
    }
   ],
   "source": [
    "def foo(data):\n",
    "    if data.name == \"user.speed\":\n",
    "        data = data.fillna(data.mean())\n",
    "    elif data.name == \"user.bag_weight\":\n",
    "        data = data.fillna(data.median())\n",
    "    return data\n",
    "\n",
    "\n",
    "df = pd.DataFrame(data = {'user' : ['Ivan', 'Petr', 'Alex', 'Den'], 'user.speed' : [40, None, 42, 35], 'user.bag_weight' : [8, None, 2, 4]})\n",
    "df = df.apply(foo)\n",
    "print(df)"
   ]
  },
  {
   "cell_type": "code",
   "execution_count": 43,
   "id": "dba2ebb0",
   "metadata": {},
   "outputs": [
    {
     "name": "stdout",
     "output_type": "stream",
     "text": [
      "0.8959999999999999\n"
     ]
    }
   ],
   "source": [
    "import numpy\n",
    "\n",
    "m = np.array([[0.8, 0.2, 0.2],\n",
    "              [0.2, 0.8, 0.2], \n",
    "              [0.2, 0.2, 0.8], \n",
    "              [0.2, 0.2, 0.2]])\n",
    "\n",
    "print(1 - m.prod(axis=1).sum())   "
   ]
  },
  {
   "cell_type": "code",
   "execution_count": 44,
   "id": "f6b8e0a7",
   "metadata": {},
   "outputs": [
    {
     "data": {
      "text/html": [
       "<div>\n",
       "<style scoped>\n",
       "    .dataframe tbody tr th:only-of-type {\n",
       "        vertical-align: middle;\n",
       "    }\n",
       "\n",
       "    .dataframe tbody tr th {\n",
       "        vertical-align: top;\n",
       "    }\n",
       "\n",
       "    .dataframe thead th {\n",
       "        text-align: right;\n",
       "    }\n",
       "</style>\n",
       "<table border=\"1\" class=\"dataframe\">\n",
       "  <thead>\n",
       "    <tr style=\"text-align: right;\">\n",
       "      <th></th>\n",
       "      <th>e</th>\n",
       "      <th>b</th>\n",
       "      <th>c</th>\n",
       "      <th>d</th>\n",
       "      <th>a</th>\n",
       "    </tr>\n",
       "  </thead>\n",
       "  <tbody>\n",
       "    <tr>\n",
       "      <th>0</th>\n",
       "      <td>4</td>\n",
       "      <td>1</td>\n",
       "      <td>2</td>\n",
       "      <td>3</td>\n",
       "      <td>0</td>\n",
       "    </tr>\n",
       "    <tr>\n",
       "      <th>1</th>\n",
       "      <td>9</td>\n",
       "      <td>6</td>\n",
       "      <td>7</td>\n",
       "      <td>8</td>\n",
       "      <td>5</td>\n",
       "    </tr>\n",
       "    <tr>\n",
       "      <th>2</th>\n",
       "      <td>14</td>\n",
       "      <td>11</td>\n",
       "      <td>12</td>\n",
       "      <td>13</td>\n",
       "      <td>10</td>\n",
       "    </tr>\n",
       "    <tr>\n",
       "      <th>3</th>\n",
       "      <td>19</td>\n",
       "      <td>16</td>\n",
       "      <td>17</td>\n",
       "      <td>18</td>\n",
       "      <td>15</td>\n",
       "    </tr>\n",
       "  </tbody>\n",
       "</table>\n",
       "</div>"
      ],
      "text/plain": [
       "    e   b   c   d   a\n",
       "0   4   1   2   3   0\n",
       "1   9   6   7   8   5\n",
       "2  14  11  12  13  10\n",
       "3  19  16  17  18  15"
      ]
     },
     "execution_count": 44,
     "metadata": {},
     "output_type": "execute_result"
    }
   ],
   "source": [
    "# Поменяйте столбцы А и Е местами в датафрейме:\n",
    "\n",
    "df = pd.DataFrame(np.arange(20).reshape(-1, 5), columns=list('abcde'))\n",
    "df = df.iloc[:,[4,1,2,3,0]]\n",
    "df"
   ]
  },
  {
   "cell_type": "code",
   "execution_count": 45,
   "id": "c54f9c8e",
   "metadata": {},
   "outputs": [
    {
     "data": {
      "text/html": [
       "<div>\n",
       "<style scoped>\n",
       "    .dataframe tbody tr th:only-of-type {\n",
       "        vertical-align: middle;\n",
       "    }\n",
       "\n",
       "    .dataframe tbody tr th {\n",
       "        vertical-align: top;\n",
       "    }\n",
       "\n",
       "    .dataframe thead th {\n",
       "        text-align: right;\n",
       "    }\n",
       "</style>\n",
       "<table border=\"1\" class=\"dataframe\">\n",
       "  <thead>\n",
       "    <tr style=\"text-align: right;\">\n",
       "      <th></th>\n",
       "      <th>e</th>\n",
       "      <th>d</th>\n",
       "      <th>c</th>\n",
       "      <th>b</th>\n",
       "      <th>a</th>\n",
       "    </tr>\n",
       "  </thead>\n",
       "  <tbody>\n",
       "    <tr>\n",
       "      <th>0</th>\n",
       "      <td>4</td>\n",
       "      <td>3</td>\n",
       "      <td>2</td>\n",
       "      <td>1</td>\n",
       "      <td>0</td>\n",
       "    </tr>\n",
       "    <tr>\n",
       "      <th>1</th>\n",
       "      <td>9</td>\n",
       "      <td>8</td>\n",
       "      <td>7</td>\n",
       "      <td>6</td>\n",
       "      <td>5</td>\n",
       "    </tr>\n",
       "    <tr>\n",
       "      <th>2</th>\n",
       "      <td>14</td>\n",
       "      <td>13</td>\n",
       "      <td>12</td>\n",
       "      <td>11</td>\n",
       "      <td>10</td>\n",
       "    </tr>\n",
       "    <tr>\n",
       "      <th>3</th>\n",
       "      <td>19</td>\n",
       "      <td>18</td>\n",
       "      <td>17</td>\n",
       "      <td>16</td>\n",
       "      <td>15</td>\n",
       "    </tr>\n",
       "  </tbody>\n",
       "</table>\n",
       "</div>"
      ],
      "text/plain": [
       "    e   d   c   b   a\n",
       "0   4   3   2   1   0\n",
       "1   9   8   7   6   5\n",
       "2  14  13  12  11  10\n",
       "3  19  18  17  16  15"
      ]
     },
     "execution_count": 45,
     "metadata": {},
     "output_type": "execute_result"
    }
   ],
   "source": [
    "# Поменяйте порядок столбцов в датафрейме от Е до А.\n",
    "\n",
    "df = pd.DataFrame(np.arange(20).reshape(-1, 5), columns=list('abcde'))\n",
    "\n",
    "df[reversed(df.columns)]"
   ]
  },
  {
   "cell_type": "code",
   "execution_count": 46,
   "id": "28b138c3",
   "metadata": {},
   "outputs": [
    {
     "data": {
      "text/html": [
       "<div>\n",
       "<style scoped>\n",
       "    .dataframe tbody tr th:only-of-type {\n",
       "        vertical-align: middle;\n",
       "    }\n",
       "\n",
       "    .dataframe tbody tr th {\n",
       "        vertical-align: top;\n",
       "    }\n",
       "\n",
       "    .dataframe thead th {\n",
       "        text-align: right;\n",
       "    }\n",
       "</style>\n",
       "<table border=\"1\" class=\"dataframe\">\n",
       "  <thead>\n",
       "    <tr style=\"text-align: right;\">\n",
       "      <th></th>\n",
       "      <th>user</th>\n",
       "      <th>user.speed</th>\n",
       "      <th>user.bag_weight</th>\n",
       "    </tr>\n",
       "  </thead>\n",
       "  <tbody>\n",
       "    <tr>\n",
       "      <th>0</th>\n",
       "      <td>Ivan</td>\n",
       "      <td>40.0</td>\n",
       "      <td>8.0</td>\n",
       "    </tr>\n",
       "    <tr>\n",
       "      <th>2</th>\n",
       "      <td>Alex</td>\n",
       "      <td>42.0</td>\n",
       "      <td>2.0</td>\n",
       "    </tr>\n",
       "    <tr>\n",
       "      <th>4</th>\n",
       "      <td>Viktor</td>\n",
       "      <td>60.0</td>\n",
       "      <td>19.0</td>\n",
       "    </tr>\n",
       "  </tbody>\n",
       "</table>\n",
       "</div>"
      ],
      "text/plain": [
       "     user  user.speed  user.bag_weight\n",
       "0    Ivan        40.0              8.0\n",
       "2    Alex        42.0              2.0\n",
       "4  Viktor        60.0             19.0"
      ]
     },
     "execution_count": 46,
     "metadata": {},
     "output_type": "execute_result"
    }
   ],
   "source": [
    "# Выведите на экран строки датафрейма с шагом 2.\n",
    "\n",
    "df = pd.DataFrame(data = {'user' : ['Ivan', 'Petr', 'Alex', 'Den', 'Viktor'], 'user.speed' : [40, None, 42, 35, 60], 'user.bag_weight' : [8, None, 2, 4, 19]})\n",
    "df.iloc[df.index % 2 == 0, :]"
   ]
  },
  {
   "cell_type": "code",
   "execution_count": 47,
   "id": "61f33899",
   "metadata": {},
   "outputs": [
    {
     "data": {
      "text/html": [
       "<div>\n",
       "<style scoped>\n",
       "    .dataframe tbody tr th:only-of-type {\n",
       "        vertical-align: middle;\n",
       "    }\n",
       "\n",
       "    .dataframe tbody tr th {\n",
       "        vertical-align: top;\n",
       "    }\n",
       "\n",
       "    .dataframe thead th {\n",
       "        text-align: right;\n",
       "    }\n",
       "</style>\n",
       "<table border=\"1\" class=\"dataframe\">\n",
       "  <thead>\n",
       "    <tr style=\"text-align: right;\">\n",
       "      <th></th>\n",
       "      <th>user</th>\n",
       "      <th>user.number</th>\n",
       "      <th>user.speed</th>\n",
       "      <th>user.bag_weight</th>\n",
       "    </tr>\n",
       "  </thead>\n",
       "  <tbody>\n",
       "    <tr>\n",
       "      <th>Ivan_222-333</th>\n",
       "      <td>Ivan</td>\n",
       "      <td>222-333</td>\n",
       "      <td>40.0</td>\n",
       "      <td>8.0</td>\n",
       "    </tr>\n",
       "    <tr>\n",
       "      <th>Petr_missing</th>\n",
       "      <td>Petr</td>\n",
       "      <td>missing</td>\n",
       "      <td>NaN</td>\n",
       "      <td>NaN</td>\n",
       "    </tr>\n",
       "    <tr>\n",
       "      <th>Alex_222-555</th>\n",
       "      <td>Alex</td>\n",
       "      <td>222-555</td>\n",
       "      <td>42.0</td>\n",
       "      <td>2.0</td>\n",
       "    </tr>\n",
       "    <tr>\n",
       "      <th>Den_222-666</th>\n",
       "      <td>Den</td>\n",
       "      <td>222-666</td>\n",
       "      <td>35.0</td>\n",
       "      <td>4.0</td>\n",
       "    </tr>\n",
       "    <tr>\n",
       "      <th>Viktor_222-777</th>\n",
       "      <td>Viktor</td>\n",
       "      <td>222-777</td>\n",
       "      <td>60.0</td>\n",
       "      <td>19.0</td>\n",
       "    </tr>\n",
       "  </tbody>\n",
       "</table>\n",
       "</div>"
      ],
      "text/plain": [
       "                  user user.number  user.speed  user.bag_weight\n",
       "Ivan_222-333      Ivan     222-333        40.0              8.0\n",
       "Petr_missing      Petr     missing         NaN              NaN\n",
       "Alex_222-555      Alex     222-555        42.0              2.0\n",
       "Den_222-666        Den     222-666        35.0              4.0\n",
       "Viktor_222-777  Viktor     222-777        60.0             19.0"
      ]
     },
     "execution_count": 47,
     "metadata": {},
     "output_type": "execute_result"
    }
   ],
   "source": [
    "# Создайте составной индекс на основе колонок user и user.number \n",
    "# для датафрейма:\n",
    "\n",
    "df = pd.DataFrame(data = {'user' : ['Ivan', 'Petr', 'Alex', 'Den', 'Viktor'], 'user.number' : ['222-333', None, '222-555', '222-666', '222-777'], 'user.speed' : [40, None, 42, 35, 60], 'user.bag_weight' : [8, None, 2, 4, 19]})\n",
    "\n",
    "df['user.number'] = df['user.number'].fillna('missing')\n",
    "df.index = df['user'] + '_' + df['user.number']\n",
    "df"
   ]
  },
  {
   "cell_type": "code",
   "execution_count": 48,
   "id": "ba3d195a",
   "metadata": {},
   "outputs": [],
   "source": [
    "# Как задать максимальное количество выводимых строк датафрейма?\n",
    "\n",
    "pd.set_option('display.max_rows', 12)\n",
    "# pd.reset_option('all')"
   ]
  },
  {
   "cell_type": "code",
   "execution_count": 49,
   "id": "63cc65b2",
   "metadata": {},
   "outputs": [
    {
     "data": {
      "text/plain": [
       "2"
      ]
     },
     "execution_count": 49,
     "metadata": {},
     "output_type": "execute_result"
    }
   ],
   "source": [
    "# Для столбца А найдите индекс строки в которой находится второе \n",
    "# наибольшее значение.\n",
    "\n",
    "df = pd.DataFrame([[16,24,29],[1,10,16],[26,21,10],[3,3,8],[6,17,17],[2,25,14],[9,13,21],[27,24,17],[19,29,1],[20,24,6]], columns=list('abc'))\n",
    "df['a'][~df['a'].index.isin([df['a'].argmax()])].argmax()\n",
    "\n",
    "#or\n",
    "\n",
    "df['a'].sort_values(ascending=False).index[1]"
   ]
  },
  {
   "cell_type": "code",
   "execution_count": 50,
   "id": "e8055f17",
   "metadata": {},
   "outputs": [
    {
     "data": {
      "text/html": [
       "<div>\n",
       "<style scoped>\n",
       "    .dataframe tbody tr th:only-of-type {\n",
       "        vertical-align: middle;\n",
       "    }\n",
       "\n",
       "    .dataframe tbody tr th {\n",
       "        vertical-align: top;\n",
       "    }\n",
       "\n",
       "    .dataframe thead th {\n",
       "        text-align: right;\n",
       "    }\n",
       "</style>\n",
       "<table border=\"1\" class=\"dataframe\">\n",
       "  <thead>\n",
       "    <tr style=\"text-align: right;\">\n",
       "      <th></th>\n",
       "      <th>0</th>\n",
       "      <th>1</th>\n",
       "      <th>2</th>\n",
       "      <th>3</th>\n",
       "    </tr>\n",
       "  </thead>\n",
       "  <tbody>\n",
       "    <tr>\n",
       "      <th>5</th>\n",
       "      <td>35</td>\n",
       "      <td>13</td>\n",
       "      <td>36</td>\n",
       "      <td>21</td>\n",
       "    </tr>\n",
       "    <tr>\n",
       "      <th>6</th>\n",
       "      <td>32</td>\n",
       "      <td>32</td>\n",
       "      <td>25</td>\n",
       "      <td>17</td>\n",
       "    </tr>\n",
       "  </tbody>\n",
       "</table>\n",
       "</div>"
      ],
      "text/plain": [
       "    0   1   2   3\n",
       "5  35  13  36  21\n",
       "6  32  32  25  17"
      ]
     },
     "execution_count": 50,
     "metadata": {},
     "output_type": "execute_result"
    }
   ],
   "source": [
    "# Выведите последние две строки датафрейма, сумма ячеек которых \n",
    "# больше 100.\n",
    "\n",
    "df = pd.DataFrame([[23,33,16,35],\n",
    "                   [24,20,13,10],\n",
    "                   [32,33,30,28],\n",
    "                   [13,32,36,18],\n",
    "                   [25,27,31,10],\n",
    "                   [35,13,36,21],\n",
    "                   [32,32,25,17],\n",
    "                   [34,24,23,19]])\n",
    "df['sum'] = df.sum(axis=1)\n",
    "df[df['sum'] > 100].iloc[-2:, :-1]"
   ]
  },
  {
   "cell_type": "code",
   "execution_count": 51,
   "id": "b1c5efc4",
   "metadata": {},
   "outputs": [
    {
     "data": {
      "text/html": [
       "<div>\n",
       "<style scoped>\n",
       "    .dataframe tbody tr th:only-of-type {\n",
       "        vertical-align: middle;\n",
       "    }\n",
       "\n",
       "    .dataframe tbody tr th {\n",
       "        vertical-align: top;\n",
       "    }\n",
       "\n",
       "    .dataframe thead th {\n",
       "        text-align: right;\n",
       "    }\n",
       "</style>\n",
       "<table border=\"1\" class=\"dataframe\">\n",
       "  <thead>\n",
       "    <tr style=\"text-align: right;\">\n",
       "      <th></th>\n",
       "      <th>animal</th>\n",
       "      <th>age</th>\n",
       "      <th>visits</th>\n",
       "      <th>priority</th>\n",
       "    </tr>\n",
       "  </thead>\n",
       "  <tbody>\n",
       "    <tr>\n",
       "      <th>a</th>\n",
       "      <td>cat</td>\n",
       "      <td>2.5</td>\n",
       "      <td>1</td>\n",
       "      <td>yes</td>\n",
       "    </tr>\n",
       "    <tr>\n",
       "      <th>b</th>\n",
       "      <td>cat</td>\n",
       "      <td>3.0</td>\n",
       "      <td>3</td>\n",
       "      <td>yes</td>\n",
       "    </tr>\n",
       "    <tr>\n",
       "      <th>c</th>\n",
       "      <td>snake</td>\n",
       "      <td>0.5</td>\n",
       "      <td>2</td>\n",
       "      <td>no</td>\n",
       "    </tr>\n",
       "  </tbody>\n",
       "</table>\n",
       "</div>"
      ],
      "text/plain": [
       "  animal  age  visits priority\n",
       "a    cat  2.5       1      yes\n",
       "b    cat  3.0       3      yes\n",
       "c  snake  0.5       2       no"
      ]
     },
     "execution_count": 51,
     "metadata": {},
     "output_type": "execute_result"
    }
   ],
   "source": [
    "data = {'animal': ['cat', 'cat', 'snake', 'dog', 'dog', 'cat', 'snake', 'cat', 'dog', 'dog'],\n",
    "        'age': [2.5, 3, 0.5, np.nan, 5, 2, 4.5, np.nan, 7, 3],\n",
    "        'visits': [1, 3, 2, 3, 2, 3, 1, 1, 2, 1],\n",
    "        'priority': ['yes', 'yes', 'no', 'yes', 'no', 'no', 'no', 'yes', 'no', 'no']}\n",
    "\n",
    "labels = ['a', 'b', 'c', 'd', 'e', 'f', 'g', 'h', 'i', 'j']\n",
    "\n",
    "df = pd.DataFrame(data, index=labels)\n",
    "\n",
    "#### YOUR ANSWER BELOW THIS LINE ######\n",
    "\n",
    "df[:3]"
   ]
  },
  {
   "cell_type": "code",
   "execution_count": 52,
   "id": "4413febf",
   "metadata": {},
   "outputs": [
    {
     "data": {
      "text/html": [
       "<div>\n",
       "<style scoped>\n",
       "    .dataframe tbody tr th:only-of-type {\n",
       "        vertical-align: middle;\n",
       "    }\n",
       "\n",
       "    .dataframe tbody tr th {\n",
       "        vertical-align: top;\n",
       "    }\n",
       "\n",
       "    .dataframe thead th {\n",
       "        text-align: right;\n",
       "    }\n",
       "</style>\n",
       "<table border=\"1\" class=\"dataframe\">\n",
       "  <thead>\n",
       "    <tr style=\"text-align: right;\">\n",
       "      <th></th>\n",
       "      <th>animal</th>\n",
       "      <th>age</th>\n",
       "    </tr>\n",
       "  </thead>\n",
       "  <tbody>\n",
       "    <tr>\n",
       "      <th>d</th>\n",
       "      <td>dog</td>\n",
       "      <td>NaN</td>\n",
       "    </tr>\n",
       "    <tr>\n",
       "      <th>e</th>\n",
       "      <td>dog</td>\n",
       "      <td>5.0</td>\n",
       "    </tr>\n",
       "    <tr>\n",
       "      <th>i</th>\n",
       "      <td>dog</td>\n",
       "      <td>7.0</td>\n",
       "    </tr>\n",
       "  </tbody>\n",
       "</table>\n",
       "</div>"
      ],
      "text/plain": [
       "  animal  age\n",
       "d    dog  NaN\n",
       "e    dog  5.0\n",
       "i    dog  7.0"
      ]
     },
     "execution_count": 52,
     "metadata": {},
     "output_type": "execute_result"
    }
   ],
   "source": [
    "df.loc[df.index[[3, 4, 8]], ['animal', 'age']]"
   ]
  },
  {
   "cell_type": "code",
   "execution_count": 53,
   "id": "f341f123",
   "metadata": {},
   "outputs": [
    {
     "data": {
      "text/html": [
       "<div>\n",
       "<style scoped>\n",
       "    .dataframe tbody tr th:only-of-type {\n",
       "        vertical-align: middle;\n",
       "    }\n",
       "\n",
       "    .dataframe tbody tr th {\n",
       "        vertical-align: top;\n",
       "    }\n",
       "\n",
       "    .dataframe thead th {\n",
       "        text-align: right;\n",
       "    }\n",
       "</style>\n",
       "<table border=\"1\" class=\"dataframe\">\n",
       "  <thead>\n",
       "    <tr style=\"text-align: right;\">\n",
       "      <th></th>\n",
       "      <th>animal</th>\n",
       "      <th>age</th>\n",
       "      <th>visits</th>\n",
       "      <th>priority</th>\n",
       "    </tr>\n",
       "  </thead>\n",
       "  <tbody>\n",
       "    <tr>\n",
       "      <th>b</th>\n",
       "      <td>cat</td>\n",
       "      <td>3.0</td>\n",
       "      <td>3</td>\n",
       "      <td>yes</td>\n",
       "    </tr>\n",
       "    <tr>\n",
       "      <th>d</th>\n",
       "      <td>dog</td>\n",
       "      <td>NaN</td>\n",
       "      <td>3</td>\n",
       "      <td>yes</td>\n",
       "    </tr>\n",
       "    <tr>\n",
       "      <th>f</th>\n",
       "      <td>cat</td>\n",
       "      <td>2.0</td>\n",
       "      <td>3</td>\n",
       "      <td>no</td>\n",
       "    </tr>\n",
       "  </tbody>\n",
       "</table>\n",
       "</div>"
      ],
      "text/plain": [
       "  animal  age  visits priority\n",
       "b    cat  3.0       3      yes\n",
       "d    dog  NaN       3      yes\n",
       "f    cat  2.0       3       no"
      ]
     },
     "execution_count": 53,
     "metadata": {},
     "output_type": "execute_result"
    }
   ],
   "source": [
    "df[df['visits'] > 2]"
   ]
  },
  {
   "cell_type": "code",
   "execution_count": 54,
   "id": "567f19ef",
   "metadata": {},
   "outputs": [
    {
     "data": {
      "text/html": [
       "<div>\n",
       "<style scoped>\n",
       "    .dataframe tbody tr th:only-of-type {\n",
       "        vertical-align: middle;\n",
       "    }\n",
       "\n",
       "    .dataframe tbody tr th {\n",
       "        vertical-align: top;\n",
       "    }\n",
       "\n",
       "    .dataframe thead th {\n",
       "        text-align: right;\n",
       "    }\n",
       "</style>\n",
       "<table border=\"1\" class=\"dataframe\">\n",
       "  <thead>\n",
       "    <tr style=\"text-align: right;\">\n",
       "      <th></th>\n",
       "      <th>animal</th>\n",
       "      <th>age</th>\n",
       "      <th>visits</th>\n",
       "      <th>priority</th>\n",
       "    </tr>\n",
       "  </thead>\n",
       "  <tbody>\n",
       "    <tr>\n",
       "      <th>a</th>\n",
       "      <td>cat</td>\n",
       "      <td>2.5</td>\n",
       "      <td>1</td>\n",
       "      <td>yes</td>\n",
       "    </tr>\n",
       "    <tr>\n",
       "      <th>f</th>\n",
       "      <td>cat</td>\n",
       "      <td>2.0</td>\n",
       "      <td>3</td>\n",
       "      <td>no</td>\n",
       "    </tr>\n",
       "  </tbody>\n",
       "</table>\n",
       "</div>"
      ],
      "text/plain": [
       "  animal  age  visits priority\n",
       "a    cat  2.5       1      yes\n",
       "f    cat  2.0       3       no"
      ]
     },
     "execution_count": 54,
     "metadata": {},
     "output_type": "execute_result"
    }
   ],
   "source": [
    "df[(df['animal'] == 'cat') & (df['age'] < 3)]"
   ]
  },
  {
   "cell_type": "code",
   "execution_count": 55,
   "id": "c96dd67a",
   "metadata": {},
   "outputs": [],
   "source": [
    "df.loc['f', 'age'] = 1.5"
   ]
  },
  {
   "cell_type": "code",
   "execution_count": 56,
   "id": "48cb3bbd",
   "metadata": {},
   "outputs": [
    {
     "data": {
      "text/plain": [
       "animal\n",
       "cat      2.333333\n",
       "dog      5.000000\n",
       "snake    2.500000\n",
       "Name: age, dtype: float64"
      ]
     },
     "execution_count": 56,
     "metadata": {},
     "output_type": "execute_result"
    }
   ],
   "source": [
    "df.groupby(['animal'])['age'].mean()"
   ]
  },
  {
   "cell_type": "code",
   "execution_count": 57,
   "id": "e9c35376",
   "metadata": {},
   "outputs": [
    {
     "data": {
      "text/plain": [
       "a    2.5\n",
       "b    3.0\n",
       "c    0.5\n",
       "d    NaN\n",
       "e    5.0\n",
       "f    1.5\n",
       "g    4.5\n",
       "h    NaN\n",
       "i    7.0\n",
       "j    3.0\n",
       "Name: age, dtype: float64"
      ]
     },
     "execution_count": 57,
     "metadata": {},
     "output_type": "execute_result"
    }
   ],
   "source": [
    "df[['age']].squeeze()"
   ]
  },
  {
   "cell_type": "code",
   "execution_count": 58,
   "id": "a8b41194",
   "metadata": {},
   "outputs": [
    {
     "name": "stdout",
     "output_type": "stream",
     "text": [
      "  animal  age  visits priority\n",
      "i    dog  7.0       2       no\n",
      "e    dog  5.0       2       no\n",
      "g  snake  4.5       1       no\n",
      "j    dog  3.0       1       no\n",
      "b    cat  3.0       3      yes\n",
      "a    cat  2.5       1      yes\n",
      "f    cat  1.5       3       no\n",
      "c  snake  0.5       2       no\n",
      "h    cat  NaN       1      yes\n",
      "d    dog  NaN       3      yes\n"
     ]
    }
   ],
   "source": [
    "# Отсортируйте датафрейм по столбцу age в порядке убывания, а затем \n",
    "# по столбцу visits в порядке возрастания. \n",
    "\n",
    "df = df.sort_values(by = ['age', 'visits'], ascending=[False, True])\n",
    "print(df)\n"
   ]
  },
  {
   "cell_type": "code",
   "execution_count": 59,
   "id": "a5e696fc",
   "metadata": {},
   "outputs": [
    {
     "data": {
      "text/html": [
       "<div>\n",
       "<style scoped>\n",
       "    .dataframe tbody tr th:only-of-type {\n",
       "        vertical-align: middle;\n",
       "    }\n",
       "\n",
       "    .dataframe tbody tr th {\n",
       "        vertical-align: top;\n",
       "    }\n",
       "\n",
       "    .dataframe thead th {\n",
       "        text-align: right;\n",
       "    }\n",
       "</style>\n",
       "<table border=\"1\" class=\"dataframe\">\n",
       "  <thead>\n",
       "    <tr style=\"text-align: right;\">\n",
       "      <th></th>\n",
       "      <th>animal</th>\n",
       "      <th>age</th>\n",
       "      <th>visits</th>\n",
       "      <th>priority</th>\n",
       "    </tr>\n",
       "  </thead>\n",
       "  <tbody>\n",
       "    <tr>\n",
       "      <th>i</th>\n",
       "      <td>dog</td>\n",
       "      <td>7.0</td>\n",
       "      <td>2</td>\n",
       "      <td>False</td>\n",
       "    </tr>\n",
       "    <tr>\n",
       "      <th>e</th>\n",
       "      <td>dog</td>\n",
       "      <td>5.0</td>\n",
       "      <td>2</td>\n",
       "      <td>False</td>\n",
       "    </tr>\n",
       "    <tr>\n",
       "      <th>g</th>\n",
       "      <td>snake</td>\n",
       "      <td>4.5</td>\n",
       "      <td>1</td>\n",
       "      <td>False</td>\n",
       "    </tr>\n",
       "    <tr>\n",
       "      <th>j</th>\n",
       "      <td>dog</td>\n",
       "      <td>3.0</td>\n",
       "      <td>1</td>\n",
       "      <td>False</td>\n",
       "    </tr>\n",
       "    <tr>\n",
       "      <th>b</th>\n",
       "      <td>cat</td>\n",
       "      <td>3.0</td>\n",
       "      <td>3</td>\n",
       "      <td>True</td>\n",
       "    </tr>\n",
       "    <tr>\n",
       "      <th>a</th>\n",
       "      <td>cat</td>\n",
       "      <td>2.5</td>\n",
       "      <td>1</td>\n",
       "      <td>True</td>\n",
       "    </tr>\n",
       "    <tr>\n",
       "      <th>f</th>\n",
       "      <td>cat</td>\n",
       "      <td>1.5</td>\n",
       "      <td>3</td>\n",
       "      <td>False</td>\n",
       "    </tr>\n",
       "    <tr>\n",
       "      <th>c</th>\n",
       "      <td>snake</td>\n",
       "      <td>0.5</td>\n",
       "      <td>2</td>\n",
       "      <td>False</td>\n",
       "    </tr>\n",
       "    <tr>\n",
       "      <th>h</th>\n",
       "      <td>cat</td>\n",
       "      <td>NaN</td>\n",
       "      <td>1</td>\n",
       "      <td>True</td>\n",
       "    </tr>\n",
       "    <tr>\n",
       "      <th>d</th>\n",
       "      <td>dog</td>\n",
       "      <td>NaN</td>\n",
       "      <td>3</td>\n",
       "      <td>True</td>\n",
       "    </tr>\n",
       "  </tbody>\n",
       "</table>\n",
       "</div>"
      ],
      "text/plain": [
       "  animal  age  visits  priority\n",
       "i    dog  7.0       2     False\n",
       "e    dog  5.0       2     False\n",
       "g  snake  4.5       1     False\n",
       "j    dog  3.0       1     False\n",
       "b    cat  3.0       3      True\n",
       "a    cat  2.5       1      True\n",
       "f    cat  1.5       3     False\n",
       "c  snake  0.5       2     False\n",
       "h    cat  NaN       1      True\n",
       "d    dog  NaN       3      True"
      ]
     },
     "execution_count": 59,
     "metadata": {},
     "output_type": "execute_result"
    }
   ],
   "source": [
    "# Столбец priority содержит строковые значения yes и no. \n",
    "# Замените их на булевы True и False\n",
    "\n",
    "df['priority'] = df['priority'].map({'yes': True, 'no': False})\n",
    "df"
   ]
  },
  {
   "cell_type": "code",
   "execution_count": 60,
   "id": "2f06b2c8",
   "metadata": {},
   "outputs": [
    {
     "data": {
      "text/html": [
       "<div>\n",
       "<style scoped>\n",
       "    .dataframe tbody tr th:only-of-type {\n",
       "        vertical-align: middle;\n",
       "    }\n",
       "\n",
       "    .dataframe tbody tr th {\n",
       "        vertical-align: top;\n",
       "    }\n",
       "\n",
       "    .dataframe thead th {\n",
       "        text-align: right;\n",
       "    }\n",
       "</style>\n",
       "<table border=\"1\" class=\"dataframe\">\n",
       "  <thead>\n",
       "    <tr style=\"text-align: right;\">\n",
       "      <th>visits</th>\n",
       "      <th>1</th>\n",
       "      <th>2</th>\n",
       "      <th>3</th>\n",
       "    </tr>\n",
       "    <tr>\n",
       "      <th>animal</th>\n",
       "      <th></th>\n",
       "      <th></th>\n",
       "      <th></th>\n",
       "    </tr>\n",
       "  </thead>\n",
       "  <tbody>\n",
       "    <tr>\n",
       "      <th>cat</th>\n",
       "      <td>2.5</td>\n",
       "      <td>NaN</td>\n",
       "      <td>2.25</td>\n",
       "    </tr>\n",
       "    <tr>\n",
       "      <th>dog</th>\n",
       "      <td>3.0</td>\n",
       "      <td>6.0</td>\n",
       "      <td>NaN</td>\n",
       "    </tr>\n",
       "    <tr>\n",
       "      <th>snake</th>\n",
       "      <td>4.5</td>\n",
       "      <td>0.5</td>\n",
       "      <td>NaN</td>\n",
       "    </tr>\n",
       "  </tbody>\n",
       "</table>\n",
       "</div>"
      ],
      "text/plain": [
       "visits    1    2     3\n",
       "animal                \n",
       "cat     2.5  NaN  2.25\n",
       "dog     3.0  6.0   NaN\n",
       "snake   4.5  0.5   NaN"
      ]
     },
     "execution_count": 60,
     "metadata": {},
     "output_type": "execute_result"
    }
   ],
   "source": [
    "\"\"\"\n",
    "Определите средний возраст для каждого типа животного и количества \n",
    "посещений.\n",
    "\n",
    "(Другими словами, постройте сводную таблицу, где каждая строка — \n",
    "это тип животного, каждый столбец — количество посещений, \n",
    "а значения — средний возраст).\n",
    "\"\"\"\n",
    "\n",
    "pd.pivot_table(df, values='age', index='animal', \n",
    "               columns='visits', aggfunc=np.mean)"
   ]
  },
  {
   "cell_type": "code",
   "execution_count": 61,
   "id": "b8bf413c",
   "metadata": {},
   "outputs": [
    {
     "data": {
      "text/html": [
       "<div>\n",
       "<style scoped>\n",
       "    .dataframe tbody tr th:only-of-type {\n",
       "        vertical-align: middle;\n",
       "    }\n",
       "\n",
       "    .dataframe tbody tr th {\n",
       "        vertical-align: top;\n",
       "    }\n",
       "\n",
       "    .dataframe thead th {\n",
       "        text-align: right;\n",
       "    }\n",
       "</style>\n",
       "<table border=\"1\" class=\"dataframe\">\n",
       "  <thead>\n",
       "    <tr style=\"text-align: right;\">\n",
       "      <th></th>\n",
       "      <th>0</th>\n",
       "      <th>1</th>\n",
       "      <th>2</th>\n",
       "      <th>mean</th>\n",
       "    </tr>\n",
       "  </thead>\n",
       "  <tbody>\n",
       "    <tr>\n",
       "      <th>0</th>\n",
       "      <td>-0.469429</td>\n",
       "      <td>-0.032952</td>\n",
       "      <td>0.502381</td>\n",
       "      <td>0.0</td>\n",
       "    </tr>\n",
       "    <tr>\n",
       "      <th>1</th>\n",
       "      <td>0.280649</td>\n",
       "      <td>0.092736</td>\n",
       "      <td>-0.373386</td>\n",
       "      <td>0.0</td>\n",
       "    </tr>\n",
       "    <tr>\n",
       "      <th>2</th>\n",
       "      <td>-0.103336</td>\n",
       "      <td>0.085149</td>\n",
       "      <td>0.018186</td>\n",
       "      <td>0.0</td>\n",
       "    </tr>\n",
       "  </tbody>\n",
       "</table>\n",
       "</div>"
      ],
      "text/plain": [
       "          0         1         2  mean\n",
       "0 -0.469429 -0.032952  0.502381   0.0\n",
       "1  0.280649  0.092736 -0.373386   0.0\n",
       "2 -0.103336  0.085149  0.018186   0.0"
      ]
     },
     "execution_count": 61,
     "metadata": {},
     "output_type": "execute_result"
    }
   ],
   "source": [
    "# Вычтите среднее значение строки из каждого элемента в строке.\n",
    "\n",
    "df = pd.DataFrame([[0.020448, 0.456925, 0.992258], [0.743399, 0.555486, 0.089364], [0.094699, 0.283184, 0.216221]])\n",
    "\n",
    "df['mean'] = df.mean(axis=1)\n",
    "df.iloc[:, :-1].apply(lambda x: x - df['mean'])\n",
    "\n",
    "# or\n",
    "df.apply(lambda x: x - x.mean(), axis=1)\n",
    "df.sub(df.mean(axis=1), 0)"
   ]
  },
  {
   "cell_type": "code",
   "execution_count": 62,
   "id": "c4bf50f8",
   "metadata": {},
   "outputs": [
    {
     "name": "stdout",
     "output_type": "stream",
     "text": [
      "a\n",
      "a\n"
     ]
    }
   ],
   "source": [
    "# В каком столбце чисел сумма наименьшая? \n",
    "# Выведите на экран название этого столбца.\n",
    "\n",
    "df = pd.DataFrame([[0.020448, 0.456925, 0.992258], [0.743399, 0.555486, 0.089364], [0.094699, 0.283184, 0.216221]], columns=list('abc'))\n",
    "\n",
    "print(df.sum(axis=0).idxmin())\n",
    "print(df.sum().sort_values().index[0])\n"
   ]
  },
  {
   "cell_type": "code",
   "execution_count": 63,
   "id": "c5c5bf5f",
   "metadata": {},
   "outputs": [
    {
     "name": "stdout",
     "output_type": "stream",
     "text": [
      "2\n"
     ]
    }
   ],
   "source": [
    "# Как подсчитать, сколько уникальных строк имеет датафрейм (т. е. игнорировать все повторяющиеся строки)?\n",
    "\n",
    "df = pd.DataFrame([[0.020448, 0.456925, 0.992258], [0.743399, 0.555486, 0.089364], [0.020448, 0.456925, 0.992258], [0.094699, 0.283184, 0.216221]], columns=list('abc'))\n",
    "print(len(df.drop_duplicates(keep=False)))\n"
   ]
  },
  {
   "cell_type": "code",
   "execution_count": 64,
   "id": "f95429e6",
   "metadata": {},
   "outputs": [
    {
     "data": {
      "text/html": [
       "<div>\n",
       "<style scoped>\n",
       "    .dataframe tbody tr th:only-of-type {\n",
       "        vertical-align: middle;\n",
       "    }\n",
       "\n",
       "    .dataframe tbody tr th {\n",
       "        vertical-align: top;\n",
       "    }\n",
       "\n",
       "    .dataframe thead th {\n",
       "        text-align: right;\n",
       "    }\n",
       "</style>\n",
       "<table border=\"1\" class=\"dataframe\">\n",
       "  <thead>\n",
       "    <tr style=\"text-align: right;\">\n",
       "      <th></th>\n",
       "      <th>a</th>\n",
       "      <th>b</th>\n",
       "      <th>c</th>\n",
       "      <th>d</th>\n",
       "      <th>e</th>\n",
       "      <th>f</th>\n",
       "      <th>g</th>\n",
       "      <th>h</th>\n",
       "      <th>i</th>\n",
       "      <th>j</th>\n",
       "    </tr>\n",
       "  </thead>\n",
       "  <tbody>\n",
       "    <tr>\n",
       "      <th>0</th>\n",
       "      <td>0.04</td>\n",
       "      <td>NaN</td>\n",
       "      <td>NaN</td>\n",
       "      <td>0.25</td>\n",
       "      <td>NaN</td>\n",
       "      <td>0.43</td>\n",
       "      <td>0.71</td>\n",
       "      <td>0.51</td>\n",
       "      <td>NaN</td>\n",
       "      <td>NaN</td>\n",
       "    </tr>\n",
       "    <tr>\n",
       "      <th>1</th>\n",
       "      <td>NaN</td>\n",
       "      <td>NaN</td>\n",
       "      <td>NaN</td>\n",
       "      <td>0.04</td>\n",
       "      <td>0.76</td>\n",
       "      <td>NaN</td>\n",
       "      <td>NaN</td>\n",
       "      <td>0.67</td>\n",
       "      <td>0.76</td>\n",
       "      <td>0.16</td>\n",
       "    </tr>\n",
       "    <tr>\n",
       "      <th>2</th>\n",
       "      <td>NaN</td>\n",
       "      <td>NaN</td>\n",
       "      <td>0.50</td>\n",
       "      <td>NaN</td>\n",
       "      <td>0.31</td>\n",
       "      <td>0.40</td>\n",
       "      <td>NaN</td>\n",
       "      <td>NaN</td>\n",
       "      <td>0.24</td>\n",
       "      <td>0.01</td>\n",
       "    </tr>\n",
       "    <tr>\n",
       "      <th>3</th>\n",
       "      <td>0.49</td>\n",
       "      <td>NaN</td>\n",
       "      <td>NaN</td>\n",
       "      <td>0.62</td>\n",
       "      <td>0.73</td>\n",
       "      <td>0.26</td>\n",
       "      <td>0.85</td>\n",
       "      <td>NaN</td>\n",
       "      <td>NaN</td>\n",
       "      <td>NaN</td>\n",
       "    </tr>\n",
       "    <tr>\n",
       "      <th>4</th>\n",
       "      <td>NaN</td>\n",
       "      <td>NaN</td>\n",
       "      <td>0.41</td>\n",
       "      <td>NaN</td>\n",
       "      <td>0.05</td>\n",
       "      <td>NaN</td>\n",
       "      <td>0.61</td>\n",
       "      <td>NaN</td>\n",
       "      <td>0.48</td>\n",
       "      <td>0.68</td>\n",
       "    </tr>\n",
       "    <tr>\n",
       "      <th>...</th>\n",
       "      <td>...</td>\n",
       "      <td>...</td>\n",
       "      <td>...</td>\n",
       "      <td>...</td>\n",
       "      <td>...</td>\n",
       "      <td>...</td>\n",
       "      <td>...</td>\n",
       "      <td>...</td>\n",
       "      <td>...</td>\n",
       "      <td>...</td>\n",
       "    </tr>\n",
       "    <tr>\n",
       "      <th>0</th>\n",
       "      <td>0.04</td>\n",
       "      <td>NaN</td>\n",
       "      <td>NaN</td>\n",
       "      <td>0.25</td>\n",
       "      <td>NaN</td>\n",
       "      <td>0.43</td>\n",
       "      <td>0.71</td>\n",
       "      <td>0.51</td>\n",
       "      <td>NaN</td>\n",
       "      <td>NaN</td>\n",
       "    </tr>\n",
       "    <tr>\n",
       "      <th>1</th>\n",
       "      <td>NaN</td>\n",
       "      <td>NaN</td>\n",
       "      <td>NaN</td>\n",
       "      <td>0.04</td>\n",
       "      <td>0.76</td>\n",
       "      <td>NaN</td>\n",
       "      <td>NaN</td>\n",
       "      <td>0.67</td>\n",
       "      <td>0.76</td>\n",
       "      <td>0.16</td>\n",
       "    </tr>\n",
       "    <tr>\n",
       "      <th>2</th>\n",
       "      <td>NaN</td>\n",
       "      <td>NaN</td>\n",
       "      <td>0.50</td>\n",
       "      <td>NaN</td>\n",
       "      <td>0.31</td>\n",
       "      <td>0.40</td>\n",
       "      <td>NaN</td>\n",
       "      <td>NaN</td>\n",
       "      <td>0.24</td>\n",
       "      <td>0.01</td>\n",
       "    </tr>\n",
       "    <tr>\n",
       "      <th>3</th>\n",
       "      <td>0.49</td>\n",
       "      <td>NaN</td>\n",
       "      <td>NaN</td>\n",
       "      <td>0.62</td>\n",
       "      <td>0.73</td>\n",
       "      <td>0.26</td>\n",
       "      <td>0.85</td>\n",
       "      <td>NaN</td>\n",
       "      <td>NaN</td>\n",
       "      <td>NaN</td>\n",
       "    </tr>\n",
       "    <tr>\n",
       "      <th>4</th>\n",
       "      <td>NaN</td>\n",
       "      <td>NaN</td>\n",
       "      <td>0.41</td>\n",
       "      <td>NaN</td>\n",
       "      <td>0.05</td>\n",
       "      <td>NaN</td>\n",
       "      <td>0.61</td>\n",
       "      <td>NaN</td>\n",
       "      <td>0.48</td>\n",
       "      <td>0.68</td>\n",
       "    </tr>\n",
       "  </tbody>\n",
       "</table>\n",
       "<p>20480 rows × 10 columns</p>\n",
       "</div>"
      ],
      "text/plain": [
       "       a   b     c     d     e     f     g     h     i     j\n",
       "0   0.04 NaN   NaN  0.25   NaN  0.43  0.71  0.51   NaN   NaN\n",
       "1    NaN NaN   NaN  0.04  0.76   NaN   NaN  0.67  0.76  0.16\n",
       "2    NaN NaN  0.50   NaN  0.31  0.40   NaN   NaN  0.24  0.01\n",
       "3   0.49 NaN   NaN  0.62  0.73  0.26  0.85   NaN   NaN   NaN\n",
       "4    NaN NaN  0.41   NaN  0.05   NaN  0.61   NaN  0.48  0.68\n",
       "..   ...  ..   ...   ...   ...   ...   ...   ...   ...   ...\n",
       "0   0.04 NaN   NaN  0.25   NaN  0.43  0.71  0.51   NaN   NaN\n",
       "1    NaN NaN   NaN  0.04  0.76   NaN   NaN  0.67  0.76  0.16\n",
       "2    NaN NaN  0.50   NaN  0.31  0.40   NaN   NaN  0.24  0.01\n",
       "3   0.49 NaN   NaN  0.62  0.73  0.26  0.85   NaN   NaN   NaN\n",
       "4    NaN NaN  0.41   NaN  0.05   NaN  0.61   NaN  0.48  0.68\n",
       "\n",
       "[20480 rows x 10 columns]"
      ]
     },
     "execution_count": 64,
     "metadata": {},
     "output_type": "execute_result"
    }
   ],
   "source": [
    "# Имеется датафрейм состоящий из 10 столбцов чисел с плавающей запятой. \n",
    "# Ровно 5 записей в каждой строке являются значениями NaN. Для каждой строки датафрейма найдите столбец, содержащий третье значение NaN.\n",
    "\n",
    "nan = np.nan\n",
    "\n",
    "data = [[0.04,  nan,  nan, 0.25,  nan, 0.43, 0.71, 0.51,  nan,  nan],\n",
    "        [ nan,  nan,  nan, 0.04, 0.76,  nan,  nan, 0.67, 0.76, 0.16],\n",
    "        [ nan,  nan, 0.5 ,  nan, 0.31, 0.4 ,  nan,  nan, 0.24, 0.01],\n",
    "        [0.49,  nan,  nan, 0.62, 0.73, 0.26, 0.85,  nan,  nan,  nan],\n",
    "        [ nan,  nan, 0.41,  nan, 0.05,  nan, 0.61,  nan, 0.48, 0.68]]\n",
    "\n",
    "columns = list('abcdefghij')\n",
    "\n",
    "df = pd.DataFrame(data, columns=columns)\n",
    "for i in range(12):\n",
    "    df = pd.concat([df, df])\n",
    "df"
   ]
  },
  {
   "cell_type": "code",
   "execution_count": 65,
   "id": "107fe2e0",
   "metadata": {},
   "outputs": [
    {
     "name": "stdout",
     "output_type": "stream",
     "text": [
      "CPU times: user 2.62 s, sys: 0 ns, total: 2.62 s\n",
      "Wall time: 2.63 s\n"
     ]
    },
    {
     "data": {
      "text/plain": [
       "0        e\n",
       "1        c\n",
       "2        d\n",
       "3        h\n",
       "4        d\n",
       "        ..\n",
       "20475    e\n",
       "20476    c\n",
       "20477    d\n",
       "20478    h\n",
       "20479    d\n",
       "Length: 20480, dtype: object"
      ]
     },
     "execution_count": 65,
     "metadata": {},
     "output_type": "execute_result"
    }
   ],
   "source": [
    "%%time\n",
    "num = 0\n",
    "out = pd.Series([0]*len(df))\n",
    "for i in range(len(df)):\n",
    "    for indx, j in enumerate(df.iloc[i, :].values):\n",
    "        if np.isnan(j):\n",
    "            num += 1\n",
    "            if num == 3:\n",
    "                out[i] = df.columns[indx]\n",
    "                break\n",
    "    num = 0\n",
    "out"
   ]
  },
  {
   "cell_type": "code",
   "execution_count": 66,
   "id": "665f3a12",
   "metadata": {},
   "outputs": [
    {
     "data": {
      "text/plain": [
       "0    e\n",
       "1    c\n",
       "2    d\n",
       "3    h\n",
       "4    d\n",
       "    ..\n",
       "0    e\n",
       "1    c\n",
       "2    d\n",
       "3    h\n",
       "4    d\n",
       "Length: 20480, dtype: object"
      ]
     },
     "execution_count": 66,
     "metadata": {},
     "output_type": "execute_result"
    }
   ],
   "source": [
    "# or\n",
    "pd.DataFrame(df.isna().cumsum(axis=1) == 3).idxmax(1)\n",
    "df.isna().cumsum(axis=1).eq(3).idxmax(axis=1)"
   ]
  },
  {
   "cell_type": "code",
   "execution_count": 67,
   "id": "957d9796",
   "metadata": {},
   "outputs": [
    {
     "data": {
      "text/plain": [
       "grps\n",
       "a    409\n",
       "b    156\n",
       "c    345\n",
       "Name: vals, dtype: int64"
      ]
     },
     "execution_count": 67,
     "metadata": {},
     "output_type": "execute_result"
    }
   ],
   "source": [
    "\"\"\"\n",
    "Датафрейм содержит колонку grps (название некоторой группы) и колонку целочисленных значений vals.  \n",
    "Для каждой группы найдите сумму трех наибольших значений.\n",
    "\"\"\"\n",
    "\n",
    "df = pd.DataFrame({'grps': list('aaabbcaabcccbbc'), \n",
    "                   'vals': [12,345,3,1,45,14,4,52,54,23,235,21,57,3,87]})\n",
    "df.groupby(by='grps')['vals'].agg(lambda x: x.sort_values(ascending=False)[:3].sum())\n",
    "\n",
    "df.groupby('grps')['vals'].nlargest(3).sum(level = 1)\n",
    "df.groupby('grps')['vals'].nlargest(3).groupby('grps').sum()"
   ]
  },
  {
   "cell_type": "code",
   "execution_count": 68,
   "id": "f35252c4",
   "metadata": {},
   "outputs": [
    {
     "name": "stdout",
     "output_type": "stream",
     "text": [
      "A\n",
      "(0, 10]      635\n",
      "(10, 20]     360\n",
      "(20, 30]     315\n",
      "(30, 40]     306\n",
      "(40, 50]     750\n",
      "(50, 60]     284\n",
      "(60, 70]     424\n",
      "(70, 80]     526\n",
      "(80, 90]     835\n",
      "(90, 100]    852\n",
      "Name: B, dtype: int64\n"
     ]
    }
   ],
   "source": [
    "\"\"\"\n",
    "Датафрейм df имеет два целочисленных столбца «A» и «B». \n",
    "Значения в «A» находятся в диапазоне от 1 до 100 (включительно).\n",
    "\n",
    "Для каждой группы из 10 последовательных целых чисел в столбце А \n",
    "(т. е. (0, 10], (10, 20], ...) вычислите сумму соответствующих \n",
    "значений в столбце B.\n",
    "\"\"\"\n",
    "\n",
    "df = pd.DataFrame(np.random.RandomState(8765).randint(1, 101, size=(100, 2)), columns = [\"A\", \"B\"])\n",
    "\n",
    "df.index = pd.cut(df[\"A\"], np.arange(0, 101, 10))\n",
    "# or\n",
    "# df.index = pd.cut(df['A'], bins = 10, right=True, precision=-1)\n",
    "\n",
    "print(df.groupby(df.index)[\"B\"].sum())"
   ]
  },
  {
   "cell_type": "code",
   "execution_count": 69,
   "id": "3e459cbf",
   "metadata": {},
   "outputs": [
    {
     "data": {
      "text/html": [
       "<div>\n",
       "<style scoped>\n",
       "    .dataframe tbody tr th:only-of-type {\n",
       "        vertical-align: middle;\n",
       "    }\n",
       "\n",
       "    .dataframe tbody tr th {\n",
       "        vertical-align: top;\n",
       "    }\n",
       "\n",
       "    .dataframe thead th {\n",
       "        text-align: right;\n",
       "    }\n",
       "</style>\n",
       "<table border=\"1\" class=\"dataframe\">\n",
       "  <thead>\n",
       "    <tr style=\"text-align: right;\">\n",
       "      <th></th>\n",
       "      <th>0</th>\n",
       "      <th>1</th>\n",
       "      <th>2</th>\n",
       "      <th>3</th>\n",
       "      <th>4</th>\n",
       "      <th>5</th>\n",
       "      <th>6</th>\n",
       "      <th>7</th>\n",
       "    </tr>\n",
       "  </thead>\n",
       "  <tbody>\n",
       "    <tr>\n",
       "      <th>0</th>\n",
       "      <td>38</td>\n",
       "      <td>38</td>\n",
       "      <td>46</td>\n",
       "      <td>46</td>\n",
       "      <td>13</td>\n",
       "      <td>24</td>\n",
       "      <td>3</td>\n",
       "      <td>54</td>\n",
       "    </tr>\n",
       "    <tr>\n",
       "      <th>1</th>\n",
       "      <td>18</td>\n",
       "      <td>47</td>\n",
       "      <td>4</td>\n",
       "      <td>42</td>\n",
       "      <td>8</td>\n",
       "      <td>66</td>\n",
       "      <td>50</td>\n",
       "      <td>46</td>\n",
       "    </tr>\n",
       "    <tr>\n",
       "      <th>2</th>\n",
       "      <td>62</td>\n",
       "      <td>36</td>\n",
       "      <td>19</td>\n",
       "      <td>19</td>\n",
       "      <td>77</td>\n",
       "      <td>17</td>\n",
       "      <td>7</td>\n",
       "      <td>63</td>\n",
       "    </tr>\n",
       "    <tr>\n",
       "      <th>3</th>\n",
       "      <td>28</td>\n",
       "      <td>47</td>\n",
       "      <td>46</td>\n",
       "      <td>65</td>\n",
       "      <td>63</td>\n",
       "      <td>12</td>\n",
       "      <td>16</td>\n",
       "      <td>24</td>\n",
       "    </tr>\n",
       "    <tr>\n",
       "      <th>4</th>\n",
       "      <td>14</td>\n",
       "      <td>51</td>\n",
       "      <td>34</td>\n",
       "      <td>56</td>\n",
       "      <td>29</td>\n",
       "      <td>59</td>\n",
       "      <td>92</td>\n",
       "      <td>79</td>\n",
       "    </tr>\n",
       "    <tr>\n",
       "      <th>5</th>\n",
       "      <td>58</td>\n",
       "      <td>76</td>\n",
       "      <td>96</td>\n",
       "      <td>45</td>\n",
       "      <td>38</td>\n",
       "      <td>76</td>\n",
       "      <td>58</td>\n",
       "      <td>40</td>\n",
       "    </tr>\n",
       "    <tr>\n",
       "      <th>6</th>\n",
       "      <td>10</td>\n",
       "      <td>34</td>\n",
       "      <td>48</td>\n",
       "      <td>40</td>\n",
       "      <td>37</td>\n",
       "      <td>23</td>\n",
       "      <td>41</td>\n",
       "      <td>26</td>\n",
       "    </tr>\n",
       "    <tr>\n",
       "      <th>7</th>\n",
       "      <td>55</td>\n",
       "      <td>70</td>\n",
       "      <td>91</td>\n",
       "      <td>27</td>\n",
       "      <td>79</td>\n",
       "      <td>92</td>\n",
       "      <td>20</td>\n",
       "      <td>31</td>\n",
       "    </tr>\n",
       "  </tbody>\n",
       "</table>\n",
       "</div>"
      ],
      "text/plain": [
       "    0   1   2   3   4   5   6   7\n",
       "0  38  38  46  46  13  24   3  54\n",
       "1  18  47   4  42   8  66  50  46\n",
       "2  62  36  19  19  77  17   7  63\n",
       "3  28  47  46  65  63  12  16  24\n",
       "4  14  51  34  56  29  59  92  79\n",
       "5  58  76  96  45  38  76  58  40\n",
       "6  10  34  48  40  37  23  41  26\n",
       "7  55  70  91  27  79  92  20  31"
      ]
     },
     "execution_count": 69,
     "metadata": {},
     "output_type": "execute_result"
    }
   ],
   "source": [
    "# Создайте список индексов столбцов и строк для 3 самых \n",
    "# больших значений в предлагаемом датафрейме.\n",
    "\n",
    "df = pd.DataFrame(np.random.RandomState(30).randint(1, 101, size=(8, 8)))\n",
    "df"
   ]
  },
  {
   "cell_type": "code",
   "execution_count": 70,
   "id": "c8a7a82e",
   "metadata": {},
   "outputs": [
    {
     "data": {
      "text/plain": [
       "[(2, 5), (5, 7), (6, 4)]"
      ]
     },
     "execution_count": 70,
     "metadata": {},
     "output_type": "execute_result"
    }
   ],
   "source": [
    "max3 = np.sort(df.values.reshape(1, -1))[0][-3:]\n",
    "list(df[df.isin(max3)].idxmax().dropna().map(int).items())"
   ]
  },
  {
   "cell_type": "code",
   "execution_count": 71,
   "id": "67221d54",
   "metadata": {},
   "outputs": [
    {
     "data": {
      "text/plain": [
       "[(5, 7), (6, 4), (2, 5)]"
      ]
     },
     "execution_count": 71,
     "metadata": {},
     "output_type": "execute_result"
    }
   ],
   "source": [
    "df.unstack().sort_values()[-3:].index.to_list()"
   ]
  },
  {
   "cell_type": "code",
   "execution_count": 72,
   "id": "44c74d34",
   "metadata": {},
   "outputs": [
    {
     "data": {
      "text/html": [
       "<div>\n",
       "<style scoped>\n",
       "    .dataframe tbody tr th:only-of-type {\n",
       "        vertical-align: middle;\n",
       "    }\n",
       "\n",
       "    .dataframe tbody tr th {\n",
       "        vertical-align: top;\n",
       "    }\n",
       "\n",
       "    .dataframe thead th {\n",
       "        text-align: right;\n",
       "    }\n",
       "</style>\n",
       "<table border=\"1\" class=\"dataframe\">\n",
       "  <thead>\n",
       "    <tr style=\"text-align: right;\">\n",
       "      <th></th>\n",
       "      <th>vals</th>\n",
       "      <th>grps</th>\n",
       "      <th>patched_vals</th>\n",
       "    </tr>\n",
       "  </thead>\n",
       "  <tbody>\n",
       "    <tr>\n",
       "      <th>0</th>\n",
       "      <td>-12</td>\n",
       "      <td>A</td>\n",
       "      <td>13.6</td>\n",
       "    </tr>\n",
       "    <tr>\n",
       "      <th>1</th>\n",
       "      <td>-7</td>\n",
       "      <td>B</td>\n",
       "      <td>28.0</td>\n",
       "    </tr>\n",
       "    <tr>\n",
       "      <th>2</th>\n",
       "      <td>-14</td>\n",
       "      <td>A</td>\n",
       "      <td>13.6</td>\n",
       "    </tr>\n",
       "    <tr>\n",
       "      <th>3</th>\n",
       "      <td>4</td>\n",
       "      <td>A</td>\n",
       "      <td>4.0</td>\n",
       "    </tr>\n",
       "    <tr>\n",
       "      <th>4</th>\n",
       "      <td>-7</td>\n",
       "      <td>A</td>\n",
       "      <td>13.6</td>\n",
       "    </tr>\n",
       "    <tr>\n",
       "      <th>...</th>\n",
       "      <td>...</td>\n",
       "      <td>...</td>\n",
       "      <td>...</td>\n",
       "    </tr>\n",
       "    <tr>\n",
       "      <th>10</th>\n",
       "      <td>28</td>\n",
       "      <td>A</td>\n",
       "      <td>28.0</td>\n",
       "    </tr>\n",
       "    <tr>\n",
       "      <th>11</th>\n",
       "      <td>12</td>\n",
       "      <td>A</td>\n",
       "      <td>12.0</td>\n",
       "    </tr>\n",
       "    <tr>\n",
       "      <th>12</th>\n",
       "      <td>16</td>\n",
       "      <td>A</td>\n",
       "      <td>16.0</td>\n",
       "    </tr>\n",
       "    <tr>\n",
       "      <th>13</th>\n",
       "      <td>-24</td>\n",
       "      <td>A</td>\n",
       "      <td>13.6</td>\n",
       "    </tr>\n",
       "    <tr>\n",
       "      <th>14</th>\n",
       "      <td>-12</td>\n",
       "      <td>A</td>\n",
       "      <td>13.6</td>\n",
       "    </tr>\n",
       "  </tbody>\n",
       "</table>\n",
       "<p>15 rows × 3 columns</p>\n",
       "</div>"
      ],
      "text/plain": [
       "    vals grps  patched_vals\n",
       "0    -12    A          13.6\n",
       "1     -7    B          28.0\n",
       "2    -14    A          13.6\n",
       "3      4    A           4.0\n",
       "4     -7    A          13.6\n",
       "..   ...  ...           ...\n",
       "10    28    A          28.0\n",
       "11    12    A          12.0\n",
       "12    16    A          16.0\n",
       "13   -24    A          13.6\n",
       "14   -12    A          13.6\n",
       "\n",
       "[15 rows x 3 columns]"
      ]
     },
     "execution_count": 72,
     "metadata": {},
     "output_type": "execute_result"
    }
   ],
   "source": [
    "\"\"\"\n",
    "Создайте новый столбец patched_vals, который содержит те же значения\n",
    ", что и vals, но отрицательные значения заменить средним значением \n",
    "группы.\n",
    "\"\"\"\n",
    "\n",
    "df = pd.DataFrame({\"vals\": np.random.RandomState(31).randint(-30, 30, size=15), \n",
    "                   \"grps\": np.random.RandomState(31).choice([\"A\", \"B\"], 15)})\n",
    "mean_ = df[df[\"vals\"] > 0].groupby(\"grps\")[\"vals\"].mean()\n",
    "df[\"patched_vals\"] = np.where(df[\"vals\"] > 0, df[\"vals\"], mean_[df[\"grps\"]])\n",
    "df\n"
   ]
  },
  {
   "cell_type": "code",
   "execution_count": 73,
   "id": "7d8985a9",
   "metadata": {},
   "outputs": [
    {
     "data": {
      "text/plain": [
       "array([1.76776695, 1.06066017, 0.35355339, 0.35355339, 1.06066017,\n",
       "       1.76776695])"
      ]
     },
     "execution_count": 73,
     "metadata": {},
     "output_type": "execute_result"
    }
   ],
   "source": [
    "# уменьшение размерности\n",
    "\n",
    "import numpy as np\n",
    "\n",
    "P2_old = np.array([1.5, 2, 2.5, 3, 3.5, 4])\n",
    "P1_old = np.array([0.5, 1, 1.5, 2, 2.5, 3])\n",
    "\n",
    "center_P1 = P1_old.mean()\n",
    "center_P2 = P2_old.mean()\n",
    "\n",
    "P_new = np.sqrt((P1_old - center_P1) ** 2 + (P2_old - center_P2) ** 2)\n",
    "P_new"
   ]
  },
  {
   "cell_type": "code",
   "execution_count": 74,
   "id": "eca9af9e",
   "metadata": {},
   "outputs": [
    {
     "data": {
      "text/plain": [
       "23.508792429234397"
      ]
     },
     "execution_count": 74,
     "metadata": {},
     "output_type": "execute_result"
    }
   ],
   "source": [
    "# Найдите сумму всех значений, которые указаны для среды (Wednesday)\n",
    "\n",
    "dti = pd.date_range(start='2021-01-01', end='2021-12-31', freq='B') \n",
    "s = pd.Series(np.random.RandomState(30).rand(len(dti)), index=dti)\n",
    "s[s.index.day_name() == \"Wednesday\"].sum()"
   ]
  },
  {
   "cell_type": "code",
   "execution_count": 75,
   "id": "f70547b3",
   "metadata": {},
   "outputs": [
    {
     "data": {
      "text/plain": [
       "2021-01-31    0.507726\n",
       "2021-02-28    0.462692\n",
       "2021-03-31    0.478605\n",
       "2021-04-30    0.564210\n",
       "2021-05-31    0.387735\n",
       "2021-06-30    0.451999\n",
       "2021-07-31    0.541958\n",
       "2021-08-31    0.553241\n",
       "2021-09-30    0.507650\n",
       "2021-10-31    0.453517\n",
       "2021-11-30    0.490528\n",
       "2021-12-31    0.495812\n",
       "Freq: M, dtype: float64"
      ]
     },
     "execution_count": 75,
     "metadata": {},
     "output_type": "execute_result"
    }
   ],
   "source": [
    "# Для каждого месяца найдите среднее значение.\n",
    "\n",
    "dti = pd.date_range(start='2021-01-01', end='2021-12-31', freq='B') \n",
    "s = pd.Series(np.random.RandomState(30).rand(len(dti)), index=dti)\n",
    "\n",
    "s.groupby(pd.Grouper(freq='M')).mean()\n",
    "\n",
    "#or\n",
    "\n",
    "s.resample(\"M\").mean()"
   ]
  },
  {
   "cell_type": "code",
   "execution_count": 76,
   "id": "784eb726",
   "metadata": {},
   "outputs": [
    {
     "data": {
      "text/html": [
       "<div>\n",
       "<style scoped>\n",
       "    .dataframe tbody tr th:only-of-type {\n",
       "        vertical-align: middle;\n",
       "    }\n",
       "\n",
       "    .dataframe tbody tr th {\n",
       "        vertical-align: top;\n",
       "    }\n",
       "\n",
       "    .dataframe thead th {\n",
       "        text-align: right;\n",
       "    }\n",
       "</style>\n",
       "<table border=\"1\" class=\"dataframe\">\n",
       "  <thead>\n",
       "    <tr style=\"text-align: right;\">\n",
       "      <th></th>\n",
       "      <th>0</th>\n",
       "      <th>1</th>\n",
       "      <th>2</th>\n",
       "      <th>3</th>\n",
       "      <th>4</th>\n",
       "      <th>5</th>\n",
       "      <th>6</th>\n",
       "      <th>7</th>\n",
       "      <th>8</th>\n",
       "      <th>9</th>\n",
       "    </tr>\n",
       "  </thead>\n",
       "  <tbody>\n",
       "    <tr>\n",
       "      <th>0</th>\n",
       "      <td>17</td>\n",
       "      <td>17</td>\n",
       "      <td>25</td>\n",
       "      <td>25</td>\n",
       "      <td>-8</td>\n",
       "      <td>3</td>\n",
       "      <td>-18</td>\n",
       "      <td>33</td>\n",
       "      <td>-3</td>\n",
       "      <td>26</td>\n",
       "    </tr>\n",
       "    <tr>\n",
       "      <th>1</th>\n",
       "      <td>-17</td>\n",
       "      <td>21</td>\n",
       "      <td>-13</td>\n",
       "      <td>45</td>\n",
       "      <td>29</td>\n",
       "      <td>25</td>\n",
       "      <td>41</td>\n",
       "      <td>15</td>\n",
       "      <td>-2</td>\n",
       "      <td>-2</td>\n",
       "    </tr>\n",
       "    <tr>\n",
       "      <th>2</th>\n",
       "      <td>-4</td>\n",
       "      <td>-14</td>\n",
       "      <td>42</td>\n",
       "      <td>7</td>\n",
       "      <td>26</td>\n",
       "      <td>25</td>\n",
       "      <td>44</td>\n",
       "      <td>42</td>\n",
       "      <td>-9</td>\n",
       "      <td>-5</td>\n",
       "    </tr>\n",
       "    <tr>\n",
       "      <th>3</th>\n",
       "      <td>3</td>\n",
       "      <td>-7</td>\n",
       "      <td>30</td>\n",
       "      <td>13</td>\n",
       "      <td>35</td>\n",
       "      <td>8</td>\n",
       "      <td>38</td>\n",
       "      <td>37</td>\n",
       "      <td>24</td>\n",
       "      <td>17</td>\n",
       "    </tr>\n",
       "    <tr>\n",
       "      <th>4</th>\n",
       "      <td>37</td>\n",
       "      <td>19</td>\n",
       "      <td>-11</td>\n",
       "      <td>13</td>\n",
       "      <td>27</td>\n",
       "      <td>19</td>\n",
       "      <td>16</td>\n",
       "      <td>2</td>\n",
       "      <td>20</td>\n",
       "      <td>5</td>\n",
       "    </tr>\n",
       "    <tr>\n",
       "      <th>5</th>\n",
       "      <td>34</td>\n",
       "      <td>49</td>\n",
       "      <td>6</td>\n",
       "      <td>-1</td>\n",
       "      <td>10</td>\n",
       "      <td>29</td>\n",
       "      <td>32</td>\n",
       "      <td>24</td>\n",
       "      <td>41</td>\n",
       "      <td>14</td>\n",
       "    </tr>\n",
       "    <tr>\n",
       "      <th>6</th>\n",
       "      <td>23</td>\n",
       "      <td>8</td>\n",
       "      <td>40</td>\n",
       "      <td>31</td>\n",
       "      <td>21</td>\n",
       "      <td>36</td>\n",
       "      <td>-4</td>\n",
       "      <td>19</td>\n",
       "      <td>13</td>\n",
       "      <td>-11</td>\n",
       "    </tr>\n",
       "    <tr>\n",
       "      <th>7</th>\n",
       "      <td>-9</td>\n",
       "      <td>-16</td>\n",
       "      <td>8</td>\n",
       "      <td>-10</td>\n",
       "      <td>-3</td>\n",
       "      <td>38</td>\n",
       "      <td>-11</td>\n",
       "      <td>25</td>\n",
       "      <td>28</td>\n",
       "      <td>35</td>\n",
       "    </tr>\n",
       "    <tr>\n",
       "      <th>8</th>\n",
       "      <td>-1</td>\n",
       "      <td>25</td>\n",
       "      <td>11</td>\n",
       "      <td>3</td>\n",
       "      <td>-9</td>\n",
       "      <td>9</td>\n",
       "      <td>24</td>\n",
       "      <td>9</td>\n",
       "      <td>-1</td>\n",
       "      <td>31</td>\n",
       "    </tr>\n",
       "    <tr>\n",
       "      <th>9</th>\n",
       "      <td>35</td>\n",
       "      <td>32</td>\n",
       "      <td>3</td>\n",
       "      <td>41</td>\n",
       "      <td>-14</td>\n",
       "      <td>19</td>\n",
       "      <td>10</td>\n",
       "      <td>24</td>\n",
       "      <td>27</td>\n",
       "      <td>-7</td>\n",
       "    </tr>\n",
       "  </tbody>\n",
       "</table>\n",
       "</div>"
      ],
      "text/plain": [
       "    0   1   2   3   4   5   6   7   8   9\n",
       "0  17  17  25  25  -8   3 -18  33  -3  26\n",
       "1 -17  21 -13  45  29  25  41  15  -2  -2\n",
       "2  -4 -14  42   7  26  25  44  42  -9  -5\n",
       "3   3  -7  30  13  35   8  38  37  24  17\n",
       "4  37  19 -11  13  27  19  16   2  20   5\n",
       "5  34  49   6  -1  10  29  32  24  41  14\n",
       "6  23   8  40  31  21  36  -4  19  13 -11\n",
       "7  -9 -16   8 -10  -3  38 -11  25  28  35\n",
       "8  -1  25  11   3  -9   9  24   9  -1  31\n",
       "9  35  32   3  41 -14  19  10  24  27  -7"
      ]
     },
     "execution_count": 76,
     "metadata": {},
     "output_type": "execute_result"
    }
   ],
   "source": [
    "\"\"\"\n",
    "Превратите датафрейм в квадрат с максимально возможной длиной стороны n, \n",
    "убрав отрицательные значения. При необходимости удалите наименьшие значения.\n",
    "Порядок положительных чисел в результате должен оставаться таким же, как и \n",
    "в оригинале.\n",
    "\n",
    "Подсказка:\n",
    "\n",
    "Шаг 1: Удалите отрицательные значения\n",
    "\n",
    "Шаг 2: Определите наибольший размер стороны квадрата n, который может получиться\n",
    "\n",
    "Шаг 3: Постройте квадрат со стороной n из ТОП n^2 наибольших значений\n",
    "\"\"\"\n",
    "\n",
    "df = pd.DataFrame(np.random.RandomState(30).randint(-20, 50, 100).reshape(10,-1))\n",
    "df"
   ]
  },
  {
   "cell_type": "code",
   "execution_count": 77,
   "id": "5bbc654a",
   "metadata": {},
   "outputs": [
    {
     "data": {
      "text/plain": [
       "array([[17., 17., 25., 25., 33., 26., 21., 45.],\n",
       "       [29., 25., 41., 15., 42., 26., 25., 44.],\n",
       "       [42., 30., 13., 35., 38., 37., 24., 17.],\n",
       "       [37., 19., 13., 27., 19., 16., 20., 34.],\n",
       "       [49., 10., 29., 32., 24., 41., 14., 23.],\n",
       "       [40., 31., 21., 36., 19., 13.,  8., 38.],\n",
       "       [25., 28., 35., 25., 11.,  9., 24.,  9.],\n",
       "       [31., 35., 32., 41., 19., 10., 24., 27.]])"
      ]
     },
     "execution_count": 77,
     "metadata": {},
     "output_type": "execute_result"
    }
   ],
   "source": [
    "out = df[df > 0].values.reshape(1,-1)\n",
    "out = out[~np.isnan(out)]\n",
    "power = True\n",
    "while power:\n",
    "    n = np.sqrt(len(out))\n",
    "    if n == int(n):\n",
    "        power = False\n",
    "    else:\n",
    "        out = np.delete(out, np.where(out == out.min())[0][0])\n",
    "out.reshape(int(n), int(n))    "
   ]
  },
  {
   "cell_type": "code",
   "execution_count": 78,
   "id": "b522dc95",
   "metadata": {},
   "outputs": [
    {
     "name": "stdout",
     "output_type": "stream",
     "text": [
      "[[17. 17. 25. 25. 33. 26. 21. 45.]\n",
      " [29. 25. 41. 15. 42. 26. 25. 44.]\n",
      " [42. 30. 13. 35. 38. 37. 24. 17.]\n",
      " [37. 19. 13. 27. 19. 16. 20. 34.]\n",
      " [49. 10. 29. 32. 24. 41. 14. 23.]\n",
      " [40. 31. 21. 36. 19. 13.  8. 38.]\n",
      " [25. 28. 35. 25. 11.  9. 24.  9.]\n",
      " [31. 35. 32. 41. 19. 10. 24. 27.]]\n"
     ]
    }
   ],
   "source": [
    "df = pd.DataFrame(np.random.RandomState(30).randint(-20, 50, 100).reshape(10,-1))\n",
    "df = df.to_numpy(dtype='float')\n",
    "df = df[df>=0]\n",
    "n = int(np.sqrt(len(df)))\n",
    "df = df[sorted(df.argsort()[-n * n:])]\n",
    "print(df.reshape(n, n))"
   ]
  },
  {
   "cell_type": "code",
   "execution_count": 79,
   "id": "fbce391e",
   "metadata": {},
   "outputs": [
    {
     "name": "stdout",
     "output_type": "stream",
     "text": [
      "[[17. 17. 25. 25. 33. 26. 21. 45.]\n",
      " [29. 25. 41. 15. 42. 26. 25. 44.]\n",
      " [42. 30. 13. 35. 38. 37. 24. 17.]\n",
      " [37. 19. 13. 27. 19. 16. 20. 34.]\n",
      " [49. 10. 29. 32. 24. 41. 14. 23.]\n",
      " [40. 31. 21. 36. 19. 13.  8. 38.]\n",
      " [25. 28. 35. 25. 11.  9. 24.  9.]\n",
      " [31. 35. 32. 41. 19. 10. 24. 27.]]\n"
     ]
    }
   ],
   "source": [
    "df = pd.DataFrame(np.random.RandomState(30).randint(-20, 50, 100).reshape(10,-1))\n",
    "i = int(df[df>=0].count().sum()**.5)\n",
    "s = pd.Series(df.values.reshape(-1)).nlargest(i**2, keep='last') \\\n",
    "                .sort_index().astype('float').values.reshape(i, i)\n",
    "print(s)"
   ]
  },
  {
   "cell_type": "code",
   "execution_count": 80,
   "id": "cac99772",
   "metadata": {},
   "outputs": [
    {
     "data": {
      "text/html": [
       "<div>\n",
       "<style scoped>\n",
       "    .dataframe tbody tr th:only-of-type {\n",
       "        vertical-align: middle;\n",
       "    }\n",
       "\n",
       "    .dataframe tbody tr th {\n",
       "        vertical-align: top;\n",
       "    }\n",
       "\n",
       "    .dataframe thead th {\n",
       "        text-align: right;\n",
       "    }\n",
       "</style>\n",
       "<table border=\"1\" class=\"dataframe\">\n",
       "  <thead>\n",
       "    <tr style=\"text-align: right;\">\n",
       "      <th></th>\n",
       "      <th>0</th>\n",
       "      <th>1</th>\n",
       "      <th>2</th>\n",
       "      <th>3</th>\n",
       "      <th>4</th>\n",
       "    </tr>\n",
       "  </thead>\n",
       "  <tbody>\n",
       "    <tr>\n",
       "      <th>0</th>\n",
       "      <td>0</td>\n",
       "      <td>1</td>\n",
       "      <td>2</td>\n",
       "      <td>3</td>\n",
       "      <td>4</td>\n",
       "    </tr>\n",
       "    <tr>\n",
       "      <th>1</th>\n",
       "      <td>5</td>\n",
       "      <td>6</td>\n",
       "      <td>7</td>\n",
       "      <td>8</td>\n",
       "      <td>9</td>\n",
       "    </tr>\n",
       "    <tr>\n",
       "      <th>2</th>\n",
       "      <td>10</td>\n",
       "      <td>11</td>\n",
       "      <td>12</td>\n",
       "      <td>13</td>\n",
       "      <td>14</td>\n",
       "    </tr>\n",
       "    <tr>\n",
       "      <th>3</th>\n",
       "      <td>15</td>\n",
       "      <td>16</td>\n",
       "      <td>17</td>\n",
       "      <td>18</td>\n",
       "      <td>19</td>\n",
       "    </tr>\n",
       "    <tr>\n",
       "      <th>4</th>\n",
       "      <td>20</td>\n",
       "      <td>21</td>\n",
       "      <td>22</td>\n",
       "      <td>23</td>\n",
       "      <td>24</td>\n",
       "    </tr>\n",
       "  </tbody>\n",
       "</table>\n",
       "</div>"
      ],
      "text/plain": [
       "    0   1   2   3   4\n",
       "0   0   1   2   3   4\n",
       "1   5   6   7   8   9\n",
       "2  10  11  12  13  14\n",
       "3  15  16  17  18  19\n",
       "4  20  21  22  23  24"
      ]
     },
     "execution_count": 80,
     "metadata": {},
     "output_type": "execute_result"
    }
   ],
   "source": [
    "# Измените порядок строк датафрейма\n",
    "\n",
    "df = pd.DataFrame(np.arange(25).reshape(5, -1))\n",
    "df.iloc[[0, 2, 1, 3, 4] , :].reset_index(drop=True)\n",
    "\n",
    "# or\n",
    "\n",
    "df.index = [0, 2, 1, 3, 4]\n",
    "df.sort_index()\n",
    "\n",
    "df = pd.DataFrame(np.arange(25).reshape(5, -1))\n",
    "df.rename({1 : 2, 2 : 1}, axis=0).sort_index()\n",
    "\n",
    "df = pd.DataFrame(np.arange(25).reshape(5, -1))\n",
    "df.loc[1], df.loc[2] = df.loc[2].copy(), df.loc[1].copy()\n",
    "\n",
    "df = pd.DataFrame(np.arange(25).reshape(5, -1))\n",
    "df.iloc[1:3] = df.iloc[1:3][::-1]\n",
    "\n",
    "df.iloc[1], df.iloc[2] = df.iloc[2].copy(), df.iloc[1].copy()\n",
    "df"
   ]
  },
  {
   "cell_type": "code",
   "execution_count": 81,
   "id": "fea1959e",
   "metadata": {},
   "outputs": [
    {
     "data": {
      "text/plain": [
       "RangeIndex(start=4, stop=-1, step=-1)"
      ]
     },
     "execution_count": 81,
     "metadata": {},
     "output_type": "execute_result"
    }
   ],
   "source": [
    "df.index[::-1]"
   ]
  },
  {
   "cell_type": "code",
   "execution_count": 82,
   "id": "8042f8ed",
   "metadata": {},
   "outputs": [
    {
     "data": {
      "text/html": [
       "<div>\n",
       "<style scoped>\n",
       "    .dataframe tbody tr th:only-of-type {\n",
       "        vertical-align: middle;\n",
       "    }\n",
       "\n",
       "    .dataframe tbody tr th {\n",
       "        vertical-align: top;\n",
       "    }\n",
       "\n",
       "    .dataframe thead th {\n",
       "        text-align: right;\n",
       "    }\n",
       "</style>\n",
       "<table border=\"1\" class=\"dataframe\">\n",
       "  <thead>\n",
       "    <tr style=\"text-align: right;\">\n",
       "      <th></th>\n",
       "      <th>0</th>\n",
       "      <th>1</th>\n",
       "      <th>2</th>\n",
       "      <th>3</th>\n",
       "      <th>4</th>\n",
       "    </tr>\n",
       "  </thead>\n",
       "  <tbody>\n",
       "    <tr>\n",
       "      <th>4</th>\n",
       "      <td>20</td>\n",
       "      <td>21</td>\n",
       "      <td>22</td>\n",
       "      <td>23</td>\n",
       "      <td>24</td>\n",
       "    </tr>\n",
       "    <tr>\n",
       "      <th>3</th>\n",
       "      <td>15</td>\n",
       "      <td>16</td>\n",
       "      <td>17</td>\n",
       "      <td>18</td>\n",
       "      <td>19</td>\n",
       "    </tr>\n",
       "    <tr>\n",
       "      <th>2</th>\n",
       "      <td>10</td>\n",
       "      <td>11</td>\n",
       "      <td>12</td>\n",
       "      <td>13</td>\n",
       "      <td>14</td>\n",
       "    </tr>\n",
       "    <tr>\n",
       "      <th>1</th>\n",
       "      <td>5</td>\n",
       "      <td>6</td>\n",
       "      <td>7</td>\n",
       "      <td>8</td>\n",
       "      <td>9</td>\n",
       "    </tr>\n",
       "    <tr>\n",
       "      <th>0</th>\n",
       "      <td>0</td>\n",
       "      <td>1</td>\n",
       "      <td>2</td>\n",
       "      <td>3</td>\n",
       "      <td>4</td>\n",
       "    </tr>\n",
       "  </tbody>\n",
       "</table>\n",
       "</div>"
      ],
      "text/plain": [
       "    0   1   2   3   4\n",
       "4  20  21  22  23  24\n",
       "3  15  16  17  18  19\n",
       "2  10  11  12  13  14\n",
       "1   5   6   7   8   9\n",
       "0   0   1   2   3   4"
      ]
     },
     "execution_count": 82,
     "metadata": {},
     "output_type": "execute_result"
    }
   ],
   "source": [
    "# Измените порядок строк датафрейма таким образом, чтобы последние стали \n",
    "# первыми, а первые последними (reverse).\n",
    "\n",
    "df = pd.DataFrame(np.arange(25).reshape(5, -1))\n",
    "\n",
    "df.iloc[:] = df.iloc[::-1]\n",
    "df = df.set_axis(range(len(df)-1,-1,-1))\n",
    "\n",
    "#or\n",
    "df = pd.DataFrame(np.arange(25).reshape(5, -1))\n",
    "df = df.iloc[::-1]\n",
    "df"
   ]
  },
  {
   "cell_type": "code",
   "execution_count": 83,
   "id": "dcd1af19",
   "metadata": {},
   "outputs": [
    {
     "name": "stdout",
     "output_type": "stream",
     "text": [
      "    a   b   c   d   e\n",
      "0   0   1   2   3   4\n",
      "1   5   6   7   8   9\n",
      "2  10  11  12  13  14\n",
      "3  15  16  17  18  19\n",
      "4  20  21  22  23  24\n"
     ]
    },
    {
     "data": {
      "text/html": [
       "<div>\n",
       "<style scoped>\n",
       "    .dataframe tbody tr th:only-of-type {\n",
       "        vertical-align: middle;\n",
       "    }\n",
       "\n",
       "    .dataframe tbody tr th {\n",
       "        vertical-align: top;\n",
       "    }\n",
       "\n",
       "    .dataframe thead th {\n",
       "        text-align: right;\n",
       "    }\n",
       "</style>\n",
       "<table border=\"1\" class=\"dataframe\">\n",
       "  <thead>\n",
       "    <tr style=\"text-align: right;\">\n",
       "      <th></th>\n",
       "      <th>0</th>\n",
       "      <th>5</th>\n",
       "      <th>10</th>\n",
       "      <th>15</th>\n",
       "      <th>20</th>\n",
       "      <th>b</th>\n",
       "      <th>c</th>\n",
       "      <th>d</th>\n",
       "      <th>e</th>\n",
       "    </tr>\n",
       "  </thead>\n",
       "  <tbody>\n",
       "    <tr>\n",
       "      <th>0</th>\n",
       "      <td>1</td>\n",
       "      <td>0</td>\n",
       "      <td>0</td>\n",
       "      <td>0</td>\n",
       "      <td>0</td>\n",
       "      <td>1</td>\n",
       "      <td>2</td>\n",
       "      <td>3</td>\n",
       "      <td>4</td>\n",
       "    </tr>\n",
       "    <tr>\n",
       "      <th>1</th>\n",
       "      <td>0</td>\n",
       "      <td>1</td>\n",
       "      <td>0</td>\n",
       "      <td>0</td>\n",
       "      <td>0</td>\n",
       "      <td>6</td>\n",
       "      <td>7</td>\n",
       "      <td>8</td>\n",
       "      <td>9</td>\n",
       "    </tr>\n",
       "    <tr>\n",
       "      <th>2</th>\n",
       "      <td>0</td>\n",
       "      <td>0</td>\n",
       "      <td>1</td>\n",
       "      <td>0</td>\n",
       "      <td>0</td>\n",
       "      <td>11</td>\n",
       "      <td>12</td>\n",
       "      <td>13</td>\n",
       "      <td>14</td>\n",
       "    </tr>\n",
       "    <tr>\n",
       "      <th>3</th>\n",
       "      <td>0</td>\n",
       "      <td>0</td>\n",
       "      <td>0</td>\n",
       "      <td>1</td>\n",
       "      <td>0</td>\n",
       "      <td>16</td>\n",
       "      <td>17</td>\n",
       "      <td>18</td>\n",
       "      <td>19</td>\n",
       "    </tr>\n",
       "    <tr>\n",
       "      <th>4</th>\n",
       "      <td>0</td>\n",
       "      <td>0</td>\n",
       "      <td>0</td>\n",
       "      <td>0</td>\n",
       "      <td>1</td>\n",
       "      <td>21</td>\n",
       "      <td>22</td>\n",
       "      <td>23</td>\n",
       "      <td>24</td>\n",
       "    </tr>\n",
       "  </tbody>\n",
       "</table>\n",
       "</div>"
      ],
      "text/plain": [
       "   0  5  10  15  20   b   c   d   e\n",
       "0  1  0   0   0   0   1   2   3   4\n",
       "1  0  1   0   0   0   6   7   8   9\n",
       "2  0  0   1   0   0  11  12  13  14\n",
       "3  0  0   0   1   0  16  17  18  19\n",
       "4  0  0   0   0   1  21  22  23  24"
      ]
     },
     "execution_count": 83,
     "metadata": {},
     "output_type": "execute_result"
    }
   ],
   "source": [
    "# Выполните one-hot encoding для столбца А и добавьте результат к датафрейму\n",
    "\n",
    "df = pd.DataFrame(np.arange(25).reshape(5,-1), columns=list('abcde'))\n",
    "print(df)\n",
    "pd.concat([pd.get_dummies(df['a']), df.drop(\"a\", axis=1)], axis=1)\n",
    "# pd.get_dummies(df, columns=['a'])"
   ]
  },
  {
   "cell_type": "code",
   "execution_count": 84,
   "id": "fe84a149",
   "metadata": {},
   "outputs": [
    {
     "data": {
      "text/html": [
       "<div>\n",
       "<style scoped>\n",
       "    .dataframe tbody tr th:only-of-type {\n",
       "        vertical-align: middle;\n",
       "    }\n",
       "\n",
       "    .dataframe tbody tr th {\n",
       "        vertical-align: top;\n",
       "    }\n",
       "\n",
       "    .dataframe thead th {\n",
       "        text-align: right;\n",
       "    }\n",
       "</style>\n",
       "<table border=\"1\" class=\"dataframe\">\n",
       "  <thead>\n",
       "    <tr style=\"text-align: right;\">\n",
       "      <th></th>\n",
       "      <th>a_0</th>\n",
       "      <th>a_5</th>\n",
       "      <th>a_10</th>\n",
       "      <th>a_15</th>\n",
       "      <th>a_20</th>\n",
       "      <th>b</th>\n",
       "      <th>c</th>\n",
       "      <th>d</th>\n",
       "      <th>e</th>\n",
       "    </tr>\n",
       "  </thead>\n",
       "  <tbody>\n",
       "    <tr>\n",
       "      <th>0</th>\n",
       "      <td>1.0</td>\n",
       "      <td>0.0</td>\n",
       "      <td>0.0</td>\n",
       "      <td>0.0</td>\n",
       "      <td>0.0</td>\n",
       "      <td>1</td>\n",
       "      <td>2</td>\n",
       "      <td>3</td>\n",
       "      <td>4</td>\n",
       "    </tr>\n",
       "    <tr>\n",
       "      <th>1</th>\n",
       "      <td>0.0</td>\n",
       "      <td>1.0</td>\n",
       "      <td>0.0</td>\n",
       "      <td>0.0</td>\n",
       "      <td>0.0</td>\n",
       "      <td>6</td>\n",
       "      <td>7</td>\n",
       "      <td>8</td>\n",
       "      <td>9</td>\n",
       "    </tr>\n",
       "    <tr>\n",
       "      <th>2</th>\n",
       "      <td>0.0</td>\n",
       "      <td>0.0</td>\n",
       "      <td>1.0</td>\n",
       "      <td>0.0</td>\n",
       "      <td>0.0</td>\n",
       "      <td>11</td>\n",
       "      <td>12</td>\n",
       "      <td>13</td>\n",
       "      <td>14</td>\n",
       "    </tr>\n",
       "    <tr>\n",
       "      <th>3</th>\n",
       "      <td>0.0</td>\n",
       "      <td>0.0</td>\n",
       "      <td>0.0</td>\n",
       "      <td>1.0</td>\n",
       "      <td>0.0</td>\n",
       "      <td>16</td>\n",
       "      <td>17</td>\n",
       "      <td>18</td>\n",
       "      <td>19</td>\n",
       "    </tr>\n",
       "    <tr>\n",
       "      <th>4</th>\n",
       "      <td>0.0</td>\n",
       "      <td>0.0</td>\n",
       "      <td>0.0</td>\n",
       "      <td>0.0</td>\n",
       "      <td>1.0</td>\n",
       "      <td>21</td>\n",
       "      <td>22</td>\n",
       "      <td>23</td>\n",
       "      <td>24</td>\n",
       "    </tr>\n",
       "  </tbody>\n",
       "</table>\n",
       "</div>"
      ],
      "text/plain": [
       "   a_0  a_5  a_10  a_15  a_20   b   c   d   e\n",
       "0  1.0  0.0   0.0   0.0   0.0   1   2   3   4\n",
       "1  0.0  1.0   0.0   0.0   0.0   6   7   8   9\n",
       "2  0.0  0.0   1.0   0.0   0.0  11  12  13  14\n",
       "3  0.0  0.0   0.0   1.0   0.0  16  17  18  19\n",
       "4  0.0  0.0   0.0   0.0   1.0  21  22  23  24"
      ]
     },
     "execution_count": 84,
     "metadata": {},
     "output_type": "execute_result"
    }
   ],
   "source": [
    "# тоже с ванхот\n",
    "from sklearn.preprocessing import OneHotEncoder\n",
    "\n",
    "ohe = OneHotEncoder(sparse=False)\n",
    "ohe.fit(df[['a']])\n",
    "temp_df = pd.DataFrame(data=ohe.transform(df[['a']]), columns=ohe.get_feature_names((['a'])))\n",
    "pd.concat([temp_df, df.drop(\"a\", axis=1)], axis=1)"
   ]
  },
  {
   "cell_type": "code",
   "execution_count": 85,
   "id": "be2d737f",
   "metadata": {},
   "outputs": [
    {
     "data": {
      "text/html": [
       "<div>\n",
       "<style scoped>\n",
       "    .dataframe tbody tr th:only-of-type {\n",
       "        vertical-align: middle;\n",
       "    }\n",
       "\n",
       "    .dataframe tbody tr th {\n",
       "        vertical-align: top;\n",
       "    }\n",
       "\n",
       "    .dataframe thead th {\n",
       "        text-align: right;\n",
       "    }\n",
       "</style>\n",
       "<table border=\"1\" class=\"dataframe\">\n",
       "  <thead>\n",
       "    <tr style=\"text-align: right;\">\n",
       "      <th></th>\n",
       "      <th>a</th>\n",
       "      <th>b</th>\n",
       "      <th>c</th>\n",
       "      <th>d</th>\n",
       "      <th>e</th>\n",
       "    </tr>\n",
       "  </thead>\n",
       "  <tbody>\n",
       "    <tr>\n",
       "      <th>0</th>\n",
       "      <td>0</td>\n",
       "      <td>1</td>\n",
       "      <td>2</td>\n",
       "      <td>3</td>\n",
       "      <td>4</td>\n",
       "    </tr>\n",
       "    <tr>\n",
       "      <th>1</th>\n",
       "      <td>5</td>\n",
       "      <td>6</td>\n",
       "      <td>7</td>\n",
       "      <td>8</td>\n",
       "      <td>9</td>\n",
       "    </tr>\n",
       "    <tr>\n",
       "      <th>2</th>\n",
       "      <td>10</td>\n",
       "      <td>11</td>\n",
       "      <td>12</td>\n",
       "      <td>13</td>\n",
       "      <td>14</td>\n",
       "    </tr>\n",
       "    <tr>\n",
       "      <th>3</th>\n",
       "      <td>15</td>\n",
       "      <td>16</td>\n",
       "      <td>17</td>\n",
       "      <td>18</td>\n",
       "      <td>19</td>\n",
       "    </tr>\n",
       "    <tr>\n",
       "      <th>4</th>\n",
       "      <td>10</td>\n",
       "      <td>21</td>\n",
       "      <td>22</td>\n",
       "      <td>23</td>\n",
       "      <td>24</td>\n",
       "    </tr>\n",
       "    <tr>\n",
       "      <th>5</th>\n",
       "      <td>10</td>\n",
       "      <td>26</td>\n",
       "      <td>27</td>\n",
       "      <td>28</td>\n",
       "      <td>29</td>\n",
       "    </tr>\n",
       "  </tbody>\n",
       "</table>\n",
       "</div>"
      ],
      "text/plain": [
       "    a   b   c   d   e\n",
       "0   0   1   2   3   4\n",
       "1   5   6   7   8   9\n",
       "2  10  11  12  13  14\n",
       "3  15  16  17  18  19\n",
       "4  10  21  22  23  24\n",
       "5  10  26  27  28  29"
      ]
     },
     "execution_count": 85,
     "metadata": {},
     "output_type": "execute_result"
    }
   ],
   "source": [
    "# если в тесте другие значения (нет 25), dummy так не умеет,\n",
    "# а OneHotEncoder может, делает пустой столбец\n",
    "test = pd.DataFrame(np.arange(30).reshape(6,-1), columns=list('abcde'))\n",
    "test.iloc[[4, 5], 0] = 10\n",
    "test"
   ]
  },
  {
   "cell_type": "code",
   "execution_count": 86,
   "id": "4e271d7e",
   "metadata": {},
   "outputs": [
    {
     "data": {
      "text/html": [
       "<div>\n",
       "<style scoped>\n",
       "    .dataframe tbody tr th:only-of-type {\n",
       "        vertical-align: middle;\n",
       "    }\n",
       "\n",
       "    .dataframe tbody tr th {\n",
       "        vertical-align: top;\n",
       "    }\n",
       "\n",
       "    .dataframe thead th {\n",
       "        text-align: right;\n",
       "    }\n",
       "</style>\n",
       "<table border=\"1\" class=\"dataframe\">\n",
       "  <thead>\n",
       "    <tr style=\"text-align: right;\">\n",
       "      <th></th>\n",
       "      <th>a_0</th>\n",
       "      <th>a_5</th>\n",
       "      <th>a_10</th>\n",
       "      <th>a_15</th>\n",
       "      <th>a_20</th>\n",
       "      <th>b</th>\n",
       "      <th>c</th>\n",
       "      <th>d</th>\n",
       "      <th>e</th>\n",
       "    </tr>\n",
       "  </thead>\n",
       "  <tbody>\n",
       "    <tr>\n",
       "      <th>0</th>\n",
       "      <td>1</td>\n",
       "      <td>0</td>\n",
       "      <td>0</td>\n",
       "      <td>0</td>\n",
       "      <td>0</td>\n",
       "      <td>1</td>\n",
       "      <td>2</td>\n",
       "      <td>3</td>\n",
       "      <td>4</td>\n",
       "    </tr>\n",
       "    <tr>\n",
       "      <th>1</th>\n",
       "      <td>0</td>\n",
       "      <td>1</td>\n",
       "      <td>0</td>\n",
       "      <td>0</td>\n",
       "      <td>0</td>\n",
       "      <td>6</td>\n",
       "      <td>7</td>\n",
       "      <td>8</td>\n",
       "      <td>9</td>\n",
       "    </tr>\n",
       "    <tr>\n",
       "      <th>2</th>\n",
       "      <td>0</td>\n",
       "      <td>0</td>\n",
       "      <td>1</td>\n",
       "      <td>0</td>\n",
       "      <td>0</td>\n",
       "      <td>11</td>\n",
       "      <td>12</td>\n",
       "      <td>13</td>\n",
       "      <td>14</td>\n",
       "    </tr>\n",
       "    <tr>\n",
       "      <th>3</th>\n",
       "      <td>0</td>\n",
       "      <td>0</td>\n",
       "      <td>0</td>\n",
       "      <td>1</td>\n",
       "      <td>0</td>\n",
       "      <td>16</td>\n",
       "      <td>17</td>\n",
       "      <td>18</td>\n",
       "      <td>19</td>\n",
       "    </tr>\n",
       "    <tr>\n",
       "      <th>4</th>\n",
       "      <td>0</td>\n",
       "      <td>0</td>\n",
       "      <td>1</td>\n",
       "      <td>0</td>\n",
       "      <td>0</td>\n",
       "      <td>21</td>\n",
       "      <td>22</td>\n",
       "      <td>23</td>\n",
       "      <td>24</td>\n",
       "    </tr>\n",
       "    <tr>\n",
       "      <th>5</th>\n",
       "      <td>0</td>\n",
       "      <td>0</td>\n",
       "      <td>1</td>\n",
       "      <td>0</td>\n",
       "      <td>0</td>\n",
       "      <td>26</td>\n",
       "      <td>27</td>\n",
       "      <td>28</td>\n",
       "      <td>29</td>\n",
       "    </tr>\n",
       "  </tbody>\n",
       "</table>\n",
       "</div>"
      ],
      "text/plain": [
       "   a_0  a_5  a_10  a_15  a_20   b   c   d   e\n",
       "0    1    0     0     0     0   1   2   3   4\n",
       "1    0    1     0     0     0   6   7   8   9\n",
       "2    0    0     1     0     0  11  12  13  14\n",
       "3    0    0     0     1     0  16  17  18  19\n",
       "4    0    0     1     0     0  21  22  23  24\n",
       "5    0    0     1     0     0  26  27  28  29"
      ]
     },
     "execution_count": 86,
     "metadata": {},
     "output_type": "execute_result"
    }
   ],
   "source": [
    "temp_df = pd.DataFrame(data=ohe.transform(test[['a']]).astype(int), columns=ohe.get_feature_names((['a'])))\n",
    "pd.concat([temp_df, test.drop(\"a\", axis=1)], axis=1)"
   ]
  },
  {
   "cell_type": "code",
   "execution_count": 87,
   "id": "b43e43ff",
   "metadata": {},
   "outputs": [
    {
     "data": {
      "text/plain": [
       "3"
      ]
     },
     "execution_count": 87,
     "metadata": {},
     "output_type": "execute_result"
    }
   ],
   "source": [
    "# Определите имя столбца с наибольшим количеством строковых максимумов. \n",
    "\n",
    "df = pd.DataFrame(np.random.RandomState(30).randint(1,100, 40).reshape(10, -1))\n",
    "\n",
    "\n",
    "\n",
    "df = df.apply(lambda x: (x == x.max()), axis=1).astype(int)\n",
    "df.sum(axis=0).argmax()"
   ]
  },
  {
   "cell_type": "code",
   "execution_count": 88,
   "id": "37908a0a",
   "metadata": {},
   "outputs": [
    {
     "name": "stdout",
     "output_type": "stream",
     "text": [
      "    p   q   r   s\n",
      "a  38  38  46  46\n",
      "b  13  24   3  54\n",
      "c  18  47   4  42\n",
      "d   8  66  50  46\n",
      "e  62  36  19  19\n",
      "f  77  17   7  63\n",
      "g  28  47  46  65\n",
      "h  63  12  16  24\n",
      "i  14  51  34  56\n",
      "j  29  59  92  79\n",
      "CPU times: user 16.9 ms, sys: 0 ns, total: 16.9 ms\n",
      "Wall time: 22.5 ms\n"
     ]
    },
    {
     "data": {
      "text/html": [
       "<div>\n",
       "<style scoped>\n",
       "    .dataframe tbody tr th:only-of-type {\n",
       "        vertical-align: middle;\n",
       "    }\n",
       "\n",
       "    .dataframe tbody tr th {\n",
       "        vertical-align: top;\n",
       "    }\n",
       "\n",
       "    .dataframe thead th {\n",
       "        text-align: right;\n",
       "    }\n",
       "</style>\n",
       "<table border=\"1\" class=\"dataframe\">\n",
       "  <thead>\n",
       "    <tr style=\"text-align: right;\">\n",
       "      <th></th>\n",
       "      <th>p</th>\n",
       "      <th>q</th>\n",
       "      <th>r</th>\n",
       "      <th>s</th>\n",
       "      <th>nearest_row</th>\n",
       "      <th>dist</th>\n",
       "    </tr>\n",
       "  </thead>\n",
       "  <tbody>\n",
       "    <tr>\n",
       "      <th>a</th>\n",
       "      <td>38</td>\n",
       "      <td>38</td>\n",
       "      <td>46</td>\n",
       "      <td>46</td>\n",
       "      <td>f</td>\n",
       "      <td>61</td>\n",
       "    </tr>\n",
       "    <tr>\n",
       "      <th>b</th>\n",
       "      <td>13</td>\n",
       "      <td>24</td>\n",
       "      <td>3</td>\n",
       "      <td>54</td>\n",
       "      <td>j</td>\n",
       "      <td>100</td>\n",
       "    </tr>\n",
       "    <tr>\n",
       "      <th>c</th>\n",
       "      <td>18</td>\n",
       "      <td>47</td>\n",
       "      <td>4</td>\n",
       "      <td>42</td>\n",
       "      <td>j</td>\n",
       "      <td>97</td>\n",
       "    </tr>\n",
       "    <tr>\n",
       "      <th>d</th>\n",
       "      <td>8</td>\n",
       "      <td>66</td>\n",
       "      <td>50</td>\n",
       "      <td>46</td>\n",
       "      <td>f</td>\n",
       "      <td>96</td>\n",
       "    </tr>\n",
       "    <tr>\n",
       "      <th>e</th>\n",
       "      <td>62</td>\n",
       "      <td>36</td>\n",
       "      <td>19</td>\n",
       "      <td>19</td>\n",
       "      <td>j</td>\n",
       "      <td>103</td>\n",
       "    </tr>\n",
       "    <tr>\n",
       "      <th>f</th>\n",
       "      <td>77</td>\n",
       "      <td>17</td>\n",
       "      <td>7</td>\n",
       "      <td>63</td>\n",
       "      <td>j</td>\n",
       "      <td>107</td>\n",
       "    </tr>\n",
       "    <tr>\n",
       "      <th>g</th>\n",
       "      <td>28</td>\n",
       "      <td>47</td>\n",
       "      <td>46</td>\n",
       "      <td>65</td>\n",
       "      <td>h</td>\n",
       "      <td>71</td>\n",
       "    </tr>\n",
       "    <tr>\n",
       "      <th>h</th>\n",
       "      <td>63</td>\n",
       "      <td>12</td>\n",
       "      <td>16</td>\n",
       "      <td>24</td>\n",
       "      <td>j</td>\n",
       "      <td>110</td>\n",
       "    </tr>\n",
       "    <tr>\n",
       "      <th>i</th>\n",
       "      <td>14</td>\n",
       "      <td>51</td>\n",
       "      <td>34</td>\n",
       "      <td>56</td>\n",
       "      <td>f</td>\n",
       "      <td>77</td>\n",
       "    </tr>\n",
       "    <tr>\n",
       "      <th>j</th>\n",
       "      <td>29</td>\n",
       "      <td>59</td>\n",
       "      <td>92</td>\n",
       "      <td>79</td>\n",
       "      <td>h</td>\n",
       "      <td>110</td>\n",
       "    </tr>\n",
       "  </tbody>\n",
       "</table>\n",
       "</div>"
      ],
      "text/plain": [
       "    p   q   r   s nearest_row  dist\n",
       "a  38  38  46  46           f    61\n",
       "b  13  24   3  54           j   100\n",
       "c  18  47   4  42           j    97\n",
       "d   8  66  50  46           f    96\n",
       "e  62  36  19  19           j   103\n",
       "f  77  17   7  63           j   107\n",
       "g  28  47  46  65           h    71\n",
       "h  63  12  16  24           j   110\n",
       "i  14  51  34  56           f    77\n",
       "j  29  59  92  79           h   110"
      ]
     },
     "execution_count": 88,
     "metadata": {},
     "output_type": "execute_result"
    }
   ],
   "source": [
    "%%time\n",
    "# Создайте новый столбец таким образом, чтобы каждая строка содержала \n",
    "# номер наиболее удалённой строки-записи по евклидову расстоянию.\n",
    "\n",
    "df = pd.DataFrame(np.random.RandomState(30).randint(1,100, 40).reshape(10, -1), columns=list('pqrs'), index=list('abcdefghij'))\n",
    "# df = pd.concat([df]*500)\n",
    "print(df)\n",
    "\n",
    "def solution(df):\n",
    "    euclid = {}\n",
    "    for i, v in enumerate(df.values):\n",
    "        indx = df.index[i]\n",
    "        euclid[indx] = (((df.drop(indx, axis=0) - v) ** 2).sum(axis=1).pow(0.5))\\\n",
    "                .sort_values(ascending=False)\n",
    "    df[\"nearest_row\"] = df.apply(lambda x: euclid[x.name].index[0], axis=1)\n",
    "    df[\"dist\"] = df.apply(lambda x: euclid[x.name][0].round().astype('int'), axis=1)\n",
    "    return df\n",
    "\n",
    "solution(df)"
   ]
  },
  {
   "cell_type": "code",
   "execution_count": 89,
   "id": "f8cc2077",
   "metadata": {},
   "outputs": [
    {
     "name": "stdout",
     "output_type": "stream",
     "text": [
      "CPU times: user 12.8 ms, sys: 0 ns, total: 12.8 ms\n",
      "Wall time: 11.9 ms\n"
     ]
    },
    {
     "data": {
      "text/html": [
       "<div>\n",
       "<style scoped>\n",
       "    .dataframe tbody tr th:only-of-type {\n",
       "        vertical-align: middle;\n",
       "    }\n",
       "\n",
       "    .dataframe tbody tr th {\n",
       "        vertical-align: top;\n",
       "    }\n",
       "\n",
       "    .dataframe thead th {\n",
       "        text-align: right;\n",
       "    }\n",
       "</style>\n",
       "<table border=\"1\" class=\"dataframe\">\n",
       "  <thead>\n",
       "    <tr style=\"text-align: right;\">\n",
       "      <th></th>\n",
       "      <th>p</th>\n",
       "      <th>q</th>\n",
       "      <th>r</th>\n",
       "      <th>s</th>\n",
       "      <th>nearest_row</th>\n",
       "      <th>dist</th>\n",
       "    </tr>\n",
       "  </thead>\n",
       "  <tbody>\n",
       "    <tr>\n",
       "      <th>a</th>\n",
       "      <td>38</td>\n",
       "      <td>38</td>\n",
       "      <td>46</td>\n",
       "      <td>46</td>\n",
       "      <td>f</td>\n",
       "      <td>61</td>\n",
       "    </tr>\n",
       "    <tr>\n",
       "      <th>b</th>\n",
       "      <td>13</td>\n",
       "      <td>24</td>\n",
       "      <td>3</td>\n",
       "      <td>54</td>\n",
       "      <td>j</td>\n",
       "      <td>100</td>\n",
       "    </tr>\n",
       "    <tr>\n",
       "      <th>c</th>\n",
       "      <td>18</td>\n",
       "      <td>47</td>\n",
       "      <td>4</td>\n",
       "      <td>42</td>\n",
       "      <td>j</td>\n",
       "      <td>97</td>\n",
       "    </tr>\n",
       "    <tr>\n",
       "      <th>d</th>\n",
       "      <td>8</td>\n",
       "      <td>66</td>\n",
       "      <td>50</td>\n",
       "      <td>46</td>\n",
       "      <td>f</td>\n",
       "      <td>96</td>\n",
       "    </tr>\n",
       "    <tr>\n",
       "      <th>e</th>\n",
       "      <td>62</td>\n",
       "      <td>36</td>\n",
       "      <td>19</td>\n",
       "      <td>19</td>\n",
       "      <td>j</td>\n",
       "      <td>103</td>\n",
       "    </tr>\n",
       "    <tr>\n",
       "      <th>f</th>\n",
       "      <td>77</td>\n",
       "      <td>17</td>\n",
       "      <td>7</td>\n",
       "      <td>63</td>\n",
       "      <td>j</td>\n",
       "      <td>107</td>\n",
       "    </tr>\n",
       "    <tr>\n",
       "      <th>g</th>\n",
       "      <td>28</td>\n",
       "      <td>47</td>\n",
       "      <td>46</td>\n",
       "      <td>65</td>\n",
       "      <td>h</td>\n",
       "      <td>71</td>\n",
       "    </tr>\n",
       "    <tr>\n",
       "      <th>h</th>\n",
       "      <td>63</td>\n",
       "      <td>12</td>\n",
       "      <td>16</td>\n",
       "      <td>24</td>\n",
       "      <td>j</td>\n",
       "      <td>110</td>\n",
       "    </tr>\n",
       "    <tr>\n",
       "      <th>i</th>\n",
       "      <td>14</td>\n",
       "      <td>51</td>\n",
       "      <td>34</td>\n",
       "      <td>56</td>\n",
       "      <td>f</td>\n",
       "      <td>77</td>\n",
       "    </tr>\n",
       "    <tr>\n",
       "      <th>j</th>\n",
       "      <td>29</td>\n",
       "      <td>59</td>\n",
       "      <td>92</td>\n",
       "      <td>79</td>\n",
       "      <td>h</td>\n",
       "      <td>110</td>\n",
       "    </tr>\n",
       "  </tbody>\n",
       "</table>\n",
       "</div>"
      ],
      "text/plain": [
       "    p   q   r   s nearest_row  dist\n",
       "a  38  38  46  46           f    61\n",
       "b  13  24   3  54           j   100\n",
       "c  18  47   4  42           j    97\n",
       "d   8  66  50  46           f    96\n",
       "e  62  36  19  19           j   103\n",
       "f  77  17   7  63           j   107\n",
       "g  28  47  46  65           h    71\n",
       "h  63  12  16  24           j   110\n",
       "i  14  51  34  56           f    77\n",
       "j  29  59  92  79           h   110"
      ]
     },
     "execution_count": 89,
     "metadata": {},
     "output_type": "execute_result"
    }
   ],
   "source": [
    "%%time\n",
    "df = pd.DataFrame(np.random.RandomState(30).randint(1,100, 40).reshape(10, -1), columns=list('pqrs'), index=list('abcdefghij'))\n",
    "# df = pd.concat([df]*500)\n",
    "\n",
    "def solution(df):\n",
    "    temp = df.apply(lambda x: (df - x).pow(2).sum(axis=1).pow(0.5), axis=1)\n",
    "    df['nearest_row'] = temp.idxmax()\n",
    "    df['dist'] =  temp.max().round(). astype('int')\n",
    "    return df\n",
    "\n",
    "solution(df)"
   ]
  },
  {
   "cell_type": "code",
   "execution_count": 90,
   "id": "a89f7ae4",
   "metadata": {},
   "outputs": [
    {
     "name": "stdout",
     "output_type": "stream",
     "text": [
      "          p         q         r         s         t         u         v  \\\n",
      "p  1.000000 -0.512107 -0.767901  0.139413  0.052365  0.544037  0.335403   \n",
      "q -0.512107  1.000000  0.209535 -0.424986 -0.013054 -0.639377  0.142553   \n",
      "r -0.767901  0.209535  1.000000 -0.187936  0.295132 -0.408626 -0.171527   \n",
      "s  0.139413 -0.424986 -0.187936  1.000000 -0.152527  0.845489 -0.606281   \n",
      "t  0.052365 -0.013054  0.295132 -0.152527  1.000000 -0.019302  0.319836   \n",
      "u  0.544037 -0.639377 -0.408626  0.845489 -0.019302  1.000000 -0.210305   \n",
      "v  0.335403  0.142553 -0.171527 -0.606281  0.319836 -0.210305  1.000000   \n",
      "w -0.666213  0.391215  0.083154  0.150114 -0.619769 -0.215764 -0.430686   \n",
      "x  0.036061  0.249027 -0.433272 -0.410009 -0.440047 -0.237842  0.308671   \n",
      "y  0.113365 -0.049830 -0.013345 -0.297120 -0.114302 -0.184201  0.621780   \n",
      "\n",
      "          w         x         y  \n",
      "p -0.666213  0.036061  0.113365  \n",
      "q  0.391215  0.249027 -0.049830  \n",
      "r  0.083154 -0.433272 -0.013345  \n",
      "s  0.150114 -0.410009 -0.297120  \n",
      "t -0.619769 -0.440047 -0.114302  \n",
      "u -0.215764 -0.237842 -0.184201  \n",
      "v -0.430686  0.308671  0.621780  \n",
      "w  1.000000  0.429285 -0.136803  \n",
      "x  0.429285  1.000000 -0.058826  \n",
      "y -0.136803 -0.058826  1.000000  \n"
     ]
    },
    {
     "data": {
      "text/plain": [
       "p    0.77\n",
       "q    0.64\n",
       "r    0.21\n",
       "s    0.85\n",
       "t    0.62\n",
       "u    0.02\n",
       "v    0.62\n",
       "w    0.39\n",
       "x    0.24\n",
       "y    0.14\n",
       "dtype: float64"
      ]
     },
     "execution_count": 90,
     "metadata": {},
     "output_type": "execute_result"
    }
   ],
   "source": [
    "# Определите максимально возможное значение корреляции каждого столбца по \n",
    "# сравнению с другими столбцами датафрейма.\n",
    "\n",
    "df = pd.DataFrame(np.random.RandomState(25).randint(1,100, 80).reshape(8, -1), columns=list('pqrstuvwxy'), index=list('abcdefgh'))\n",
    "\n",
    "df = df.corr()\n",
    "print(df)\n",
    "df.apply(lambda x: abs(x[x[x != 1].abs().argmax() + 1]).round(2))"
   ]
  },
  {
   "cell_type": "code",
   "execution_count": 91,
   "id": "7e72b569",
   "metadata": {},
   "outputs": [],
   "source": [
    "\"\"\"\n",
    "Некоторые значения в столбце FlightNumber отсутствуют. Значения в столбце \n",
    "должны увеличиваться на 10 с каждой строкой, поэтому в пропусках необходимо\n",
    "установить 10055 и 10075. Заполните эти недостающие числа и измените тип \n",
    "столбца с float на int\n",
    "\"\"\"\n",
    "\n",
    "def solution(df):\n",
    "    df = 0# преобразуйте датафрейм в соответствии с условием \n",
    "    return df\n",
    "\n",
    "\n",
    "df = pd.DataFrame({'From_To': ['LoNDon_paris', 'MAdrid_miLAN', 'londON_StockhOlm', \n",
    "                               'Budapest_PaRis', 'Brussels_londOn'],\n",
    "              'FlightNumber': [10045, np.nan, 10065, np.nan, 10085],\n",
    "              'RecentDelays': [[23, 47], [], [24, 43, 87], [13], [67, 32]],\n",
    "                   'Airline': ['KLM(!)', '<Air France> (12)', '(British Airways. )', \n",
    "                               '12. Air France', '\"Swiss Air\"']})\n",
    "\n",
    "df[\"FlightNumber\"].fillna(df['FlightNumber'].ffill()+10).astype(int)\n",
    "\n",
    "# or\n",
    "\n",
    "df[\"FlightNumber\"] = df[\"FlightNumber\"].interpolate().astype(int)\n",
    "\n",
    "# or"
   ]
  },
  {
   "cell_type": "code",
   "execution_count": 92,
   "id": "4f5d95c8",
   "metadata": {},
   "outputs": [],
   "source": [
    "def solution(df):\n",
    "    df.FlightNumber = df.FlightNumber.interpolate(method='linear').astype(int)\n",
    "    return df"
   ]
  },
  {
   "cell_type": "code",
   "execution_count": 93,
   "id": "f38c0b73",
   "metadata": {},
   "outputs": [],
   "source": [
    "def solution(df):\n",
    "    df['FlightNumber'] = df['FlightNumber'].fillna((df['FlightNumber']\\\n",
    "            .shift(1) + df['FlightNumber'].shift(-1)) / 2).astype('int')\n",
    "    return df"
   ]
  },
  {
   "cell_type": "code",
   "execution_count": 94,
   "id": "b0619080",
   "metadata": {},
   "outputs": [],
   "source": [
    "def solution(df):\n",
    "    df['FlightNumber'] = df['FlightNumber'].\\\n",
    "          interpolate(method='linear',limit=10085,order=10)\\\n",
    "          .apply(lambda x: int(x))\n",
    "    return df"
   ]
  },
  {
   "cell_type": "code",
   "execution_count": 95,
   "id": "4a7b206b",
   "metadata": {},
   "outputs": [],
   "source": [
    "def solution(df):\n",
    "    df.FlightNumber = (df['FlightNumber'].fillna(method='ffill')\\\n",
    "                + df['FlightNumber'].fillna(method='backfill')) / 2\n",
    "    df.FlightNumber = df.FlightNumber.astype(int)\n",
    "    return df"
   ]
  },
  {
   "cell_type": "code",
   "execution_count": 114,
   "id": "eb2b11ff",
   "metadata": {},
   "outputs": [
    {
     "data": {
      "text/plain": [
       "0      London\n",
       "1      Madrid\n",
       "2      London\n",
       "3    Budapest\n",
       "4    Brussels\n",
       "Name: From_To, dtype: object"
      ]
     },
     "execution_count": 114,
     "metadata": {},
     "output_type": "execute_result"
    }
   ],
   "source": [
    "df[\"From_To\"].apply(lambda x: x.split(\"_\")[0].lower().title())"
   ]
  },
  {
   "cell_type": "code",
   "execution_count": 111,
   "id": "384d55c9",
   "metadata": {},
   "outputs": [
    {
     "data": {
      "text/html": [
       "<div>\n",
       "<style scoped>\n",
       "    .dataframe tbody tr th:only-of-type {\n",
       "        vertical-align: middle;\n",
       "    }\n",
       "\n",
       "    .dataframe tbody tr th {\n",
       "        vertical-align: top;\n",
       "    }\n",
       "\n",
       "    .dataframe thead th {\n",
       "        text-align: right;\n",
       "    }\n",
       "</style>\n",
       "<table border=\"1\" class=\"dataframe\">\n",
       "  <thead>\n",
       "    <tr style=\"text-align: right;\">\n",
       "      <th></th>\n",
       "      <th>FlightNumber</th>\n",
       "      <th>RecentDelays</th>\n",
       "      <th>Airline</th>\n",
       "      <th>From</th>\n",
       "      <th>To</th>\n",
       "    </tr>\n",
       "  </thead>\n",
       "  <tbody>\n",
       "    <tr>\n",
       "      <th>0</th>\n",
       "      <td>10045.0</td>\n",
       "      <td>[23, 47]</td>\n",
       "      <td>KLM(!)</td>\n",
       "      <td>LoNDon</td>\n",
       "      <td>paris</td>\n",
       "    </tr>\n",
       "    <tr>\n",
       "      <th>1</th>\n",
       "      <td>NaN</td>\n",
       "      <td>[]</td>\n",
       "      <td>&lt;Air France&gt; (12)</td>\n",
       "      <td>MAdrid</td>\n",
       "      <td>miLAN</td>\n",
       "    </tr>\n",
       "    <tr>\n",
       "      <th>2</th>\n",
       "      <td>10065.0</td>\n",
       "      <td>[24, 43, 87]</td>\n",
       "      <td>(British Airways. )</td>\n",
       "      <td>londON</td>\n",
       "      <td>StockhOlm</td>\n",
       "    </tr>\n",
       "    <tr>\n",
       "      <th>3</th>\n",
       "      <td>NaN</td>\n",
       "      <td>[13]</td>\n",
       "      <td>12. Air France</td>\n",
       "      <td>Budapest</td>\n",
       "      <td>PaRis</td>\n",
       "    </tr>\n",
       "    <tr>\n",
       "      <th>4</th>\n",
       "      <td>10085.0</td>\n",
       "      <td>[67, 32]</td>\n",
       "      <td>\"Swiss Air\"</td>\n",
       "      <td>Brussels</td>\n",
       "      <td>londOn</td>\n",
       "    </tr>\n",
       "  </tbody>\n",
       "</table>\n",
       "</div>"
      ],
      "text/plain": [
       "   FlightNumber  RecentDelays              Airline      From         To\n",
       "0       10045.0      [23, 47]               KLM(!)    LoNDon      paris\n",
       "1           NaN            []    <Air France> (12)    MAdrid      miLAN\n",
       "2       10065.0  [24, 43, 87]  (British Airways. )    londON  StockhOlm\n",
       "3           NaN          [13]       12. Air France  Budapest      PaRis\n",
       "4       10085.0      [67, 32]          \"Swiss Air\"  Brussels     londOn"
      ]
     },
     "execution_count": 111,
     "metadata": {},
     "output_type": "execute_result"
    }
   ],
   "source": [
    "# Разбейте данные из столбца From_To на два столбца From и То. \n",
    "# Исходный столбец удалите.\n",
    "\n",
    "def solution(df):\n",
    "    df[\"From\"] = df[\"From_To\"].apply(lambda x: x.split(\"_\")[0].lower().title())\n",
    "    df[\"To\"] = df[\"From_To\"].apply(lambda x: x.split(\"_\")[1].lower().title())\n",
    "    df = df.drop(\"From_To\", axis=1)\n",
    "    return df\n",
    "\n",
    "df = pd.DataFrame({'From_To': ['LoNDon_paris', 'MAdrid_miLAN', 'londON_StockhOlm', \n",
    "                               'Budapest_PaRis', 'Brussels_londOn'],\n",
    "              'FlightNumber': [10045, np.nan, 10065, np.nan, 10085],\n",
    "              'RecentDelays': [[23, 47], [], [24, 43, 87], [13], [67, 32]],\n",
    "                   'Airline': ['KLM(!)', '<Air France> (12)', '(British Airways. )', \n",
    "                               '12. Air France', '\"Swiss Air\"']})\n",
    "\n",
    "solution(df)"
   ]
  },
  {
   "cell_type": "code",
   "execution_count": 120,
   "id": "7728aea7",
   "metadata": {},
   "outputs": [],
   "source": [
    "def solution(df):\n",
    "    temp = df.From_To.str.split('_')\n",
    "    df['From'] = temp.str[0].str.title()\n",
    "    df['To'] = temp.str[1].str.title()\n",
    "    df.drop(['From_To'], axis=1, inplace=True)\n",
    "    return df"
   ]
  },
  {
   "cell_type": "code",
   "execution_count": null,
   "id": "3c9eb4c6",
   "metadata": {},
   "outputs": [],
   "source": [
    "def solution(df):\n",
    "    new_df = df.From_To.str.split('_', expand=True).apply(lambda x: x.str.title())\n",
    "    new_df.columns = ['From', 'To']\n",
    "    return df.iloc[:, 1:].join(new_df)"
   ]
  },
  {
   "cell_type": "code",
   "execution_count": 170,
   "id": "d16c1725",
   "metadata": {},
   "outputs": [
    {
     "data": {
      "text/html": [
       "<div>\n",
       "<style scoped>\n",
       "    .dataframe tbody tr th:only-of-type {\n",
       "        vertical-align: middle;\n",
       "    }\n",
       "\n",
       "    .dataframe tbody tr th {\n",
       "        vertical-align: top;\n",
       "    }\n",
       "\n",
       "    .dataframe thead th {\n",
       "        text-align: right;\n",
       "    }\n",
       "</style>\n",
       "<table border=\"1\" class=\"dataframe\">\n",
       "  <thead>\n",
       "    <tr style=\"text-align: right;\">\n",
       "      <th></th>\n",
       "      <th>From_To</th>\n",
       "      <th>FlightNumber</th>\n",
       "      <th>RecentDelays</th>\n",
       "      <th>Airline</th>\n",
       "    </tr>\n",
       "  </thead>\n",
       "  <tbody>\n",
       "    <tr>\n",
       "      <th>0</th>\n",
       "      <td>LoNDon_paris</td>\n",
       "      <td>10045.0</td>\n",
       "      <td>[23, 47]</td>\n",
       "      <td>KLM</td>\n",
       "    </tr>\n",
       "    <tr>\n",
       "      <th>1</th>\n",
       "      <td>MAdrid_miLAN</td>\n",
       "      <td>NaN</td>\n",
       "      <td>[]</td>\n",
       "      <td>Air France</td>\n",
       "    </tr>\n",
       "    <tr>\n",
       "      <th>2</th>\n",
       "      <td>londON_StockhOlm</td>\n",
       "      <td>10065.0</td>\n",
       "      <td>[24, 43, 87]</td>\n",
       "      <td>British Airways</td>\n",
       "    </tr>\n",
       "    <tr>\n",
       "      <th>3</th>\n",
       "      <td>Budapest_PaRis</td>\n",
       "      <td>NaN</td>\n",
       "      <td>[13]</td>\n",
       "      <td>Air France</td>\n",
       "    </tr>\n",
       "    <tr>\n",
       "      <th>4</th>\n",
       "      <td>Brussels_londOn</td>\n",
       "      <td>10085.0</td>\n",
       "      <td>[67, 32]</td>\n",
       "      <td>Swiss Air</td>\n",
       "    </tr>\n",
       "  </tbody>\n",
       "</table>\n",
       "</div>"
      ],
      "text/plain": [
       "            From_To  FlightNumber  RecentDelays          Airline\n",
       "0      LoNDon_paris       10045.0      [23, 47]              KLM\n",
       "1      MAdrid_miLAN           NaN            []       Air France\n",
       "2  londON_StockhOlm       10065.0  [24, 43, 87]  British Airways\n",
       "3    Budapest_PaRis           NaN          [13]       Air France\n",
       "4   Brussels_londOn       10085.0      [67, 32]        Swiss Air"
      ]
     },
     "execution_count": 170,
     "metadata": {},
     "output_type": "execute_result"
    }
   ],
   "source": [
    "\"\"\"\n",
    "В столбце Airline содержатся наименования авиакомпаний. Можно заметить, \n",
    "что в названиях присутствуют 'лишние' символы. Выполните преобразование \n",
    "столбца Airline:\n",
    "\"\"\"\n",
    "import re\n",
    "\n",
    "\n",
    "def solution(df):\n",
    "    df[\"Airline\"] = df[\"Airline\"].apply(lambda x: re.sub(r\"[\\W0-9]+\",\" \", x.strip())).apply(lambda x: x.strip())\n",
    "    return df\n",
    "\n",
    "df = pd.DataFrame({'From_To': ['LoNDon_paris', 'MAdrid_miLAN', 'londON_StockhOlm', \n",
    "                               'Budapest_PaRis', 'Brussels_londOn'],\n",
    "              'FlightNumber': [10045, np.nan, 10065, np.nan, 10085],\n",
    "              'RecentDelays': [[23, 47], [], [24, 43, 87], [13], [67, 32]],\n",
    "                   'Airline': ['KLM(!)', '<Air France> (12)', '(British Airways. )', \n",
    "                               '12. Air France', '\"Swiss Air\"']})\n",
    "solution(df)"
   ]
  },
  {
   "cell_type": "code",
   "execution_count": 16,
   "id": "3c1d0b3f",
   "metadata": {},
   "outputs": [
    {
     "data": {
      "text/html": [
       "<div>\n",
       "<style scoped>\n",
       "    .dataframe tbody tr th:only-of-type {\n",
       "        vertical-align: middle;\n",
       "    }\n",
       "\n",
       "    .dataframe tbody tr th {\n",
       "        vertical-align: top;\n",
       "    }\n",
       "\n",
       "    .dataframe thead th {\n",
       "        text-align: right;\n",
       "    }\n",
       "</style>\n",
       "<table border=\"1\" class=\"dataframe\">\n",
       "  <thead>\n",
       "    <tr style=\"text-align: right;\">\n",
       "      <th></th>\n",
       "      <th>From_To</th>\n",
       "      <th>FlightNumber</th>\n",
       "      <th>RecentDelays</th>\n",
       "      <th>Airline</th>\n",
       "    </tr>\n",
       "  </thead>\n",
       "  <tbody>\n",
       "    <tr>\n",
       "      <th>0</th>\n",
       "      <td>LoNDon_paris</td>\n",
       "      <td>10045.0</td>\n",
       "      <td>[23, 47]</td>\n",
       "      <td>KLM</td>\n",
       "    </tr>\n",
       "    <tr>\n",
       "      <th>1</th>\n",
       "      <td>MAdrid_miLAN</td>\n",
       "      <td>NaN</td>\n",
       "      <td>[]</td>\n",
       "      <td>Air France</td>\n",
       "    </tr>\n",
       "    <tr>\n",
       "      <th>2</th>\n",
       "      <td>londON_StockhOlm</td>\n",
       "      <td>10065.0</td>\n",
       "      <td>[24, 43, 87]</td>\n",
       "      <td>British Airways</td>\n",
       "    </tr>\n",
       "    <tr>\n",
       "      <th>3</th>\n",
       "      <td>Budapest_PaRis</td>\n",
       "      <td>NaN</td>\n",
       "      <td>[13]</td>\n",
       "      <td>Air France</td>\n",
       "    </tr>\n",
       "    <tr>\n",
       "      <th>4</th>\n",
       "      <td>Brussels_londOn</td>\n",
       "      <td>10085.0</td>\n",
       "      <td>[67, 32]</td>\n",
       "      <td>Swiss Air</td>\n",
       "    </tr>\n",
       "  </tbody>\n",
       "</table>\n",
       "</div>"
      ],
      "text/plain": [
       "            From_To  FlightNumber  RecentDelays          Airline\n",
       "0      LoNDon_paris       10045.0      [23, 47]              KLM\n",
       "1      MAdrid_miLAN           NaN            []       Air France\n",
       "2  londON_StockhOlm       10065.0  [24, 43, 87]  British Airways\n",
       "3    Budapest_PaRis           NaN          [13]       Air France\n",
       "4   Brussels_londOn       10085.0      [67, 32]        Swiss Air"
      ]
     },
     "execution_count": 16,
     "metadata": {},
     "output_type": "execute_result"
    }
   ],
   "source": [
    "df = pd.DataFrame({'From_To': ['LoNDon_paris', 'MAdrid_miLAN', 'londON_StockhOlm', \n",
    "                               'Budapest_PaRis', 'Brussels_londOn'],\n",
    "              'FlightNumber': [10045, np.nan, 10065, np.nan, 10085],\n",
    "              'RecentDelays': [[23, 47], [], [24, 43, 87], [13], [67, 32]],\n",
    "                   'Airline': ['KLM(!)', '<Air France> (12)', '(British Airways. )', \n",
    "                               '12. Air France', '\"Swiss Air\"']})\n",
    "\n",
    "def solution(df):\n",
    "    df.Airline = df.Airline.str.extract(r'([a-zA-Z]+[ ]*[a-zA-Z]+)')\n",
    "    return df\n",
    "\n",
    "solution(df)"
   ]
  },
  {
   "cell_type": "code",
   "execution_count": 177,
   "id": "84bfbf1f",
   "metadata": {},
   "outputs": [
    {
     "data": {
      "text/html": [
       "<div>\n",
       "<style scoped>\n",
       "    .dataframe tbody tr th:only-of-type {\n",
       "        vertical-align: middle;\n",
       "    }\n",
       "\n",
       "    .dataframe tbody tr th {\n",
       "        vertical-align: top;\n",
       "    }\n",
       "\n",
       "    .dataframe thead th {\n",
       "        text-align: right;\n",
       "    }\n",
       "</style>\n",
       "<table border=\"1\" class=\"dataframe\">\n",
       "  <thead>\n",
       "    <tr style=\"text-align: right;\">\n",
       "      <th></th>\n",
       "      <th>From_To</th>\n",
       "      <th>FlightNumber</th>\n",
       "      <th>RecentDelays</th>\n",
       "      <th>Airline</th>\n",
       "    </tr>\n",
       "  </thead>\n",
       "  <tbody>\n",
       "    <tr>\n",
       "      <th>0</th>\n",
       "      <td>LoNDon_paris</td>\n",
       "      <td>10045.0</td>\n",
       "      <td>[23, 47]</td>\n",
       "      <td>KLM</td>\n",
       "    </tr>\n",
       "    <tr>\n",
       "      <th>1</th>\n",
       "      <td>MAdrid_miLAN</td>\n",
       "      <td>NaN</td>\n",
       "      <td>[]</td>\n",
       "      <td>Air France</td>\n",
       "    </tr>\n",
       "    <tr>\n",
       "      <th>2</th>\n",
       "      <td>londON_StockhOlm</td>\n",
       "      <td>10065.0</td>\n",
       "      <td>[24, 43, 87]</td>\n",
       "      <td>British Airways</td>\n",
       "    </tr>\n",
       "    <tr>\n",
       "      <th>3</th>\n",
       "      <td>Budapest_PaRis</td>\n",
       "      <td>NaN</td>\n",
       "      <td>[13]</td>\n",
       "      <td>Air France</td>\n",
       "    </tr>\n",
       "    <tr>\n",
       "      <th>4</th>\n",
       "      <td>Brussels_londOn</td>\n",
       "      <td>10085.0</td>\n",
       "      <td>[67, 32]</td>\n",
       "      <td>Swiss Air</td>\n",
       "    </tr>\n",
       "  </tbody>\n",
       "</table>\n",
       "</div>"
      ],
      "text/plain": [
       "            From_To  FlightNumber  RecentDelays          Airline\n",
       "0      LoNDon_paris       10045.0      [23, 47]              KLM\n",
       "1      MAdrid_miLAN           NaN            []       Air France\n",
       "2  londON_StockhOlm       10065.0  [24, 43, 87]  British Airways\n",
       "3    Budapest_PaRis           NaN          [13]       Air France\n",
       "4   Brussels_londOn       10085.0      [67, 32]        Swiss Air"
      ]
     },
     "execution_count": 177,
     "metadata": {},
     "output_type": "execute_result"
    }
   ],
   "source": [
    "df = pd.DataFrame({'From_To': ['LoNDon_paris', 'MAdrid_miLAN', 'londON_StockhOlm', \n",
    "                               'Budapest_PaRis', 'Brussels_londOn'],\n",
    "              'FlightNumber': [10045, np.nan, 10065, np.nan, 10085],\n",
    "              'RecentDelays': [[23, 47], [], [24, 43, 87], [13], [67, 32]],\n",
    "                   'Airline': ['KLM(!)', '<Air France> (12)', '(British Airways. )', \n",
    "                               '12. Air France', '\"Swiss Air\"']})\n",
    "\n",
    "def solution(df):\n",
    "    df[\"Airline\"] = df[\"Airline\"].apply(lambda x: x.strip('! )\"( 1 2 < > .'))\n",
    "    return df\n",
    "\n",
    "solution(df)"
   ]
  },
  {
   "cell_type": "code",
   "execution_count": 79,
   "id": "0e0ac3bd",
   "metadata": {},
   "outputs": [
    {
     "name": "stdout",
     "output_type": "stream",
     "text": [
      "            From_To  FlightNumber  RecentDelays              Airline\n",
      "0      LoNDon_paris       10045.0      [23, 47]               KLM(!)\n",
      "1      MAdrid_miLAN           NaN            []    <Air France> (12)\n",
      "2  londON_StockhOlm       10065.0  [24, 43, 87]  (British Airways. )\n",
      "3    Budapest_PaRis           NaN          [13]       12. Air France\n",
      "4   Brussels_londOn       10085.0      [67, 32]          \"Swiss Air\"\n"
     ]
    },
    {
     "data": {
      "text/html": [
       "<div>\n",
       "<style scoped>\n",
       "    .dataframe tbody tr th:only-of-type {\n",
       "        vertical-align: middle;\n",
       "    }\n",
       "\n",
       "    .dataframe tbody tr th {\n",
       "        vertical-align: top;\n",
       "    }\n",
       "\n",
       "    .dataframe thead th {\n",
       "        text-align: right;\n",
       "    }\n",
       "</style>\n",
       "<table border=\"1\" class=\"dataframe\">\n",
       "  <thead>\n",
       "    <tr style=\"text-align: right;\">\n",
       "      <th></th>\n",
       "      <th>From_To</th>\n",
       "      <th>FlightNumber</th>\n",
       "      <th>Airline</th>\n",
       "      <th>delay_1</th>\n",
       "      <th>delay_2</th>\n",
       "      <th>delay_3</th>\n",
       "    </tr>\n",
       "  </thead>\n",
       "  <tbody>\n",
       "    <tr>\n",
       "      <th>0</th>\n",
       "      <td>LoNDon_paris</td>\n",
       "      <td>10045.0</td>\n",
       "      <td>KLM(!)</td>\n",
       "      <td>23.0</td>\n",
       "      <td>47.0</td>\n",
       "      <td>NaN</td>\n",
       "    </tr>\n",
       "    <tr>\n",
       "      <th>1</th>\n",
       "      <td>MAdrid_miLAN</td>\n",
       "      <td>NaN</td>\n",
       "      <td>&lt;Air France&gt; (12)</td>\n",
       "      <td>NaN</td>\n",
       "      <td>NaN</td>\n",
       "      <td>NaN</td>\n",
       "    </tr>\n",
       "    <tr>\n",
       "      <th>2</th>\n",
       "      <td>londON_StockhOlm</td>\n",
       "      <td>10065.0</td>\n",
       "      <td>(British Airways. )</td>\n",
       "      <td>24.0</td>\n",
       "      <td>43.0</td>\n",
       "      <td>87.0</td>\n",
       "    </tr>\n",
       "    <tr>\n",
       "      <th>3</th>\n",
       "      <td>Budapest_PaRis</td>\n",
       "      <td>NaN</td>\n",
       "      <td>12. Air France</td>\n",
       "      <td>13.0</td>\n",
       "      <td>NaN</td>\n",
       "      <td>NaN</td>\n",
       "    </tr>\n",
       "    <tr>\n",
       "      <th>4</th>\n",
       "      <td>Brussels_londOn</td>\n",
       "      <td>10085.0</td>\n",
       "      <td>\"Swiss Air\"</td>\n",
       "      <td>67.0</td>\n",
       "      <td>32.0</td>\n",
       "      <td>NaN</td>\n",
       "    </tr>\n",
       "  </tbody>\n",
       "</table>\n",
       "</div>"
      ],
      "text/plain": [
       "            From_To  FlightNumber              Airline  delay_1  delay_2  \\\n",
       "0      LoNDon_paris       10045.0               KLM(!)     23.0     47.0   \n",
       "1      MAdrid_miLAN           NaN    <Air France> (12)      NaN      NaN   \n",
       "2  londON_StockhOlm       10065.0  (British Airways. )     24.0     43.0   \n",
       "3    Budapest_PaRis           NaN       12. Air France     13.0      NaN   \n",
       "4   Brussels_londOn       10085.0          \"Swiss Air\"     67.0     32.0   \n",
       "\n",
       "   delay_3  \n",
       "0      NaN  \n",
       "1      NaN  \n",
       "2     87.0  \n",
       "3      NaN  \n",
       "4      NaN  "
      ]
     },
     "execution_count": 79,
     "metadata": {},
     "output_type": "execute_result"
    }
   ],
   "source": [
    "# Распакуйте данные из RecentDelays по столбцам delay_1 ... delay_n. \n",
    "# После распаковки удалите столбец RecentDelays.\n",
    "\n",
    "df = pd.DataFrame({'From_To': ['LoNDon_paris', 'MAdrid_miLAN', 'londON_StockhOlm', \n",
    "                               'Budapest_PaRis', 'Brussels_londOn'],\n",
    "              'FlightNumber': [10045, np.nan, 10065, np.nan, 10085],\n",
    "              'RecentDelays': [[23, 47], [], [24, 43, 87], [13], [67, 32]],\n",
    "                   'Airline': ['KLM(!)', '<Air France> (12)', '(British Airways. )', \n",
    "                               '12. Air France', '\"Swiss Air\"']})\n",
    "print(df)\n",
    "\n",
    "def solution(df):\n",
    "    RecentDelays = df[\"RecentDelays\"].to_list()\n",
    "    max_length_rd = max((len(i) for i in RecentDelays))\n",
    "    RecentDelays = pd.DataFrame(RecentDelays, columns = [\"delay_\"+str(i+1) for i in range(max_length_rd)])\n",
    "    df = pd.concat([df.drop(\"RecentDelays\", axis=1), RecentDelays], axis=1)\n",
    "    return df\n",
    "\n",
    "solution(df)"
   ]
  },
  {
   "cell_type": "code",
   "execution_count": 80,
   "id": "e543cf4a",
   "metadata": {},
   "outputs": [
    {
     "data": {
      "text/html": [
       "<div>\n",
       "<style scoped>\n",
       "    .dataframe tbody tr th:only-of-type {\n",
       "        vertical-align: middle;\n",
       "    }\n",
       "\n",
       "    .dataframe tbody tr th {\n",
       "        vertical-align: top;\n",
       "    }\n",
       "\n",
       "    .dataframe thead th {\n",
       "        text-align: right;\n",
       "    }\n",
       "</style>\n",
       "<table border=\"1\" class=\"dataframe\">\n",
       "  <thead>\n",
       "    <tr style=\"text-align: right;\">\n",
       "      <th></th>\n",
       "      <th>From_To</th>\n",
       "      <th>FlightNumber</th>\n",
       "      <th>Airline</th>\n",
       "      <th>delay_1</th>\n",
       "      <th>delay_2</th>\n",
       "      <th>delay_3</th>\n",
       "    </tr>\n",
       "  </thead>\n",
       "  <tbody>\n",
       "    <tr>\n",
       "      <th>0</th>\n",
       "      <td>LoNDon_paris</td>\n",
       "      <td>10045.0</td>\n",
       "      <td>KLM(!)</td>\n",
       "      <td>23.0</td>\n",
       "      <td>47.0</td>\n",
       "      <td>NaN</td>\n",
       "    </tr>\n",
       "    <tr>\n",
       "      <th>1</th>\n",
       "      <td>MAdrid_miLAN</td>\n",
       "      <td>NaN</td>\n",
       "      <td>&lt;Air France&gt; (12)</td>\n",
       "      <td>NaN</td>\n",
       "      <td>NaN</td>\n",
       "      <td>NaN</td>\n",
       "    </tr>\n",
       "    <tr>\n",
       "      <th>2</th>\n",
       "      <td>londON_StockhOlm</td>\n",
       "      <td>10065.0</td>\n",
       "      <td>(British Airways. )</td>\n",
       "      <td>24.0</td>\n",
       "      <td>43.0</td>\n",
       "      <td>87.0</td>\n",
       "    </tr>\n",
       "    <tr>\n",
       "      <th>3</th>\n",
       "      <td>Budapest_PaRis</td>\n",
       "      <td>NaN</td>\n",
       "      <td>12. Air France</td>\n",
       "      <td>13.0</td>\n",
       "      <td>NaN</td>\n",
       "      <td>NaN</td>\n",
       "    </tr>\n",
       "    <tr>\n",
       "      <th>4</th>\n",
       "      <td>Brussels_londOn</td>\n",
       "      <td>10085.0</td>\n",
       "      <td>\"Swiss Air\"</td>\n",
       "      <td>67.0</td>\n",
       "      <td>32.0</td>\n",
       "      <td>NaN</td>\n",
       "    </tr>\n",
       "  </tbody>\n",
       "</table>\n",
       "</div>"
      ],
      "text/plain": [
       "            From_To  FlightNumber              Airline  delay_1  delay_2  \\\n",
       "0      LoNDon_paris       10045.0               KLM(!)     23.0     47.0   \n",
       "1      MAdrid_miLAN           NaN    <Air France> (12)      NaN      NaN   \n",
       "2  londON_StockhOlm       10065.0  (British Airways. )     24.0     43.0   \n",
       "3    Budapest_PaRis           NaN       12. Air France     13.0      NaN   \n",
       "4   Brussels_londOn       10085.0          \"Swiss Air\"     67.0     32.0   \n",
       "\n",
       "   delay_3  \n",
       "0      NaN  \n",
       "1      NaN  \n",
       "2     87.0  \n",
       "3      NaN  \n",
       "4      NaN  "
      ]
     },
     "execution_count": 80,
     "metadata": {},
     "output_type": "execute_result"
    }
   ],
   "source": [
    "df = pd.DataFrame({'From_To': ['LoNDon_paris', 'MAdrid_miLAN', 'londON_StockhOlm', \n",
    "                               'Budapest_PaRis', 'Brussels_londOn'],\n",
    "              'FlightNumber': [10045, np.nan, 10065, np.nan, 10085],\n",
    "              'RecentDelays': [[23, 47], [], [24, 43, 87], [13], [67, 32]],\n",
    "                   'Airline': ['KLM(!)', '<Air France> (12)', '(British Airways. )', \n",
    "                               '12. Air France', '\"Swiss Air\"']})\n",
    "\n",
    "def solution(df):\n",
    "    new_df = df.RecentDelays.apply(pd.Series)\n",
    "    new_df.columns = ['delay_1', 'delay_2', 'delay_3']\n",
    "    return df.drop('RecentDelays', axis=1).join(new_df)\n",
    "\n",
    "solution(df)"
   ]
  },
  {
   "cell_type": "code",
   "execution_count": 81,
   "id": "ce32f9ca",
   "metadata": {},
   "outputs": [
    {
     "data": {
      "text/html": [
       "<div>\n",
       "<style scoped>\n",
       "    .dataframe tbody tr th:only-of-type {\n",
       "        vertical-align: middle;\n",
       "    }\n",
       "\n",
       "    .dataframe tbody tr th {\n",
       "        vertical-align: top;\n",
       "    }\n",
       "\n",
       "    .dataframe thead th {\n",
       "        text-align: right;\n",
       "    }\n",
       "</style>\n",
       "<table border=\"1\" class=\"dataframe\">\n",
       "  <thead>\n",
       "    <tr style=\"text-align: right;\">\n",
       "      <th></th>\n",
       "      <th>0</th>\n",
       "      <th>1</th>\n",
       "      <th>2</th>\n",
       "    </tr>\n",
       "  </thead>\n",
       "  <tbody>\n",
       "    <tr>\n",
       "      <th>0</th>\n",
       "      <td>23.0</td>\n",
       "      <td>47.0</td>\n",
       "      <td>NaN</td>\n",
       "    </tr>\n",
       "    <tr>\n",
       "      <th>1</th>\n",
       "      <td>NaN</td>\n",
       "      <td>NaN</td>\n",
       "      <td>NaN</td>\n",
       "    </tr>\n",
       "    <tr>\n",
       "      <th>2</th>\n",
       "      <td>24.0</td>\n",
       "      <td>43.0</td>\n",
       "      <td>87.0</td>\n",
       "    </tr>\n",
       "    <tr>\n",
       "      <th>3</th>\n",
       "      <td>13.0</td>\n",
       "      <td>NaN</td>\n",
       "      <td>NaN</td>\n",
       "    </tr>\n",
       "    <tr>\n",
       "      <th>4</th>\n",
       "      <td>67.0</td>\n",
       "      <td>32.0</td>\n",
       "      <td>NaN</td>\n",
       "    </tr>\n",
       "  </tbody>\n",
       "</table>\n",
       "</div>"
      ],
      "text/plain": [
       "      0     1     2\n",
       "0  23.0  47.0   NaN\n",
       "1   NaN   NaN   NaN\n",
       "2  24.0  43.0  87.0\n",
       "3  13.0   NaN   NaN\n",
       "4  67.0  32.0   NaN"
      ]
     },
     "execution_count": 81,
     "metadata": {},
     "output_type": "execute_result"
    }
   ],
   "source": [
    "df.RecentDelays.apply(pd.Series)"
   ]
  },
  {
   "cell_type": "code",
   "execution_count": null,
   "id": "db4aaf23",
   "metadata": {},
   "outputs": [],
   "source": []
  }
 ],
 "metadata": {
  "kernelspec": {
   "display_name": "Python 3",
   "language": "python",
   "name": "python3"
  },
  "language_info": {
   "codemirror_mode": {
    "name": "ipython",
    "version": 3
   },
   "file_extension": ".py",
   "mimetype": "text/x-python",
   "name": "python",
   "nbconvert_exporter": "python",
   "pygments_lexer": "ipython3",
   "version": "3.8.8"
  }
 },
 "nbformat": 4,
 "nbformat_minor": 5
}
