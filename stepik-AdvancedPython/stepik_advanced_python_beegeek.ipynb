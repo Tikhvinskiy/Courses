{
 "cells": [
  {
   "cell_type": "markdown",
   "id": "4e06de5e",
   "metadata": {},
   "source": [
    "https://stepik.org/course/68343/info\n",
    "# \"Поколение Python: курс для продвинутых\":\n",
    "\n",
    "Продолжает линию \"Поколение Python: курс для начинающих\"\n",
    "\n",
    "Курс – победитель конкурса Stepik Awards 2021 в номинации \"Лучший бесплатный онлайн-курс размещенный на платформе Stepik\"."
   ]
  },
  {
   "cell_type": "markdown",
   "id": "03cb69a5",
   "metadata": {},
   "source": [
    "## Повторяем основные конструкции языка Python"
   ]
  },
  {
   "cell_type": "markdown",
   "id": "05b9f2ae",
   "metadata": {},
   "source": [
    "### На easy\n",
    "На вход программе подаются два целых числа aa и bb. Напишите программу, которая выводит:\n",
    "\n",
    "- сумму чисел aa и bb;\n",
    "- разность чисел aa и bb;\n",
    "- произведение чисел aa и bb;\n",
    "- частное чисел aa и bb;\n",
    "- целую часть от деления числа aa на bb;\n",
    "- остаток от деления числа aa на bb;\n",
    "- корень квадратный из суммы их 1010-х степеней: \\sqrt{a^{10} + b^{10}} \n"
   ]
  },
  {
   "cell_type": "code",
   "execution_count": 1,
   "id": "4b64e2a0",
   "metadata": {},
   "outputs": [
    {
     "name": "stdout",
     "output_type": "stream",
     "text": [
      "11\n",
      "-5\n",
      "24\n",
      "0.375\n",
      "0\n",
      "3\n",
      "32768.90100384814\n"
     ]
    }
   ],
   "source": [
    "# a, b = int(input()), int(input())\n",
    "a, b = 3, 8\n",
    "print(a + b, a - b, a * b, a / b,  a // b, a % b, (a ** 10 + b ** 10) ** (1/2), sep=\"\\n\")"
   ]
  },
  {
   "cell_type": "markdown",
   "id": "87cdfcf9",
   "metadata": {},
   "source": [
    "### Индекс массы тела\n",
    "Напишите программу для вычисления и оценки индекса массы тела (ИМТ) человека. ИМТ показывает весит человек больше или меньше нормы для своего роста. ИМТ человека рассчитывают по формуле:\n",
    "\n",
    "ИМТ = масса (кг) / (рост(м) * рост(м))\n",
    "\n",
    "где масса измеряется в килограммах, а рост — в метрах.\n",
    "\n",
    "Масса человека считается оптимальной, если его ИМТ находится между 18.5 и 25. Если ИМТ меньше 18.5, то считается, что человек весит ниже нормы. Если значение ИМТ больше 25, то считается, что человек весит больше нормы.\n",
    "\n",
    "Программа должна вывести \"Оптимальная масса\", если ИМТ находится между 18.5 и 25 (включительно). \"Недостаточная масса\", если ИМТ меньше 18.5 и \"Избыточная масса\", если значение ИМТ больше 25."
   ]
  },
  {
   "cell_type": "code",
   "execution_count": 2,
   "id": "d3816207",
   "metadata": {},
   "outputs": [
    {
     "name": "stdout",
     "output_type": "stream",
     "text": [
      "Избыточная масса\n"
     ]
    }
   ],
   "source": [
    "m, h = 95, 1.84\n",
    "f = m / (h * h)\n",
    "\n",
    "if f < 18.5:\n",
    "    out = \"Недостаточная масса\"\n",
    "elif f <= 25:\n",
    "    out = \"Оптимальная масса\"\n",
    "else:\n",
    "    out = \"Избыточная масса\"\n",
    "print(out)"
   ]
  },
  {
   "cell_type": "markdown",
   "id": "35940472",
   "metadata": {},
   "source": [
    "### Стоимость строки\n",
    "Дана строка текста. Напишите программу для подсчета стоимости строки, исходя из того, что один любой символ (в том числе пробел) стоит 6060 копеек. Ответ дайте в рублях и копейках в соответствии с примерами."
   ]
  },
  {
   "cell_type": "code",
   "execution_count": 3,
   "id": "8e8144f4",
   "metadata": {},
   "outputs": [
    {
     "name": "stdout",
     "output_type": "stream",
     "text": [
      "10 р. 80 коп.\n"
     ]
    }
   ],
   "source": [
    "n = \"Привет, как дела?!\"\n",
    "print(f\"{(len(n) * 60) // 100} р. {(len(n) * 60) % 100} коп.\")"
   ]
  },
  {
   "cell_type": "code",
   "execution_count": 4,
   "id": "0fb40115",
   "metadata": {},
   "outputs": [
    {
     "name": "stdout",
     "output_type": "stream",
     "text": [
      "10р. 80коп."
     ]
    }
   ],
   "source": [
    "print(*divmod(len(n) * 60, 100), sep='р. ', end='коп.')"
   ]
  },
  {
   "cell_type": "markdown",
   "id": "c3684adf",
   "metadata": {},
   "source": [
    "### Количество слов\n",
    "Дана строка, состоящая из слов, разделенных пробелами. Напишите программу, которая подсчитывает количество слов в этой строке.\n",
    "\n",
    "Примечание 1. Кроме слов в тексте могут присутствовать только пробелы (один или несколько).\n",
    "\n",
    "Примечание 2. Решите задачу в одну строчку кода 😎."
   ]
  },
  {
   "cell_type": "code",
   "execution_count": 5,
   "id": "e8821b7c",
   "metadata": {},
   "outputs": [
    {
     "data": {
      "text/plain": [
       "3"
      ]
     },
     "execution_count": 5,
     "metadata": {},
     "output_type": "execute_result"
    }
   ],
   "source": [
    "len(\"Timur forever young\".split())"
   ]
  },
  {
   "cell_type": "markdown",
   "id": "f7079006",
   "metadata": {},
   "source": [
    "### Зодиак\n",
    "Китайский гороскоп назначает животным годы в 12-летнем цикле. Один 12-летний цикл показан в таблице ниже. Таким образом, 2012 год будет очередным годом дракона.\n",
    "\n",
    "**Год\tЖивотное**\n",
    "- 2000\tДракон\n",
    "- 2001\tЗмея\n",
    "- 2002\tЛошадь\n",
    "- 2003\tОвца\n",
    "- 2004\tОбезьяна\n",
    "- 2005\tПетух\n",
    "- 2006\tСобака\n",
    "- 2007\tСвинья\n",
    "- 2008\tКрыса\n",
    "- 2009\tБык\n",
    "- 2010\tТигр\n",
    "- 2011\tЗаяц\n",
    "\n",
    "\n",
    "Напишите программу, которая считывает год и отображает название связанного с ним животного. Ваша программа должна корректно работать с любым годом, не только теми, что перечислены в таблице.\n",
    "\n"
   ]
  },
  {
   "cell_type": "code",
   "execution_count": 6,
   "id": "7d628006",
   "metadata": {},
   "outputs": [
    {
     "data": {
      "text/plain": [
       "'Крыса'"
      ]
     },
     "execution_count": 6,
     "metadata": {},
     "output_type": "execute_result"
    }
   ],
   "source": [
    "animals = [\"Дракон\",\"Змея\",\"Лошадь\",\"Овца\",\"Обезьяна\",\"Петух\",\n",
    "           \"Собака\",\"Свинья\",\"Крыса\",\"Бык\",\"Тигр\",\"Заяц\"]\n",
    "\n",
    "n = 2020\n",
    "animals[-(2000 - n) % 12]"
   ]
  },
  {
   "cell_type": "code",
   "execution_count": 7,
   "id": "c2225da4",
   "metadata": {},
   "outputs": [
    {
     "data": {
      "text/plain": [
       "'Крыса'"
      ]
     },
     "execution_count": 7,
     "metadata": {},
     "output_type": "execute_result"
    }
   ],
   "source": [
    "year = 2020\n",
    "animals = ['Обезьяна', 'Петух', 'Собака', 'Свинья', 'Крыса', 'Бык', 'Тигр', 'Заяц', 'Дракон', 'Змея', 'Лошадь', 'Овца']\n",
    "\n",
    "animals[year % 12]"
   ]
  },
  {
   "cell_type": "markdown",
   "id": "7f506f83",
   "metadata": {},
   "source": [
    "### Переворот числа\n",
    "Дано пятизначное или шестизначное натуральное число. Напишите программу, которая изменит порядок его последних пяти цифр на обратный."
   ]
  },
  {
   "cell_type": "code",
   "execution_count": 8,
   "id": "5b3e0f0d",
   "metadata": {},
   "outputs": [],
   "source": [
    "# n = input()\n",
    "n = 25000\n",
    "\n",
    "def rotate(n):\n",
    "    n = str(n)\n",
    "    if len(n) == 5:\n",
    "        return int(n[::-1])\n",
    "    else:\n",
    "        return int(n[0] + n[1:][::-1])\n",
    "\n",
    "assert 52 == rotate(n)"
   ]
  },
  {
   "cell_type": "code",
   "execution_count": 9,
   "id": "38a781ea",
   "metadata": {},
   "outputs": [
    {
     "name": "stdout",
     "output_type": "stream",
     "text": [
      "52\n"
     ]
    }
   ],
   "source": [
    "n = str(n)\n",
    "print(int(n[:-5] + n[-5:][::-1]))"
   ]
  },
  {
   "cell_type": "code",
   "execution_count": 10,
   "id": "8984cd73",
   "metadata": {},
   "outputs": [
    {
     "name": "stdout",
     "output_type": "stream",
     "text": [
      "52\n"
     ]
    }
   ],
   "source": [
    "print(int(n[:-5] + n[:-6:-1]))"
   ]
  },
  {
   "cell_type": "markdown",
   "id": "4eb5e37e",
   "metadata": {},
   "source": [
    "### Standard American Convention\n",
    "На вход программе подаётся натуральное число. Напишите программу, которая вставляет в заданное число запятые в соответствии со стандартным американским соглашением о запятых в больших числах."
   ]
  },
  {
   "cell_type": "code",
   "execution_count": 11,
   "id": "e6bb0813",
   "metadata": {},
   "outputs": [
    {
     "name": "stdout",
     "output_type": "stream",
     "text": [
      "10,000,000\n"
     ]
    }
   ],
   "source": [
    "n = '10000000'\n",
    "# n = input()\n",
    "l = len(n)\n",
    "num = []\n",
    "for i, n in enumerate(reversed(n)):\n",
    "    if i % 3:\n",
    "        num.append(n)\n",
    "    else:\n",
    "        if i:\n",
    "            num.append(',')\n",
    "        num.append(n)\n",
    "print(''.join(num[::-1]))"
   ]
  },
  {
   "cell_type": "code",
   "execution_count": 12,
   "id": "a37565b7",
   "metadata": {},
   "outputs": [
    {
     "name": "stdout",
     "output_type": "stream",
     "text": [
      "10,000,000\n"
     ]
    }
   ],
   "source": [
    "n = 10000000\n",
    "# n = int(input())\n",
    "s = []\n",
    "while n > 0:\n",
    "    m = n % 1000\n",
    "    if m == 0:\n",
    "        s.append('000')\n",
    "    else:\n",
    "        s.append(str(m))\n",
    "    n //= 1000\n",
    "print(','.join(s[::-1]))"
   ]
  },
  {
   "cell_type": "code",
   "execution_count": 13,
   "id": "4f219122",
   "metadata": {},
   "outputs": [
    {
     "name": "stdout",
     "output_type": "stream",
     "text": [
      "10,000,000\n",
      "10,000,000\n"
     ]
    }
   ],
   "source": [
    "print('{:,}'.format(10000000))\n",
    "print(f'{10000000:,}')"
   ]
  },
  {
   "cell_type": "code",
   "execution_count": 14,
   "id": "9a036f08",
   "metadata": {},
   "outputs": [
    {
     "name": "stdout",
     "output_type": "stream",
     "text": [
      "1,000,000\n"
     ]
    }
   ],
   "source": [
    "num = '1000000'\n",
    "for idx in range(len(num) - 3, 0, -3):\n",
    "    num = num[:idx] + ',' + num[idx:]\n",
    "print(num)"
   ]
  },
  {
   "cell_type": "markdown",
   "id": "31fa1b8e",
   "metadata": {},
   "source": [
    "### Задача Иосифа Флавия 🌶️🌶️\n",
    "\n",
    "nn человек, пронумерованных числами от 11 до nn, стоят в кругу. Они начинают считаться, каждый kk-й по счету человек выбывает из круга, после чего счет продолжается со следующего за ним человека. Напишите программу, определяющую номер человека, который останется в кругу последним.\n"
   ]
  },
  {
   "cell_type": "code",
   "execution_count": 15,
   "id": "d13ad07a",
   "metadata": {},
   "outputs": [
    {
     "name": "stdout",
     "output_type": "stream",
     "text": [
      "6\n"
     ]
    }
   ],
   "source": [
    "# time exceeded\n",
    "# n, k = int(input()), int(input())\n",
    "n, k = 7, 5\n",
    "n = [i for i in range(1, n+1)]\n",
    "while len(n) != 1:\n",
    "    if k > len(n):\n",
    "        step = k % len(n)\n",
    "    else:\n",
    "        step = k\n",
    "    n = n[step:] + n[:step-1]  \n",
    "print(n[0])"
   ]
  },
  {
   "cell_type": "code",
   "execution_count": 16,
   "id": "a002ee9b",
   "metadata": {},
   "outputs": [
    {
     "name": "stdout",
     "output_type": "stream",
     "text": [
      "6\n"
     ]
    }
   ],
   "source": [
    "n, k = 7, 5\n",
    "\n",
    "res = 0\n",
    "for i in range(1, n+1):\n",
    "    res = (res + k) % i\n",
    "print(res + 1)"
   ]
  },
  {
   "cell_type": "code",
   "execution_count": 17,
   "id": "73c44355",
   "metadata": {},
   "outputs": [
    {
     "name": "stdout",
     "output_type": "stream",
     "text": [
      "6\n"
     ]
    }
   ],
   "source": [
    "n, k = 7, 5\n",
    "n = [i for i in range(1, n+1)]\n",
    "\n",
    "while(len(n) > 1):\n",
    "    num = k % len(n)\n",
    "    if num != 0:\n",
    "        pos = num - 1\n",
    "        n = n[pos+1:] + n[:pos]\n",
    "    else:\n",
    "        n.pop()\n",
    "print(n[0])"
   ]
  },
  {
   "cell_type": "code",
   "execution_count": 18,
   "id": "beb7e4b3",
   "metadata": {},
   "outputs": [
    {
     "name": "stdout",
     "output_type": "stream",
     "text": [
      "2\n"
     ]
    }
   ],
   "source": [
    "# n, k = int(input()), int(input())\n",
    "n, k = 2, 1\n",
    "n = [i for i in range(1, n+1)]\n",
    "i = 0\n",
    "while len(n) > 1:\n",
    "    i = (i + k - 1) % len(n)\n",
    "    del n[i]\n",
    "print(n[0])"
   ]
  },
  {
   "cell_type": "code",
   "execution_count": 19,
   "id": "01b61874",
   "metadata": {},
   "outputs": [
    {
     "name": "stdout",
     "output_type": "stream",
     "text": [
      "6\n"
     ]
    }
   ],
   "source": [
    "n, k = 7, 5\n",
    "n = [i for i in range(1, n+1)]\n",
    "while len(n) != 1:\n",
    "    for i in range(0, k-1):\n",
    "        n.append(n[i])\n",
    "    del n[:k]\n",
    "\n",
    "print(n[0])"
   ]
  },
  {
   "cell_type": "code",
   "execution_count": 20,
   "id": "cdfc743b",
   "metadata": {},
   "outputs": [
    {
     "name": "stdout",
     "output_type": "stream",
     "text": [
      "6\n"
     ]
    }
   ],
   "source": [
    "# рекурсия\n",
    "def joseph(n, k):\n",
    "    if n == 1:\n",
    "        return 1\n",
    "    return 1 + (joseph(n - 1, k) + k - 1) % n\n",
    "\n",
    "n, k = 7, 5\n",
    "print(joseph(n, k))"
   ]
  },
  {
   "cell_type": "code",
   "execution_count": 21,
   "id": "917180d5",
   "metadata": {},
   "outputs": [
    {
     "name": "stdout",
     "output_type": "stream",
     "text": [
      "50\n"
     ]
    }
   ],
   "source": [
    "#    Вычисление конечного результата с\n",
    "#    с попыткой выбрать наилучший\n",
    "#    из трёх математических методов\n",
    "#    с учётом времени на исполнение:\n",
    "# 1. Вики,\n",
    "#    https://ru.wikipedia.org/wiki/Задача_Иосифа_Флавия\n",
    "#    Представление решения для случая убийства каждого\n",
    "#    2-го через двоичную запись  для q == 2\n",
    "# 2. М.А.Алексеев, формула(1) из\n",
    "#    https://home.gwu.edu/~maxal/josephus.pdf\n",
    "#    Jq(n + 1) = (Jq(n) + q) mod (n + 1).\n",
    "#    https://ru.wikipedia.org/wiki/Задача_Иосифа_Флавия#Способ_первый\n",
    "# 3. М.А.Алексеев, формула (9) для тех случаев, где\n",
    "#    n существенно больше,чем q :\n",
    "#    Dq(n) = ceil (Dq(n-1) * (q / q - 1))\n",
    "#    Jq(n) = q * n + 1 - Dq(n)\n",
    "\n",
    "from math import *\n",
    "\n",
    "def joseph_wiki(n, q):\n",
    "\n",
    "# Jq(n + 1) = (Jq(n) + q) mod (n + 1).\n",
    "\n",
    "    s = 0\n",
    "    for i in range(1, n + 1):\n",
    "        s = (s + q) % i\n",
    "    return s + 1\n",
    "\n",
    "def joseph_alexeev(n, q):\n",
    "\n",
    "\n",
    "# рекурсивная формула с использованием Dq(n):\n",
    "# Dq(n) = ceil (Dq(n-1) * (q / q - 1))\n",
    "# D = 1 для любого q при n = 1\n",
    "# каждое следующее значение вычисляется как\n",
    "# округление в верхнюю сторону произведения\n",
    "# q / (q - 1) и предыдущего D (n - 1)\n",
    "# и так до тех пор, пока D(n) <= n * (q - 1)\n",
    "\n",
    "    D = 1\n",
    "    nq = (n * (q - 1))\n",
    "    qq = q / (q - 1)\n",
    "    while not D > nq:\n",
    "\n",
    "# существует баг с неточностью\n",
    "# для операций с числами типа float()\n",
    "# например 170 * 1.1 выдаёт не 187,\n",
    "# а 187.00000000000003 (!!!)\n",
    "# Так, умножение 170 * 1.1 встречается при\n",
    "# n=18, q=11, и неверный результат\n",
    "# приводит к тому, что округляется до 188\n",
    "# и конечный результат становится неверным.\n",
    "# обходное решение - применяем округление\n",
    "# до 10-го знака после запятой\n",
    "        \n",
    "        D = ceil(round(D * qq, 10))\n",
    "    return q * n + 1 - D\n",
    "\n",
    "def joseph(n, q):\n",
    "\n",
    "    if q == 1:\n",
    "        return n\n",
    "\n",
    "# решение из wiki :\n",
    "# https://ru.wikipedia.org/wiki/Задача_Иосифа_Флавия#Представление_решения_для_случая_убийства_каждого_2-го_через_двоичную_запись\n",
    "# F(n) получается путём циклического сдвига двоичного\n",
    "# представления n влево на одну позицию.\n",
    "\n",
    "    if q == 2:\n",
    "        return 1 | n << 1 & ((1 << int(log2(n))) - 1)\n",
    "    \n",
    "# применяем алгоритм Алексеева из\n",
    "# https://home.gwu.edu/~maxal/josephus.pdf\n",
    "# с вычислительной сложностью\n",
    "# O((q − 1) * ln (n))\n",
    "# для n существенно больших,чем q\n",
    "\n",
    "    if (q - 1) * log(n) < n:\n",
    "        return joseph_alexeev(n, q)\n",
    "\n",
    "# для \"неудобных\" случаев, где q приближается к n (или больше его)\n",
    "# применяем алгоритм, описанный у Алексеева как общий\n",
    "# случай. именно этот алгоритм описан в Википедии,\n",
    "# его вычислительная сложность равна O(n)\n",
    "\n",
    "    else:\n",
    "        return joseph_wiki(n, q)\n",
    "\n",
    "# n = int(input()) \n",
    "# q = int(input()) \n",
    "n = 100\n",
    "q = 7\n",
    "\n",
    "print(joseph(n, q))"
   ]
  },
  {
   "attachments": {
    "17.1-88.png": {
     "image/png": "[encoded data removed]"
    }
   },
   "cell_type": "markdown",
   "id": "7c90f1eb",
   "metadata": {},
   "source": [
    "### Координатные четверти\n",
    "Дан набор точек на координатной плоскости. Необходимо подсчитать и вывести количество точек, лежащих в каждой координатной четверти.\n",
    "\n",
    "Формат входных данных\n",
    "\n",
    "В первой строке записано количество точек. Каждая следующая строка состоит из двух целых чисел — координат точки (сначала абсцисса – xx, затем ордината – yy), разделенных символом пробела.\n",
    "\n",
    "Формат выходных данных\n",
    "\n",
    "Программа должна вывести количество точек, лежащих в каждой координатной четверти, как в примерах.\n",
    "\n",
    "Примечание. Учтите, что точки, лежащие на осях координат, не принято относить к какой-либо координатной четверти.\n",
    "\n",
    "<div>\n",
    "<img src=\"attachment:17.1-88.png\" width=\"400\">\n",
    "</div>\n",
    "\n"
   ]
  },
  {
   "cell_type": "code",
   "execution_count": 22,
   "id": "3a7395d0",
   "metadata": {},
   "outputs": [
    {
     "name": "stdout",
     "output_type": "stream",
     "text": [
      "Первая четверть: 1\n",
      "Вторая четверть: 0\n",
      "Третья четверть: 1\n",
      "Четвертая четверть: 0\n"
     ]
    }
   ],
   "source": [
    "n = 4\n",
    "xy = [[0, -1], [1, 2], [0, 9], [-9, -5]]\n",
    "# n = int(input())\n",
    "# xy = [map(int, input().split()) for i in range(n)]\n",
    "d = {\"Первая четверть:\": 0,\n",
    "     \"Вторая четверть:\": 0,\n",
    "     \"Третья четверть:\": 0,\n",
    "     \"Четвертая четверть:\": 0}\n",
    "for (x, y) in xy:\n",
    "    if x > 0 and y > 0:\n",
    "        d[\"Первая четверть:\"] += 1 \n",
    "    elif x < 0 and y > 0:\n",
    "        d[\"Вторая четверть:\"] += 1\n",
    "    elif x < 0 and y < 0:\n",
    "        d[\"Третья четверть:\"] += 1\n",
    "    elif x > 0 and y < 0:\n",
    "        d[\"Четвертая четверть:\"] += 1 \n",
    "for i in d:\n",
    "    print(i, d[i])"
   ]
  },
  {
   "cell_type": "markdown",
   "id": "deca6926",
   "metadata": {},
   "source": [
    "### Больше предыдущего\n",
    "На вход программе подается строка текста из натуральных чисел. Из неё формируется список чисел. Напишите программу подсчета количества чисел, которые больше предшествующего им в этом списке числа, то есть, стоят вслед за меньшим числом. \n",
    "\n",
    "Формат входных данных:\n",
    "\n",
    "На вход программе подается строка текста из разделенных пробелами натуральных чисел.\n",
    "\n",
    "Формат выходных данных:\n",
    "\n",
    "Программа должна вывести одно число – количество элементов списка, больших предыдущего."
   ]
  },
  {
   "cell_type": "code",
   "execution_count": 23,
   "id": "8215ca63",
   "metadata": {},
   "outputs": [
    {
     "name": "stdout",
     "output_type": "stream",
     "text": [
      "1\n"
     ]
    }
   ],
   "source": [
    "# n = list(map(int, input().split())) + [0]\n",
    "\n",
    "n = list(map(int, \"1 1 3 2 2 1 1 1 1\".split())) + [0]\n",
    "\n",
    "len_n = len(n)\n",
    "for i in range(1, len_n-1):\n",
    "    if n[i] > n[i-1]:\n",
    "        n[len_n-1] += 1\n",
    "print(n[len_n-1]) "
   ]
  },
  {
   "cell_type": "code",
   "execution_count": 24,
   "id": "38ac4725",
   "metadata": {},
   "outputs": [
    {
     "name": "stdout",
     "output_type": "stream",
     "text": [
      "1\n"
     ]
    }
   ],
   "source": [
    "n = list(map(int, \"1 1 3 2 2 1 1 1 1\".split()))\n",
    "print(sum([n[i] < n[i+1] for i in range(len(n)-1)]))"
   ]
  },
  {
   "cell_type": "markdown",
   "id": "510b9071",
   "metadata": {},
   "source": [
    "### Назад, вперёд и наоборот\n",
    "На вход программе подается строка текста из натуральных чисел. Из элементов строки формируется список чисел. Напишите программу, которая меняет местами соседние элементы списка (a[0] c a[1], a[2] c a[3] и т.д.). Если в списке нечетное количество элементов, то последний остается на своем месте.\n",
    "\n",
    "Формат входных данных:\n",
    "\n",
    "На вход программе подается строка текста, содержащая натуральные числа, разделенные пробелами.\n",
    "\n",
    "Формат выходных данных:\n",
    "\n",
    "Программа должна вывести измененный список, разделяя его элементы одним пробелом.\n",
    "\n",
    "Sample Input 1:\n",
    "\n",
    "1 2 3 4 5\n",
    "\n",
    "Sample Output 1:\n",
    "\n",
    "2 1 4 3 5"
   ]
  },
  {
   "cell_type": "code",
   "execution_count": 25,
   "id": "0c6dbd7f",
   "metadata": {},
   "outputs": [
    {
     "name": "stdout",
     "output_type": "stream",
     "text": [
      "2 1 4 3 5\n"
     ]
    }
   ],
   "source": [
    "d = \"1 2 3 4 5\"\n",
    "\n",
    "\n",
    "n = list(map(int, d.split()))\n",
    "ln = len(n)\n",
    "for i in range(1,  ln - ln % 2, 2):\n",
    "    n[i], n[i-1] = n[i-1], n[i]\n",
    "print(*n)        "
   ]
  },
  {
   "cell_type": "code",
   "execution_count": 26,
   "id": "74b1da4d",
   "metadata": {},
   "outputs": [
    {
     "name": "stdout",
     "output_type": "stream",
     "text": [
      "2 1 4 3 5\n",
      "2 1 4 3 5\n"
     ]
    }
   ],
   "source": [
    "digits = [int(c) for c in d.split()]\n",
    "for i in range(1, len(digits), 2):\n",
    "    digits[i - 1], digits[i] = digits[i], digits[i - 1]\n",
    "print(*digits)\n",
    "    \n",
    "s = list(map(int, d.split()))\n",
    "s[:-1:2], s[1::2] = s[1::2], s[:-1:2]\n",
    "print(*s)    "
   ]
  },
  {
   "cell_type": "markdown",
   "id": "58a72f68",
   "metadata": {},
   "source": [
    "### Сдвиг в развитии\n",
    "На вход программе подается строка текста из натуральных чисел. Из элементов строки формируется список чисел. Напишите программу циклического сдвига элементов списка направо, когда последний элемент становится первым, а остальные сдвигаются на одну позицию вперед, в сторону увеличения индексов.\n",
    "\n",
    "Формат входных данных:\n",
    "\n",
    "На вход программе подается строка текста из разделенных пробелами натуральных чисел.\n",
    "\n",
    "Формат выходных данных:\n",
    "\n",
    "Программа должна вывести элементы измененного списка с циклическим сдвигом, разделяя его элементы одним пробелом.\n",
    "\n",
    "Sample Input 1:\n",
    "\n",
    "1 2 3 4 5\n",
    "\n",
    "Sample Output 1:\n",
    "\n",
    "5 1 2 3 4"
   ]
  },
  {
   "cell_type": "code",
   "execution_count": 27,
   "id": "704eac34",
   "metadata": {},
   "outputs": [
    {
     "name": "stdout",
     "output_type": "stream",
     "text": [
      "5 1 2 3 4\n"
     ]
    }
   ],
   "source": [
    "d = \"1 2 3 4 5\"\n",
    "\n",
    "n = list(map(int, d.split()))\n",
    "n = n[::-1]\n",
    "n[1:] = n[1:][::-1]\n",
    "print(*n)"
   ]
  },
  {
   "cell_type": "code",
   "execution_count": 28,
   "id": "18b79a7b",
   "metadata": {},
   "outputs": [
    {
     "name": "stdout",
     "output_type": "stream",
     "text": [
      "5 1 2 3 4\n",
      "5 1 2 3 4\n"
     ]
    }
   ],
   "source": [
    "n = d.split()\n",
    "print(*([n[-1]] + n[:-1]))\n",
    "\n",
    "digits = [int(c) for c in d.split()]\n",
    "digits.insert(0, digits.pop())\n",
    "print(*digits)"
   ]
  },
  {
   "cell_type": "markdown",
   "id": "3e17d6f9",
   "metadata": {},
   "source": [
    "### Различные элементы\n",
    "На вход программе подается строка текста, содержащая натуральные числа, расположенные по неубыванию. Из строки формируется список чисел. Напишите программу для подсчета количества разных элементов в списке.\n",
    "\n",
    "Формат входных данных:\n",
    "\n",
    "На вход программе подается строка текста, содержащая натуральные числа, разделенные символом пробела, расположенные по неубыванию.\n",
    "\n",
    "Формат выходных данных:\n",
    "\n",
    "Программа должна вывести одно число – количество различных элементов списка.\n",
    "\n",
    "Примечание. Задачу можно решить без множеств.\n",
    "\n",
    "Sample Input 1:\n",
    "\n",
    "1 1 1 2 2 2 2 3 3 3\n",
    "\n",
    "Sample Output 1:\n",
    "\n",
    "3"
   ]
  },
  {
   "cell_type": "code",
   "execution_count": 29,
   "id": "5ff982da",
   "metadata": {},
   "outputs": [
    {
     "name": "stdout",
     "output_type": "stream",
     "text": [
      "3\n",
      "3\n"
     ]
    }
   ],
   "source": [
    "d = \"1 1 1 2 2 2 2 3 3 3\"\n",
    "n = [int(c) for c in d.split()]\n",
    "print(len(set(n)))\n",
    "\n",
    "print(sum([n[i] != n[i-1] for i in range(1, len(n))]) + 1)"
   ]
  },
  {
   "cell_type": "markdown",
   "id": "4e99e1da",
   "metadata": {},
   "source": [
    "### Произведение чисел\n",
    "Напишите программу для определения, является ли число произведением двух чисел из данного набора, выводящую результат в виде ответа «ДА» или «НЕТ».\n",
    "\n",
    "Формат входных данных:\n",
    "\n",
    "В первой строке подаётся число n\\, (0 < n < 1000)n(0<n<1000) – количество чисел в наборе. В последующих nn строках вводятся целые числа, составляющие набор (могут повторяться). Затем следует целое число, которое является или не является произведением двух каких-то чисел из набора.\n",
    "\n",
    "Формат выходных данных:\n",
    "\n",
    "Программа должна вывести «ДА» или «НЕТ» в соответствии с условием задачи.\n",
    "\n",
    "Примечание 1. \n",
    "Само на себя число из набора умножиться не может, другими словами, два множителя должны иметь разные индексы в наборе.\n",
    "\n",
    "Примечание 2. \n",
    "Для решения задачи используйте вложенные циклы.\n",
    "\n",
    "Тестовые данные 🟢\n",
    "\n",
    "Sample Input 1:\n",
    "\n",
    "3\n",
    "\n",
    "33\n",
    "17\n",
    "35\n",
    "999\n",
    "\n",
    "Sample Output 1:\n",
    "\n",
    "НЕТ"
   ]
  },
  {
   "cell_type": "code",
   "execution_count": 30,
   "id": "16a463b7",
   "metadata": {},
   "outputs": [
    {
     "name": "stdout",
     "output_type": "stream",
     "text": [
      "ДА\n"
     ]
    }
   ],
   "source": [
    "# n = int(input())\n",
    "# n = [int(input()) for i in range(n)]\n",
    "# m = int(input())\n",
    "\n",
    "n = [89, 4, 77, 4]\n",
    "m = 16\n",
    "\n",
    "result = \"НЕТ\"\n",
    "for i in range(len(n)-1):\n",
    "    for j in range(i+1, len(n)):\n",
    "        if n[i] * n[j] == m:\n",
    "            result = \"ДА\"\n",
    "            break\n",
    "print(result)"
   ]
  },
  {
   "cell_type": "code",
   "execution_count": 31,
   "id": "b4a1f2c3",
   "metadata": {},
   "outputs": [
    {
     "name": "stdout",
     "output_type": "stream",
     "text": [
      "ДА\n"
     ]
    }
   ],
   "source": [
    "from itertools import combinations\n",
    "print('ДА' if len([1 for a, b in combinations(n, 2)\\\n",
    "                   if a * b == m]) else 'НЕТ')"
   ]
  },
  {
   "attachments": {
    "1.png": {
     "image/png": "[encoded data removed]"
    }
   },
   "cell_type": "markdown",
   "id": "8aa16370",
   "metadata": {},
   "source": [
    "### Камень, ножницы, бумага\n",
    "Тимур и Руслан пытаются разделить фронт работы по курсу \"Python для профессионалов\". Для этого они решили сыграть в камень, ножницы и бумагу. Помогите ребятам бросить честный жребий и определить, кто будет делать очередной модуль нового курса.\n",
    "\n",
    "Формат входных данных:\n",
    "\n",
    "На вход программе подаются две строки текста, содержащие слова \"камень\", \"ножницы\" или \"бумага\". На первой строке записан выбор Тимура, на второй – выбор Руслана.\n",
    "\n",
    "Формат выходных данных:\n",
    "\n",
    "Программа должна вывести результат жеребьёвки, то есть кто победит: Тимур, Руслан или же они сыграют вничью.\n",
    "\n",
    "Примечание. Правила игры стандартные: камень побеждает ножницы, но проигрывает бумаге, а ножницы побеждают бумагу.\n",
    "\n",
    "![1.png](attachment:1.png)\n",
    "\n",
    "Sample Input 1:\n",
    "\n",
    "камень\n",
    "бумага\n",
    "\n",
    "Sample Output 1:\n",
    "\n",
    "Руслан"
   ]
  },
  {
   "cell_type": "code",
   "execution_count": 32,
   "id": "ff254678",
   "metadata": {},
   "outputs": [
    {
     "name": "stdout",
     "output_type": "stream",
     "text": [
      "Руслан\n"
     ]
    }
   ],
   "source": [
    "d = \"камень бумага\"\n",
    "n = tuple(c for c in d.split())\n",
    "\n",
    "game = {(\"камень\", \"бумага\"): \"Руслан\",\n",
    "        (\"бумага\", \"камень\"): \"Тимур\",\n",
    "        (\"камень\", \"ножницы\"): \"Тимур\",\n",
    "        (\"ножницы\", \"камень\"): \"Руслан\",\n",
    "        (\"ножницы\", \"бумага\"): \"Тимур\",\n",
    "        (\"бумага\", \"ножницы\"): \"Руслан\"}\n",
    "print(game[n] if n[0] != n[1] else \"ничья\")"
   ]
  },
  {
   "cell_type": "code",
   "execution_count": 33,
   "id": "e2faffc0",
   "metadata": {},
   "outputs": [
    {
     "name": "stdout",
     "output_type": "stream",
     "text": [
      "Руслан\n"
     ]
    }
   ],
   "source": [
    "x, y = d.split()\n",
    "var = ['камень', 'ножницы', 'бумага']\n",
    "ans = ['ничья', 'Руслан', 'Тимур']\n",
    "print(ans[var.index(x) - var.index(y)])"
   ]
  },
  {
   "cell_type": "code",
   "execution_count": 34,
   "id": "49c8a26e",
   "metadata": {},
   "outputs": [
    {
     "name": "stdout",
     "output_type": "stream",
     "text": [
      "Руслан\n"
     ]
    }
   ],
   "source": [
    "a, b = d.split()\n",
    "print('ничья' if a == b else 'Тимур' \\\n",
    "      if a + b in ('каменьножницы', 'бумагакамень', 'ножницыбумага')\\\n",
    "      else 'Руслан')"
   ]
  },
  {
   "cell_type": "markdown",
   "id": "f6d97e13",
   "metadata": {},
   "source": [
    "###  Камень, ножницы, бумага, ящерица, Спок 🌶️\n",
    "Проиграв 1010 раз Тимуру, Руслан понял, что так дело дальше не пойдет, и решил усложнить игру. Теперь Тимур и Руслан играют в игру Камень, ножницы, бумага, ящерица, Спок. Помогите ребятам вновь бросить честный жребий и определить, кто будет делать следующий модуль в новом курсе.\n",
    "\n",
    "Формат входных данных\n",
    "На вход программе подаются две строки текста, содержащие по одному слову из перечня \"камень\", \"ножницы\", \"бумага\", \"ящерица\" или \"Спок\". На первой строке записан выбор Тимура, на второй – выбор Руслана.\n",
    "\n",
    "Формат выходных данных\n",
    "Программа должна вывести результат жеребьёвки: кто победил - Тимур или Руслан, или они сыграли вничью.\n",
    "\n",
    "Примечание. Правила игры стандартные: ножницы режут бумагу. Бумага заворачивает камень. Камень давит ящерицу, а ящерица травит Спока, в то время как Спок ломает ножницы, которые, в свою очередь, отрезают голову ящерице, которая ест бумагу, на которой улики против Спока. Спок испаряет камень, а камень, разумеется, затупляет ножницы.\n",
    "\n",
    "Sample Input 1:\n",
    "\n",
    "ящерица\n",
    "камень\n",
    "\n",
    "Sample Output 1:\n",
    "\n",
    "Руслан"
   ]
  },
  {
   "cell_type": "code",
   "execution_count": 35,
   "id": "f0c5ca23",
   "metadata": {},
   "outputs": [
    {
     "name": "stdout",
     "output_type": "stream",
     "text": [
      "Руслан\n"
     ]
    }
   ],
   "source": [
    "d = \"ящерица камень\"\n",
    "n = [c for c in d.split()]\n",
    "\n",
    "game_rul = {\n",
    "            'Спок':['ножницы','камень'],\n",
    "            'ножницы':['бумага','ящерица'],\n",
    "            'бумага':['Спок','камень'],\n",
    "            'камень':['ножницы','ящерица'],\n",
    "            'ящерица':['бумага','Спок']\n",
    "            }\n",
    "\n",
    "print(\n",
    "    \"ничья\" if n[0] == n[1] else \"Тимур\" \\\n",
    "     if n[1] in game_rul[n[0]] else \"Руслан\"\n",
    ")"
   ]
  },
  {
   "cell_type": "markdown",
   "id": "e3eabb89",
   "metadata": {},
   "source": [
    "Правила доминирования хорошо определяются по чётности расстояния между персонажами, отмеренному на круге по часовой стрелке.  Расстояние по часовой стрелке вычисляетя взятием остатка от деления на число персонажей/жестов.\n",
    "\n",
    "\n",
    "```Python\n",
    "g = ('ножницы', 'бумага', 'камень', 'ящерица', 'Спок')\n",
    "dist = (g.index(input()) - g.index(input())) % len(g)\n",
    "print(('ничья', 'Тимур', 'Руслан')[dist and dist % 2 + 1])\n",
    "```"
   ]
  },
  {
   "cell_type": "markdown",
   "id": "42e7d0ab",
   "metadata": {},
   "source": [
    "### Орел и решка\n",
    "Дана строка текста, состоящая из букв русского алфавита \"О\" и \"Р\". Буква \"О\" – соответствует выпадению Орла, а буква \"Р\" – соответствует выпадению Решки. Напишите программу, которая подсчитывает наибольшее количество подряд выпавших Решек.\n",
    "\n",
    "Формат входных данных:\n",
    "\n",
    "На вход программе подается строка текста, состоящая из букв русского алфавита \"О\" и \"Р\".\n",
    "\n",
    "Формат выходных данных:\n",
    "\n",
    "Программа должна вывести наибольшее количество подряд выпавших Решек.\n",
    "\n",
    "Примечание. Если выпавших Решек нет, то необходимо вывести число 0.\n",
    "\n",
    "Sample Input 1:\n",
    "\n",
    "ОРРОРОРООРРРО\n",
    "\n",
    "Sample Output 1:\n",
    "\n",
    "3"
   ]
  },
  {
   "cell_type": "code",
   "execution_count": 36,
   "id": "5acb3b2f",
   "metadata": {},
   "outputs": [
    {
     "name": "stdout",
     "output_type": "stream",
     "text": [
      "16\n"
     ]
    }
   ],
   "source": [
    "d = \"ООООООРРРОРОРРРРРРР\"\n",
    "\n",
    "n = 0\n",
    "max_ = 0\n",
    "for i in d:\n",
    "    if i == \"Р\":\n",
    "        n += 1\n",
    "    else:\n",
    "        max_ = max(max_, n)\n",
    "        n = 0\n",
    "else:\n",
    "    max_ = max(max_, n)\n",
    "print(m)"
   ]
  },
  {
   "cell_type": "code",
   "execution_count": 37,
   "id": "e99cb492",
   "metadata": {},
   "outputs": [
    {
     "name": "stdout",
     "output_type": "stream",
     "text": [
      "7\n"
     ]
    }
   ],
   "source": [
    "print(len(max(d.split('О'))))"
   ]
  },
  {
   "cell_type": "markdown",
   "id": "9157439d",
   "metadata": {},
   "source": [
    "### Кремниевая долина 🌶️🌶️\n",
    "Искусственный интеллект Антон, созданный Гилфойлом, взломал сеть умных холодильников. Теперь он использует их в качестве серверов \"Пегого дудочника\". Помогите владельцу фирмы отыскать все зараженные холодильники.\n",
    "\n",
    "Для каждого холодильника существует строка с данными, состоящая из строчных букв и цифр, и если в ней присутствует слово \"anton\" (необязательно рядом стоящие буквы, главное наличие последовательности букв), то холодильник заражен и нужно вывести номер холодильника, нумерация начинается с единицы\n",
    "\n",
    "Формат входных данных:\n",
    "\n",
    "В первой строке подаётся число nn – количество холодильников. В последующих nn строках вводятся строки, содержащие латинские строчные буквы и цифры, в каждой строке от 55 до 100100 символов.\n",
    "\n",
    "Формат выходных данных:\n",
    "\n",
    "Программа должна вывести номера зараженных холодильников через пробел. Если таких холодильников нет, ничего выводить не нужно.\n",
    "\n",
    "Made with 💛 by Anri Tabuev\n",
    "Тестовые данные 🟢\n",
    "\n",
    "Sample Input 1:\n",
    "\n",
    "- 6\n",
    "- 222anton456\n",
    "- a1n1t1o1n1\n",
    "- 0000a0000n00t00000o000000n\n",
    "- gylfole\n",
    "- richard\n",
    "- ant0n\n",
    "\n",
    "Sample Output 1:\n",
    "\n",
    "- 1 2 3"
   ]
  },
  {
   "cell_type": "code",
   "execution_count": 38,
   "id": "b3f6eb8f",
   "metadata": {},
   "outputs": [
    {
     "name": "stdout",
     "output_type": "stream",
     "text": [
      "1 2 3\n"
     ]
    }
   ],
   "source": [
    "import re\n",
    "\n",
    "n = 6\n",
    "d = \"222anton456 a1n1t1o1n1 0000a0000n00t00000o000000n gylfole richard ant0n\"\n",
    "ref = []\n",
    "\n",
    "for i, name in enumerate(d.split()):\n",
    "    if re.findall(r\".*a.*n.*t.*o.*n.*\", name):\n",
    "        ref.append(i+1)\n",
    "print(*ref if ref else \"\")\n",
    "            "
   ]
  },
  {
   "cell_type": "code",
   "execution_count": 39,
   "id": "225f3c05",
   "metadata": {},
   "outputs": [
    {
     "name": "stdout",
     "output_type": "stream",
     "text": [
      "1 2 3 "
     ]
    }
   ],
   "source": [
    "for i in range(n):\n",
    "    s, virus, x  = d.split()[i], 'anton', 0\n",
    "    for sym in s:\n",
    "        if sym == virus[x]:\n",
    "            x += 1\n",
    "        if x == 5:\n",
    "            print(i + 1, end=' ')\n",
    "            break "
   ]
  },
  {
   "cell_type": "code",
   "execution_count": 40,
   "id": "5f974ba4",
   "metadata": {},
   "outputs": [
    {
     "name": "stdout",
     "output_type": "stream",
     "text": [
      "1 2 3 "
     ]
    }
   ],
   "source": [
    "for i in range(n):\n",
    "    s, pos = d.split()[i], -1  \n",
    "    for l in 'anton':\n",
    "        pos = s.find(l, pos + 1)\n",
    "        if pos == -1: break\n",
    "    else:\n",
    "        print(i+1, end=\" \") "
   ]
  },
  {
   "cell_type": "markdown",
   "id": "68f25a58",
   "metadata": {},
   "source": [
    "### Роскомнадзор запретил букву а 🌶️🌶️\n",
    "Необходимо написать программу, реализующую алгоритм написания этой песни. Алгоритм выводит в конце предложения следующую в алфавитном порядке букву, если она встречается в строке текста, а очередную строку отображает уже без этой буквы.\n",
    "\n",
    "Формат входных данных:\n",
    "    \n",
    "На вход программе подается одно слово, записанное строчными русскими буквами без буквы \"ё\".\n",
    "\n",
    "Формат выходных данных:\n",
    "    \n",
    "Программа должна вывести в соответствии с указанным алгоритмом строки, количество которых равно количеству разных букв в строке, которая получается путем конкатенации введенного слова и строки \"запретил букву\".\n",
    "\n",
    "Примечание 1. Текст исходной песни в первом тесте.\n",
    "\n",
    "Примечание 2. Поем и решаем, друзья, поем и решаем 😂.\n",
    "\n",
    "Made with 💛 by Anri Tabuev\n",
    "\n",
    "Sample Input 1:\n",
    "\n",
    "роскомнадзор\n",
    "\n",
    "Sample Output 1:\n",
    "\n",
    "- роскомнадзор запретил букву а\n",
    "- роскомндзор зпретил букву б\n",
    "- роскомндзор зпретил укву в\n",
    "- роскомндзор зпретил уку д\n",
    "- роскомнзор зпретил уку е\n",
    "- роскомнзор зпртил уку з\n",
    "- роскомнор пртил уку и\n",
    "- роскомнор пртл уку к\n",
    "- росомнор пртл уу л\n",
    "- росомнор прт уу м\n",
    "- росонор прт уу н\n",
    "- росоор прт уу о\n",
    "- рср прт уу п\n",
    "- рср рт уу р\n",
    "- с т уу с\n",
    "- т уу т\n",
    "- уу у"
   ]
  },
  {
   "cell_type": "code",
   "execution_count": 41,
   "id": "36c7c0e9",
   "metadata": {},
   "outputs": [
    {
     "name": "stdout",
     "output_type": "stream",
     "text": [
      "тимур запретил букву а\n",
      "тимур зпретил букву б\n",
      "тимур зпретил укву в\n",
      "тимур зпретил уку е\n",
      "тимур зпртил уку з\n",
      "тимур пртил уку и\n",
      "тмур пртл уку к\n",
      "тмур пртл уу л\n",
      "тмур прт уу м\n",
      "тур прт уу п\n",
      "тур рт уу р\n",
      "ту т уу т\n",
      "у уу у\n"
     ]
    }
   ],
   "source": [
    "n = \"тимур\"\n",
    "\n",
    "алфавит = [chr(i) for i in range(ord('а'),ord('а')+32)]\n",
    "песня = n + \" запретил букву\"\n",
    "поем_песню = True\n",
    "while поем_песню:\n",
    "    я_запрещаю_букву = алфавит[0]\n",
    "    if я_запрещаю_букву in песня:\n",
    "        print(песня, я_запрещаю_букву)\n",
    "        песня = песня.replace(я_запрещаю_букву, \"\").split()\n",
    "        песня = \" \".join(песня)\n",
    "    алфавит.pop(0)\n",
    "    if not песня or not алфавит:\n",
    "        поем_песню = False"
   ]
  },
  {
   "cell_type": "code",
   "execution_count": 42,
   "id": "ddaa6937",
   "metadata": {},
   "outputs": [
    {
     "name": "stdout",
     "output_type": "stream",
     "text": [
      "тимур запретил букву а\n",
      "тимур зпретил букву б\n",
      "тимур зпретил укву в\n",
      "тимур зпретил уку е\n",
      "тимур зпртил уку з\n",
      "тимур пртил уку и\n",
      "тмур пртл уку к\n",
      "тмур пртл уу л\n",
      "тмур прт уу м\n",
      "тур прт уу п\n",
      "тур рт уу р\n",
      "ту т уу т\n",
      "у уу у\n"
     ]
    }
   ],
   "source": [
    "word = n + ' запретил букву'\n",
    "alpha = [chr(i) for i in range(1072, 1104)]\n",
    "\n",
    "for letter in alpha:\n",
    "    if letter in word:\n",
    "        print(word, letter)\n",
    "        word = word.replace(letter, '').replace('  ', ' ').strip()"
   ]
  },
  {
   "cell_type": "markdown",
   "id": "b1ffa15f",
   "metadata": {},
   "source": [
    "### Предикат делимости\n",
    "Напишите функцию func(num1, num2), принимающую в качестве аргументов два натуральных числа num1 и num2 и возвращающую значение True если число num1 делится без остатка на число num2 и False в противном случае.\n",
    "\n",
    "Результатом вывода программы должно быть \"делится\" (если функция func() вернула True) и \"не делится\" (если функция func() вернула False).\n",
    "\n",
    "Sample Input 1:\n",
    "\n",
    "- 10\n",
    "- 2\n",
    "\n",
    "Sample Output 1:\n",
    "\n",
    "- делится"
   ]
  },
  {
   "cell_type": "code",
   "execution_count": 43,
   "id": "3ac40742",
   "metadata": {},
   "outputs": [
    {
     "name": "stdout",
     "output_type": "stream",
     "text": [
      "делится\n"
     ]
    }
   ],
   "source": [
    "d = \"10 2\".split()\n",
    "\n",
    "# объявление функции\n",
    "def func(num1, num2):\n",
    "    return bool(int(num1) % int(num2))\n",
    "\n",
    "# считываем данные\n",
    "num1, num2 = d[0], d[1]\n",
    "\n",
    "# вызываем функцию\n",
    "if func(num1, num2):\n",
    "    print(\"не делится\")\n",
    "else:\n",
    "    print(\"делится\")"
   ]
  },
  {
   "cell_type": "code",
   "execution_count": 44,
   "id": "ddf8292f",
   "metadata": {},
   "outputs": [
    {
     "data": {
      "text/plain": [
       "(False, True)"
      ]
     },
     "execution_count": 44,
     "metadata": {},
     "output_type": "execute_result"
    }
   ],
   "source": [
    "a = 500\n",
    "b = 500\n",
    "a is b, a == b"
   ]
  },
  {
   "cell_type": "code",
   "execution_count": 45,
   "id": "a36e9c37",
   "metadata": {},
   "outputs": [
    {
     "data": {
      "text/plain": [
       "(True, True)"
      ]
     },
     "execution_count": 45,
     "metadata": {},
     "output_type": "execute_result"
    }
   ],
   "source": [
    "a = 5\n",
    "b = 5\n",
    "a is b, a == b"
   ]
  },
  {
   "cell_type": "code",
   "execution_count": 46,
   "id": "48fb29a5",
   "metadata": {},
   "outputs": [
    {
     "data": {
      "text/plain": [
       "(False, True, True, False)"
      ]
     },
     "execution_count": 46,
     "metadata": {},
     "output_type": "execute_result"
    }
   ],
   "source": [
    "a = None\n",
    "b = None\n",
    "a != b, a == b, a is b, a == False"
   ]
  },
  {
   "cell_type": "markdown",
   "id": "b02acf28",
   "metadata": {},
   "source": [
    "( • )( • )ԅ(≖‿≖ԅ)"
   ]
  },
  {
   "cell_type": "markdown",
   "id": "c3825ee0",
   "metadata": {},
   "source": [
    "### Список по образцу 1\n",
    "На вход программе подается число nn. Напишите программу, которая создает и выводит построчно список, состоящий из nn списков [[1, 2, ..., n], [1, 2, ..., n], ..., [1, 2, ..., n]]."
   ]
  },
  {
   "cell_type": "code",
   "execution_count": 47,
   "id": "b6365444",
   "metadata": {},
   "outputs": [
    {
     "name": "stdout",
     "output_type": "stream",
     "text": [
      "[1, 2, 3]\n",
      "[1, 2, 3]\n",
      "[1, 2, 3]\n"
     ]
    }
   ],
   "source": [
    "n = 3\n",
    "for i in range(1, n+1):\n",
    "    print([i for i in range(1, n+1)])"
   ]
  },
  {
   "cell_type": "markdown",
   "id": "8c47b957",
   "metadata": {},
   "source": [
    "### Список по образцу 2\n",
    "На вход программе подается число nn. Напишите программу, которая создает и выводит построчно вложенный список, состоящий из n списков [[1], [1, 2], [1, 2, 3], ..., [1, 2, ..., n]]."
   ]
  },
  {
   "cell_type": "code",
   "execution_count": 48,
   "id": "dbf94fa8",
   "metadata": {},
   "outputs": [
    {
     "name": "stdout",
     "output_type": "stream",
     "text": [
      "[1]\n",
      "[1, 2]\n",
      "[1, 2, 3]\n"
     ]
    }
   ],
   "source": [
    "n = 3\n",
    "for i in range(1, n+1):\n",
    "    print([i for i in range(1, i+1)])"
   ]
  },
  {
   "cell_type": "markdown",
   "id": "b6df9afc",
   "metadata": {},
   "source": [
    "### Треугольник Паскаля 1 🌶️\n",
    "Треугольник Паскаля — бесконечная таблица биномиальных коэффициентов, имеющая треугольную форму. В этом треугольнике на вершине и по бокам стоят единицы. Каждое число равно сумме двух расположенных над ним чисел.\n",
    "\n",
    "```\n",
    "0:      1\n",
    "1:     1 1\n",
    "2:    1 2 1\n",
    "3:   1 3 3 1\n",
    "4:  1 4 6 4 1\n",
    "      .....\n",
    "```\n",
    "На вход программе подается число n. Напишите программу, которая возвращает указанную строку треугольника Паскаля в виде списка (нумерация строк начинается с нуля)."
   ]
  },
  {
   "cell_type": "code",
   "execution_count": 49,
   "id": "68393139",
   "metadata": {},
   "outputs": [
    {
     "name": "stdout",
     "output_type": "stream",
     "text": [
      "[1, 14, 91, 364, 1001, 2002, 3003, 3432, 3003, 2002, 1001, 364, 91, 14, 1]\n",
      "bingo\n"
     ]
    }
   ],
   "source": [
    "n = 14\n",
    "p14 = [1, 14, 91, 364, 1001, 2002, 3003, 3432, 3003, 2002, 1001, 364, 91, 14, 1]\n",
    "\n",
    "t = [[0] * (n+2) for _ in range(n+1)]\n",
    "t[0][1] = 1\n",
    "for i in range(1, n+1):\n",
    "    for j in range(1, n+2):\n",
    "        t[i][j] = t[i-1][j] + t[i-1][j-1]\n",
    "\n",
    "print(t[-1][1:])        \n",
    "assert t[-1][1:] == p14\n",
    "print(\"bingo\")"
   ]
  },
  {
   "cell_type": "code",
   "execution_count": 50,
   "id": "9f33181e",
   "metadata": {},
   "outputs": [
    {
     "name": "stdout",
     "output_type": "stream",
     "text": [
      "[1, 14, 91, 364, 1001, 2002, 3003, 3432, 3003, 2002, 1001, 364, 91, 14, 1]\n"
     ]
    }
   ],
   "source": [
    "li = [1]\n",
    "for i in range(n):\n",
    "    for j in range(len(li) - 1):\n",
    "        li[j] = li[j] + li[j + 1]\n",
    "    li.insert(0, 1)\n",
    "print(li)"
   ]
  },
  {
   "cell_type": "code",
   "execution_count": 51,
   "id": "15876f6d",
   "metadata": {},
   "outputs": [
    {
     "name": "stdout",
     "output_type": "stream",
     "text": [
      "[1, 14, 91, 364, 1001, 2002, 3003, 3432, 3003, 2002, 1001, 364, 91, 14, 1]\n"
     ]
    }
   ],
   "source": [
    "from math import factorial\n",
    "b = []\n",
    "for i in range(n+1):\n",
    "    b.append (int((factorial(n)) / (factorial(i)*factorial(n-i))))\n",
    "print(b)"
   ]
  },
  {
   "cell_type": "markdown",
   "id": "ae7d1a45",
   "metadata": {},
   "source": [
    "### Треугольник Паскаля 2\n",
    "На вход программе подается натуральное число nn. Напишите программу, которая выводит первые nn строк треугольника Паскаля.\n",
    "\n",
    "Программа должна вывести первые n строк треугольника Паскаля, каждую на отдельной строке в соответствии с образцом."
   ]
  },
  {
   "cell_type": "code",
   "execution_count": 52,
   "id": "16fee02d",
   "metadata": {},
   "outputs": [
    {
     "name": "stdout",
     "output_type": "stream",
     "text": [
      "1\n",
      "1 1 \n",
      "1 2 1 \n",
      "1 3 3 1 \n",
      "1 4 6 4 1 \n"
     ]
    }
   ],
   "source": [
    "n = 5-1\n",
    "t = [[0] * (n+2) for _ in range(n+1)]\n",
    "t[0][1] = 1\n",
    "print(t[0][1])\n",
    "for i in range(1, n+1):\n",
    "    for j in range(1, n+2):\n",
    "        t[i][j] = t[i-1][j] + t[i-1][j-1]\n",
    "        if t[i][j]:\n",
    "            print(t[i][j], end=\" \")\n",
    "    print(end='\\n')"
   ]
  },
  {
   "cell_type": "code",
   "execution_count": 53,
   "id": "f741b4b6",
   "metadata": {},
   "outputs": [
    {
     "name": "stdout",
     "output_type": "stream",
     "text": [
      "1\n",
      "1 1\n",
      "1 2 1\n",
      "1 3 3 1\n",
      "1 4 6 4 1\n"
     ]
    }
   ],
   "source": [
    "pasc = [1]\n",
    "for x in range(n+1):\n",
    "    print(*pasc)\n",
    "    pasc[1:] = list(map(lambda a, b: a + b, pasc, pasc[1:] + [0]))"
   ]
  },
  {
   "cell_type": "code",
   "execution_count": 54,
   "id": "a7aa3fe6",
   "metadata": {},
   "outputs": [
    {
     "name": "stdout",
     "output_type": "stream",
     "text": [
      "1\n",
      "1 1\n",
      "1 2 1\n",
      "1 3 3 1\n",
      "1 4 6 4 1\n"
     ]
    }
   ],
   "source": [
    "res = [1]\n",
    "for k in range(n+1):\n",
    "    print(*res)\n",
    "    res = [1] + [res[i] + res[i+1] for i in range(k)] + [1]"
   ]
  },
  {
   "cell_type": "markdown",
   "id": "eb246f35",
   "metadata": {},
   "source": [
    "### Упаковка дубликатов 🌶️\n",
    "На вход программе подается строка текста, содержащая символы. Напишите программу, которая упаковывает последовательности одинаковых символов заданной строки в подсписки.\n",
    "\n",
    "Формат входных данных:\n",
    "\n",
    "На вход программе подается строка текста, содержащая символы, отделенные символом пробела.\n",
    "\n",
    "Формат выходных данных:\n",
    "\n",
    "Программа должна вывести указанный вложенный список."
   ]
  },
  {
   "cell_type": "code",
   "execution_count": 55,
   "id": "c6568d85",
   "metadata": {},
   "outputs": [
    {
     "name": "stdout",
     "output_type": "stream",
     "text": [
      "[['w', 'w', 'w'], ['o'], ['r'], ['l'], ['d'], ['g', 'g', 'g', 'g'], ['r'], ['e'], ['a'], ['t', 't'], ['e'], ['c', 'c'], ['h'], ['e'], ['m'], ['g', 'g'], ['p'], ['w', 'w']]\n"
     ]
    }
   ],
   "source": [
    "d = \"w w w o r l d g g g g r e a t t e c c h e m g g p w w\"\n",
    "d = d.split()\n",
    "lst = [[d[0]]]\n",
    "indx = 0\n",
    "for i in range(1, len(d)):\n",
    "    if d[i] == d[i-1]:\n",
    "        lst[indx].append(d[i])\n",
    "    else:\n",
    "        indx += 1\n",
    "        lst.append([d[i]])\n",
    "        \n",
    "print(lst)"
   ]
  },
  {
   "cell_type": "code",
   "execution_count": 56,
   "id": "fd918527",
   "metadata": {},
   "outputs": [
    {
     "name": "stdout",
     "output_type": "stream",
     "text": [
      "[['w', 'w', 'w'], ['o'], ['r'], ['l'], ['d'], ['g', 'g', 'g', 'g'], ['r'], ['e'], ['a'], ['t', 't'], ['e'], ['c', 'c'], ['h'], ['e'], ['m'], ['g', 'g'], ['p'], ['w', 'w']]\n"
     ]
    }
   ],
   "source": [
    "res = []\n",
    "for el in d:\n",
    "    if res and el in res[-1]:\n",
    "        res[-1].append(el)\n",
    "    else:\n",
    "        res.append([el])\n",
    "print(res)"
   ]
  },
  {
   "cell_type": "markdown",
   "id": "87dec73d",
   "metadata": {},
   "source": [
    "### Разбиение на чанки 🌶️\n",
    "На вход программе подаются две строки, на одной символы, на другой число n. Из первой строки формируется список.\n",
    "\n",
    "Реализуйте функцию chunked(), которая принимает на вход список и число, задающее размер чанка (куска), а возвращает список из чанков указанной длины.\n",
    "\n",
    "Формат входных данных:\n",
    "\n",
    "На вход программе подается строка текста, содержащая символы, отделенные символом пробела и число n на отдельной строке.\n",
    "\n",
    "Формат выходных данных:\n",
    "\n",
    "Программа должна вывести указанный вложенный список.\n",
    "\n",
    "Примечание. Не забудьте вызвать функцию chunked(), чтобы вывести результат "
   ]
  },
  {
   "cell_type": "code",
   "execution_count": 57,
   "id": "ad3fd23d",
   "metadata": {},
   "outputs": [
    {
     "name": "stdout",
     "output_type": "stream",
     "text": [
      "[['a', 'b'], ['c', 'd'], ['e', 'f'], ['r', 'g'], ['b']]\n"
     ]
    }
   ],
   "source": [
    "d = \"a b c d e f r g b\"\n",
    "n = 2\n",
    "\n",
    "def chunked(d, n):\n",
    "    d = d.split()\n",
    "    lst = []\n",
    "    for indx in range(0, len(d), n):\n",
    "        lst.append(d[indx:indx+n])\n",
    "    return lst\n",
    "\n",
    "print(chunked(d, n))"
   ]
  },
  {
   "cell_type": "code",
   "execution_count": 58,
   "id": "772375b9",
   "metadata": {},
   "outputs": [
    {
     "name": "stdout",
     "output_type": "stream",
     "text": [
      "[['a', 'b'], ['c', 'd'], ['e', 'f'], ['r', 'g'], ['b']]\n"
     ]
    }
   ],
   "source": [
    "def chunked(spisok, chunk): \n",
    "    lst = []\n",
    "    while len(spisok) != 0:\n",
    "        lst.append(spisok[:chunk])\n",
    "        spisok = spisok[chunk:]\n",
    "    return lst\n",
    "\n",
    "print(chunked(d.split(), n))"
   ]
  },
  {
   "cell_type": "markdown",
   "id": "7475f825",
   "metadata": {},
   "source": [
    "### Подсписки списка 🌶️🌶️\n",
    "Подсписок — часть другого списка. Подсписок может содержать один элемент, несколько, и даже ни одного. Например, [1], [2], [3] и [4] — подсписки списка [1, 2, 3, 4]. Список [2, 3] — подсписок списка [1, 2, 3, 4], но список [2, 4] не подсписок списка [1, 2, 3, 4], так как элементы 2 и 4 во втором списке не смежные. Пустой список — подсписок любого списка. Сам список — подсписок самого себя, то есть список [1, 2, 3, 4] подсписок списка [1, 2, 3, 4].\n",
    "\n",
    "На вход программе подается строка текста, содержащая символы. Из данной строки формируется список. Напишите программу, которая выводит список, содержащий все возможные подсписки списка, включая пустой список.\n",
    "\n",
    "Формат входных данных:\n",
    "\n",
    "На вход программе подается строка текста, содержащая символы, отделенные символом пробела.\n",
    "\n",
    "Формат выходных данных:\n",
    "\n",
    "Программа должна вывести указанный список, содержащий все возможные подсписки, включая пустой список в соответствии с примерами.\n",
    "\n",
    "Примечание. Порядок списков одинаковой длины должен соответствовать порядку их вхождения в основной список."
   ]
  },
  {
   "cell_type": "code",
   "execution_count": 59,
   "id": "c393c34a",
   "metadata": {},
   "outputs": [
    {
     "name": "stdout",
     "output_type": "stream",
     "text": [
      "[[], ['1'], ['2'], ['3'], ['0'], ['1', '2'], ['2', '3'], ['3', '0'], ['1', '2', '3'], ['2', '3', '0'], ['1', '2', '3', '0']]\n"
     ]
    }
   ],
   "source": [
    "d = \"1 2 3 0\"\n",
    "\n",
    "# def rec(n, b):\n",
    "#     lst.append(n)\n",
    "#     input(lst)\n",
    "#     for i in range(len(d)):\n",
    "#         rec(d[i:], b)\n",
    "\n",
    "# lst = []\n",
    "# d = d.split()\n",
    "# print(rec([], []))\n",
    "\n",
    "\n",
    "\n",
    "def chunked(d, n):\n",
    "    lst = []\n",
    "    for indx in range(len(d) - n + 1):\n",
    "        lst.append(d[indx:indx+n])\n",
    "    return lst\n",
    "\n",
    "d = d.split()\n",
    "comb = [[]]\n",
    "for i in range(1, len(d) + 1):\n",
    "    comb.extend(chunked(d, i))\n",
    "\n",
    "print(comb)\n",
    "assert comb == [[], ['1'], ['2'], ['3'], ['0'], ['1', '2'], ['2', '3'], ['3', '0'], ['1', '2', '3'], ['2', '3', '0'], ['1', '2', '3', '0']]"
   ]
  },
  {
   "cell_type": "code",
   "execution_count": 60,
   "id": "6f73b591",
   "metadata": {},
   "outputs": [
    {
     "name": "stdout",
     "output_type": "stream",
     "text": [
      "[[], ['1'], ['2'], ['3'], ['0'], ['1', '2'], ['2', '3'], ['3', '0'], ['1', '2', '3'], ['2', '3', '0'], ['1', '2', '3', '0']]\n"
     ]
    }
   ],
   "source": [
    "print([[]]+[d[i:i+n] for n in range(1,len(d)+1) for i in range(len(d)-n+1)])"
   ]
  },
  {
   "cell_type": "code",
   "execution_count": 61,
   "id": "4ef8aca3",
   "metadata": {},
   "outputs": [
    {
     "name": "stdout",
     "output_type": "stream",
     "text": [
      "[[], 'a', 'n', 't', '0', 'an', 'nt', 't0', 'ant', 'nt0', 'ant0']\n"
     ]
    }
   ],
   "source": [
    "n = len(d)\n",
    "lst = [[]]\n",
    "for i in range(n):\n",
    "    for j in range(n - i):\n",
    "        lst.append(s[j:j + i + 1])\n",
    "print(lst)"
   ]
  },
  {
   "cell_type": "markdown",
   "id": "35cacc44",
   "metadata": {},
   "source": [
    "# <center> Mатрицы"
   ]
  },
  {
   "cell_type": "markdown",
   "id": "707a5eb1",
   "metadata": {},
   "source": [
    "### Метод ljust() rjust()\n",
    "Строковый метод ljust() выравнивает текст по ширине, добавляя пробелы в конец текста.\n",
    "\n",
    "Результатом выполнения следующего кода:\n",
    "\n",
    "- print('a'.ljust(3))\n",
    "- print('ab'.ljust(3))\n",
    "- print('abc'.ljust(3))\n",
    "\n",
    "будет:\n",
    "\n",
    "- a⎵⎵\n",
    "- ab⎵\n",
    "- abc\n",
    "\n",
    "#### Используйте функцию print_matrix() для вывода квадратной матрицы размерности n:\n",
    "\n",
    "```Python\n",
    "def print_matrix(matrix, n, width=1):\n",
    "    for r in range(n):\n",
    "        for c in range(n):\n",
    "            print(str(matrix[r][c]).ljust(width), end=' ')\n",
    "        print()\n",
    "```\n",
    "\n",
    "#### Для считывания матрицы из n строк, заполненной числами, удобно использовать следующий код:\n",
    "\n",
    "```Python\n",
    "n = int(input())\n",
    "matrix = []\n",
    "for i in range(n):\n",
    "    temp = [int(num) for num in input().split()]\n",
    "    matrix.append(temp)\n",
    "```"
   ]
  },
  {
   "cell_type": "markdown",
   "id": "ceb44a91",
   "metadata": {},
   "source": [
    "### Вывести матрицу 1\n",
    "На вход программе подаются два натуральных числа n и m, каждое на отдельной строке — количество строк и столбцов в матрице. Далее вводятся сами элементы матрицы — слова, каждое на отдельной строке; подряд идут элементы сначала первой строки, затем второй, и т.д.\n",
    "\n",
    "Напишите программу, которая сначала считывает элементы матрицы один за другим, затем выводит их в виде матрицы.\n",
    "\n",
    "Формат входных данных:\n",
    "\n",
    "На вход программе подаются два числа nn и mm — количество строк и столбцов в матрице, далее идут n×m слов, каждое на отдельной строке.\n",
    "\n",
    "Формат выходных данных:\n",
    "\n",
    "Программа должна вывести считанную матрицу, разделяя ее элементы одним пробелом."
   ]
  },
  {
   "cell_type": "code",
   "execution_count": 62,
   "id": "7994f28b",
   "metadata": {},
   "outputs": [],
   "source": [
    "d = \"\"\"и\n",
    "швец\n",
    "и\n",
    "жнец\n",
    "и\n",
    "на\n",
    "дуде\n",
    "игрец\n",
    "\"\"\"\n",
    "\n",
    "# d = d.split()\n",
    "\n",
    "# n, m = input(), input()\n",
    "\n",
    "def print_matrix(matrix, n, m, width=1):\n",
    "    for r in range(n):\n",
    "        for c in range(m):\n",
    "            print(str(matrix[r][c]).ljust(width), end=' ')\n",
    "        print()\n",
    "\n",
    "# matrix = []\n",
    "# for i in range(n):\n",
    "#     temp = []\n",
    "#     for j in range(m):\n",
    "#         temp.append(input())\n",
    "#     matrix.append(temp)\n",
    "\n",
    "# print_matrix(matrix, n, m)"
   ]
  },
  {
   "cell_type": "markdown",
   "id": "a8a88d5d",
   "metadata": {},
   "source": [
    "### Вывести матрицу 2\n",
    "На вход программе подаются два натуральных числа nn и mm, каждое на отдельной строке — количество строк и столбцов в матрице. Далее вводятся сами элементы матрицы — слова, каждое на отдельной строке; подряд идут элементы сначала первой строки, затем второй, и т.д.\n",
    "\n",
    "Напишите программу, которая считывает элементы матрицы один за другим, выводит их в виде матрицы, выводит пустую строку, и снова ту же матрицу, но уже поменяв местами строки со столбцами: первая строка выводится как первый столбец, и так далее.\n",
    "\n",
    "Формат входных данных:\n",
    "\n",
    "На вход программе подаются два числа n и m — количество строк и столбцов в матрице, далее идут n×m слов, каждое на отдельной строке.\n",
    "\n",
    "Формат выходных данных:\n",
    "\n",
    "Программа должна вывести считанную матрицу, за ней пустую строку, и ту же матрицу, но поменяв местами строки со столбцами. Элементы матрицы разделять одним пробелом."
   ]
  },
  {
   "cell_type": "code",
   "execution_count": 63,
   "id": "d8c70386",
   "metadata": {},
   "outputs": [
    {
     "name": "stdout",
     "output_type": "stream",
     "text": [
      "и швец \n",
      "и жнец \n",
      "и на \n",
      "дуде игрец \n",
      "\n",
      "и и и дуде \n",
      "швец жнец на игрец \n"
     ]
    }
   ],
   "source": [
    "d = \"\"\"и\n",
    "швец\n",
    "и\n",
    "жнец\n",
    "и\n",
    "на\n",
    "дуде\n",
    "игрец\"\"\"\n",
    "n, m = 4, 2\n",
    "\n",
    "d = d.split()\n",
    "matrix = []\n",
    "for i in range(0, (n * m), m):\n",
    "    temp = []\n",
    "    for j in range(m):\n",
    "        temp.append(d[i+j])\n",
    "    matrix.append(temp)\n",
    "\n",
    "print_matrix(matrix, n, m)\n",
    "print()\n",
    "\n",
    "matrix2 = []\n",
    "for i in range(m):\n",
    "    temp = []\n",
    "    for j in range(n):\n",
    "        temp.append(matrix[j][i])\n",
    "    matrix2.append(temp)\n",
    "        \n",
    "print_matrix(matrix2, m, n)"
   ]
  },
  {
   "cell_type": "markdown",
   "id": "efbc15ad",
   "metadata": {},
   "source": [
    "```Python\n",
    "n, m = int(input()), int(input())\n",
    "matrix = []\n",
    "\n",
    "for _ in range(n):\n",
    "    row = [input() for j in range(m)]\n",
    "    matrix.append(row)\n",
    "    \n",
    "for i in range(n):\n",
    "    for j in range(m):\n",
    "        print(matrix[i][j], end=' ')\n",
    "    print()\n",
    "\n",
    "print()\n",
    "\n",
    "for j in range(m):\n",
    "    for i in range(n):\n",
    "        print(matrix[i][j], end=' ')\n",
    "    print()\n",
    "    \n",
    "#######################################################\n",
    "\n",
    "j, i = [int(input()) for _ in range(2)]\n",
    "c = [[input() for _ in range(i)] for _ in range(j)]\n",
    "m = [[c[l][k] for l in range(j)]for k in range(i)]\n",
    "[[print(*_) for _ in c], [print()], [print(*_) for _ in m]]\n",
    "        \n",
    "```"
   ]
  },
  {
   "cell_type": "markdown",
   "id": "46689e06",
   "metadata": {},
   "source": [
    "### След матрицы\n",
    "Следом квадратной матрицы называется сумма элементов главной диагонали. Напишите программу, которая выводит след заданной квадратной матрицы.\n",
    "\n",
    "Формат входных данных:\n",
    "\n",
    "На вход программе подаётся натуральное число n — количество строк и столбцов в матрице, затем элементы матрицы (целые числа) построчно через пробел.\n",
    "\n",
    "Формат выходных данных:\n",
    "\n",
    "Программа должна вывести одно число — след заданной матрицы."
   ]
  },
  {
   "cell_type": "code",
   "execution_count": 64,
   "id": "d59175f2",
   "metadata": {},
   "outputs": [
    {
     "name": "stdout",
     "output_type": "stream",
     "text": [
      "4\n"
     ]
    }
   ],
   "source": [
    "n = 4\n",
    "m = \"\"\"1 0 0 0\n",
    "0 1 0 0\n",
    "0 0 1 0\n",
    "0 0 0 1\"\"\"\n",
    "\n",
    "print(sum([[int(a) for a in m.split(\"\\n\")[i].split()][i] for i in range(n)]))"
   ]
  },
  {
   "cell_type": "markdown",
   "id": "5a40fc01",
   "metadata": {},
   "source": [
    "```Python\n",
    "\n",
    "print(sum([int(a) for a in input().split()[i] for i in range(int(input()))]))\n",
    "\n",
    "#######################\n",
    "\n",
    "res = 0\n",
    "for i in range(int(input())):\n",
    "    res += int(input().split()[i])\n",
    "print(res)\n",
    "\n",
    "```"
   ]
  },
  {
   "cell_type": "markdown",
   "id": "c3b5de74",
   "metadata": {},
   "source": [
    "### Больше среднего\n",
    "Напишите программу, которая выводит количество элементов квадратной матрицы в каждой строке, больших среднего арифметического элементов данной строки.\n",
    "\n",
    "Формат входных данных:\n",
    "\n",
    "На вход программе подаётся натуральное число nn — количество строк и столбцов в матрице, затем элементы матрицы (целые числа) построчно через пробел.\n",
    "\n",
    "Формат выходных данных:\n",
    "\n",
    "Программа должна вывести nn чисел — для каждой строки количество элементов матрицы, больших среднего арифметического элементов данной строки."
   ]
  },
  {
   "cell_type": "code",
   "execution_count": 65,
   "id": "4a77b225",
   "metadata": {},
   "outputs": [
    {
     "name": "stdout",
     "output_type": "stream",
     "text": [
      "2\n",
      "1\n",
      "2\n",
      "1\n"
     ]
    }
   ],
   "source": [
    "n = 4\n",
    "\n",
    "m = \"\"\"1 2 3 4\n",
    "5 6 3 15\n",
    "0 2 3 1\n",
    "5 2 8 5\"\"\"\n",
    "\n",
    "\n",
    "for i in m.split(\"\\n\"):\n",
    "    mean_ = sum([int(num) for num in i.split()]) / len(i.split())\n",
    "    bigger = 0 \n",
    "    for j in i.split():\n",
    "        if int(j) > mean_:\n",
    "            bigger += 1\n",
    "    print(bigger)"
   ]
  },
  {
   "attachments": {
    "2021-01-03_16-37-35.png": {
     "image/png": "[encoded data removed]"
    }
   },
   "cell_type": "markdown",
   "id": "df938ded",
   "metadata": {},
   "source": [
    "### Максимальный в области 1\n",
    "Напишите программу, которая выводит максимальный элемент в заштрихованной области квадратной матрицы.\n",
    "\n",
    "<div>\n",
    "<img src=\"attachment:2021-01-03_16-37-35.png\" width=\"300\">\n",
    "</div>\n",
    "\n",
    "Формат входных данных:\n",
    "\n",
    "На вход программе подаётся натуральное число n — количество строк и столбцов в матрице, затем элементы матрицы (целые числа) построчно через пробел.\n",
    "\n",
    "Формат выходных данных:\n",
    "\n",
    "Программа должна вывести одно число — максимальный элемент в заштрихованной области квадратной матрицы."
   ]
  },
  {
   "cell_type": "code",
   "execution_count": 66,
   "id": "67908946",
   "metadata": {},
   "outputs": [
    {
     "data": {
      "text/plain": [
       "7"
      ]
     },
     "execution_count": 66,
     "metadata": {},
     "output_type": "execute_result"
    }
   ],
   "source": [
    "n = 3\n",
    "m = \"\"\"1 4 5\n",
    "6 7 8\n",
    "1 1 6\"\"\"\n",
    "\n",
    "max_ = -1e5\n",
    "matrix = [[0]*n for _ in range(n)]\n",
    "for i in range(n):\n",
    "    line = m.split('\\n')[i].split()\n",
    "    for j in range(n):\n",
    "        matrix[i][j] = line[j]\n",
    "        if j <= i:\n",
    "            max_ = max(max_, int(line[j]))\n",
    "max_ "
   ]
  },
  {
   "cell_type": "markdown",
   "id": "a7cc4993",
   "metadata": {},
   "source": [
    "```Python\n",
    "print(max(e for i in range(int(input())) for e in input().split()[:i + 1]))\n",
    "\n",
    "################################\n",
    "\n",
    "n = int(input())\n",
    "matrix = []\n",
    "\n",
    "for _ in range(n):\n",
    "    row = [int(i) for i in input().split()]\n",
    "    matrix.append(row)\n",
    "    \n",
    "largest = matrix[0][0]\n",
    "\n",
    "for i in range(n):\n",
    "    for j in range(n):\n",
    "        if i >= j and matrix[i][j] > largest:\n",
    "            largest = matrix[i][j]\n",
    "\n",
    "print(largest) \n",
    "```"
   ]
  },
  {
   "attachments": {
    "2021-01-03_16-49-34.png": {
     "image/png": "[encoded data removed]"
    }
   },
   "cell_type": "markdown",
   "id": "46bdf992",
   "metadata": {},
   "source": [
    "### Максимальный в области 2 🌶️\n",
    "Напишите программу, которая выводит максимальный элемент в заштрихованной области квадратной матрицы.\n",
    "\n",
    "<div>\n",
    "<img src=\"attachment:2021-01-03_16-49-34.png\" width=\"300\">\n",
    "</div>\n",
    "\n",
    "Формат входных данных:\n",
    "\n",
    "На вход программе подаётся натуральное число n — количество строк и столбцов в матрице, затем элементы матрицы (целые числа) построчно через пробел.\n",
    "\n",
    "Формат выходных данных:\n",
    "\n",
    "Программа должна вывести одно число — максимальный элемент в заштрихованной области квадратной матрицы."
   ]
  },
  {
   "cell_type": "code",
   "execution_count": 67,
   "id": "379cc345",
   "metadata": {},
   "outputs": [
    {
     "data": {
      "text/plain": [
       "8"
      ]
     },
     "execution_count": 67,
     "metadata": {},
     "output_type": "execute_result"
    }
   ],
   "source": [
    "n = 3\n",
    "m = \"\"\"1 4 5\n",
    "6 7 8\n",
    "1 1 6\"\"\"\n",
    "\n",
    "max_ = -1e5\n",
    "matrix = [[0]*n for _ in range(n)]\n",
    "for i in range(n):\n",
    "    line = m.split('\\n')[i].split()\n",
    "    for j in range(n):\n",
    "        matrix[i][j] = line[j]\n",
    "        if (i >= j and i + j <= n - 1) or (i <= j and i + j >= n - 1) :\n",
    "            max_ = max(max_, int(line[j]))\n",
    "max_ "
   ]
  },
  {
   "attachments": {
    "2021-01-03_16-58-04.png": {
     "image/png": "[encoded data removed]"
    }
   },
   "cell_type": "markdown",
   "id": "68b6fbc0",
   "metadata": {},
   "source": [
    "### Суммы четвертей\n",
    "Квадратная матрица разбивается на четыре четверти, ограниченные главной и побочной диагоналями: верхнюю, нижнюю, левую и правую.\n",
    "<div>\n",
    "<img src=\"attachment:2021-01-03_16-58-04.png\" width=\"300\">\n",
    "</div>\n",
    "Напишите программу, которая вычисляет сумму элементов: верхней четверти; правой четверти; нижней четверти; левой четверти.\n",
    "\n",
    "Формат входных данных:\n",
    "\n",
    "На вход программе подаётся натуральное число nn — количество строк и столбцов в матрице, затем элементы матрицы (целые числа) построчно через пробел.\n",
    "\n",
    "Формат выходных данных:\n",
    "\n",
    "Программа должна вывести текст в соответствии с условием задачи.\n",
    "\n",
    "Примечание. Элементы диагоналей не учитываются."
   ]
  },
  {
   "attachments": {
    "ucarecdn.png": {
     "image/png": "[encoded data removed]"
    }
   },
   "cell_type": "markdown",
   "id": "1a28145c",
   "metadata": {},
   "source": [
    "<div>\n",
    "<img src=\"attachment:ucarecdn.png\" width=\"300\">\n",
    "</div>"
   ]
  },
  {
   "cell_type": "code",
   "execution_count": 68,
   "id": "3b1722cc",
   "metadata": {},
   "outputs": [
    {
     "name": "stdout",
     "output_type": "stream",
     "text": [
      "Верхняя четверть: 5\n",
      "Правая четверть: 14\n",
      "Нижняя четверть: 5\n",
      "Левая четверть: 8\n"
     ]
    }
   ],
   "source": [
    "n = 4\n",
    "m = \"\"\"1 2 3 4\n",
    "5 6 7 8\n",
    "3 4 5 6\n",
    "1 2 3 4\"\"\"\n",
    "\n",
    "a1,a2,a3,a4 = 0,0,0,0\n",
    "matrix = [[0]*n for _ in range(n)]\n",
    "for i in range(n):\n",
    "    line = m.split('\\n')[i].split()\n",
    "    for j in range(n):\n",
    "        if i < j and i + j < n - 1:\n",
    "            a1 += int(line[j])\n",
    "        if i < j and i + j > n - 1:\n",
    "            a2 += int(line[j])\n",
    "        if i > j and i + j > n - 1:\n",
    "            a3 += int(line[j])\n",
    "        if i > j and i + j < n - 1:\n",
    "            a4 += int(line[j])\n",
    "        \n",
    "        \n",
    "print(f\"Верхняя четверть: {a1}\\nПравая четверть: {a2}\\n\\\n",
    "Нижняя четверть: {a3}\\nЛевая четверть: {a4}\")"
   ]
  },
  {
   "cell_type": "markdown",
   "id": "ae01a76d",
   "metadata": {},
   "source": [
    "### Таблица умножения\n",
    "На вход программе подаются два натуральных числа n и m — количество строк и столбцов в матрице. Создайте матрицу mult размером n×m и заполните её таблицей умножения по формуле mult[i][j] = i * j.\n",
    "\n",
    "Формат входных данных:\n",
    "\n",
    "На вход программе на разных строках подаются два числа nn и mm — количество строк и столбцов в матрице.\n",
    "\n",
    "Формат выходных данных:\n",
    "\n",
    "Программа должна вывести таблицу умножения отводя на вывод каждого числа ровно 3 символа (для этого используйте строковый метод ljust())."
   ]
  },
  {
   "cell_type": "code",
   "execution_count": 69,
   "id": "40f9d9b2",
   "metadata": {},
   "outputs": [
    {
     "name": "stdout",
     "output_type": "stream",
     "text": [
      "0   0   0   \n",
      "0   1   2   \n",
      "0   2   4   \n",
      "0   3   6   \n",
      "0   4   8   \n",
      "0   5   10  \n",
      "0   6   12  \n",
      "0   7   14  \n"
     ]
    }
   ],
   "source": [
    "n = 8\n",
    "m = 3\n",
    "\n",
    "mat = [[0]* m for _ in range(n)]\n",
    "for i in range(n):\n",
    "    for j in range(m):\n",
    "        mat[i][j] = i*j\n",
    "for i in range(n):\n",
    "    for j in range(m):\n",
    "        print(str(mat[i][j]).ljust(3), end=\" \")\n",
    "    print()\n",
    "    "
   ]
  },
  {
   "cell_type": "markdown",
   "id": "1b0962f4",
   "metadata": {},
   "source": [
    "```Python\n",
    "[print(*[str(i * j).ljust(3) for j in d[1]]) for d in [[range(int(input())) for _ in 'nm']] for i in d[0]]\n",
    "```"
   ]
  },
  {
   "cell_type": "markdown",
   "id": "9ee8e3d7",
   "metadata": {},
   "source": [
    "### Максимум в таблице\n",
    "На вход программе подаются два натуральных числа n и m — количество строк и столбцов в матрице, затем n строк по m целых чисел в каждой, отделенных символом пробела.\n",
    "\n",
    "Напишите программу, которая находит индексы (строку и столбец) первого вхождения максимального элемента.\n",
    "\n",
    "Формат входных данных:\n",
    "\n",
    "На вход программе на разных строках подаются два числа nn и mm — количество строк и столбцов в матрице, затем сами элементы матрицы построчно через пробел.\n",
    "\n",
    "Формат выходных данных:\n",
    "\n",
    "Программа должна вывести два числа: номер строки и номер столбца, в которых стоит наибольший элемент таблицы. Если таких элементов несколько, то выводится тот, у которого меньше номер строки, а если номера строк равны то тот, у которого меньше номер столбца."
   ]
  },
  {
   "cell_type": "code",
   "execution_count": 70,
   "id": "89f6569f",
   "metadata": {},
   "outputs": [
    {
     "name": "stdout",
     "output_type": "stream",
     "text": [
      "0 4\n"
     ]
    }
   ],
   "source": [
    "n = 6\n",
    "m = 8\n",
    "inp = \"\"\"-4 -3 -4 -4 -1 -8 -2 -3\n",
    "-2 -3 -9 -7 -3 -4 -4 -5\n",
    "-4 -3 -4 -4 -1 -2 -2 -3\n",
    "-2 -3 -9 -3 -3 -1 -4 -5\n",
    "-5 -3 -4 -4 -1 -2 -2 -3\n",
    "-2 -3 -7 -8 -3 -4 -4 -5\"\"\"\n",
    "\n",
    "out = []\n",
    "max_ = -1e5\n",
    "for i in range(n):\n",
    "    mat = inp.split(\"\\n\")[i].split()\n",
    "    for j in range(m):\n",
    "        if int(mat[j]) > max_:\n",
    "            max_ = int(mat[j])\n",
    "            out.append((max_, i,j))\n",
    "print(*out[-1][1:])\n",
    "            "
   ]
  },
  {
   "cell_type": "markdown",
   "id": "4e25427f",
   "metadata": {},
   "source": [
    "```Python\n",
    "n, m = int(input()), int(input())\n",
    "matrix = [[int(i) for i in input().split()] for _ in range(n)]\n",
    "row, col = 0, 0\n",
    "    \n",
    "for i in range(n):\n",
    "    for j in range(m):\n",
    "        if matrix[i][j] > matrix[row][col]:\n",
    "            row,col = i, j\n",
    "            \n",
    "print(row, col)\n",
    "\n",
    "```"
   ]
  },
  {
   "cell_type": "markdown",
   "id": "e0802bc5",
   "metadata": {},
   "source": [
    "### Обмен столбцов\n",
    "Напишите программу, которая меняет местами столбцы в матрице.\n",
    "\n",
    "Формат входных данных:\n",
    "\n",
    "На вход программе на разных строках подаются два натуральных числа nn и mm — количество строк и столбцов в матрице, затем элементы матрицы построчно через пробел, затем числа ii и jj — номера столбцов, подлежащих обмену.\n",
    "\n",
    "Формат выходных данных:\n",
    "\n",
    "Программа должна вывести указанную таблицу с замененными столбцами."
   ]
  },
  {
   "cell_type": "code",
   "execution_count": 71,
   "id": "f2de69d0",
   "metadata": {},
   "outputs": [
    {
     "name": "stdout",
     "output_type": "stream",
     "text": [
      "12  11  13  14  \n",
      "22  21  23  24  \n",
      "32  31  33  34  \n"
     ]
    }
   ],
   "source": [
    "n = 3\n",
    "m = 4\n",
    "inp = \"\"\"11 12 13 14\n",
    "21 22 23 24\n",
    "31 32 33 34\"\"\"\n",
    "l = [0, 1]\n",
    "\n",
    "matrix = []\n",
    "for i in range(n):\n",
    "    mat = inp.split(\"\\n\")[i].split()\n",
    "    mat[l[0]], mat[l[1]] = mat[l[1]], mat[l[0]]\n",
    "    matrix.append(mat)\n",
    "    \n",
    "for i in range(n):\n",
    "    for j in range(m):\n",
    "        print(str(matrix[i][j]).ljust(3), end=\" \")\n",
    "    print()\n",
    "    \n",
    "            "
   ]
  },
  {
   "cell_type": "markdown",
   "id": "3f1d86fd",
   "metadata": {},
   "source": [
    "```Python\n",
    "\n",
    "n, m = int(input()), int(input())\n",
    "mult = [input().split() for _ in range(n)]\n",
    "i, j = map(int, input().split())\n",
    "for c in mult:\n",
    "  c[i], c[j] = c[j], c[i]\n",
    "  print(*c)\n",
    "  \n",
    "\n",
    "```"
   ]
  },
  {
   "cell_type": "markdown",
   "id": "d49d496b",
   "metadata": {},
   "source": [
    "### Симметричная матрица\n",
    "Напишите программу, которая проверяет симметричность квадратной матрицы относительно главной диагонали.\n",
    "\n",
    "Формат входных данных:\n",
    "\n",
    "На вход программе подаётся натуральное число n — количество строк и столбцов в матрице, затем элементы матрицы построчно через пробел.\n",
    "\n",
    "Формат выходных данных:\n",
    "\n",
    "Программа должна вывести YES, если матрица симметрична относительно главной диагонали, и слово NO в противном случае."
   ]
  },
  {
   "cell_type": "code",
   "execution_count": 72,
   "id": "49ffeaa4",
   "metadata": {},
   "outputs": [
    {
     "name": "stdout",
     "output_type": "stream",
     "text": [
      "YES\n"
     ]
    }
   ],
   "source": [
    "n = 3\n",
    "m = \"\"\"0 1 2\n",
    "1 2 3\n",
    "2 3 4\"\"\"\n",
    "\n",
    "\n",
    "matrix = [[int(j) for j in m.split(\"\\n\")[i].split()] for i in range(n)]\n",
    "out = \"YES\"\n",
    "for i in range(n):\n",
    "    for j in range(i+1, n):\n",
    "        if matrix[i][j] != matrix[j][i]:\n",
    "            out = \"NO\"\n",
    "            break\n",
    "print(out)\n",
    "        "
   ]
  },
  {
   "cell_type": "markdown",
   "id": "5d2c391b",
   "metadata": {},
   "source": [
    "### Обмен диагоналей\n",
    "Дана квадратная матрица чисел. Напишите программу, которая меняет местами элементы, стоящие на главной и побочной диагонали, при этом каждый элемент должен остаться в том же столбце (то есть в каждом столбце нужно поменять местами элемент на главной диагонали и на побочной диагонали).\n",
    "\n",
    "Формат входных данных:\n",
    "\n",
    "На вход программе подаётся натуральное число nn — количество строк и столбцов в матрице, затем элементы матрицы построчно через пробел.\n",
    "\n",
    "Формат выходных данных:\n",
    "\n",
    "Программа должна вывести матрицу с элементами главной и побочной диагонали, поменявшимися своими местами."
   ]
  },
  {
   "cell_type": "code",
   "execution_count": 73,
   "id": "e49c9a00",
   "metadata": {},
   "outputs": [
    {
     "name": "stdout",
     "output_type": "stream",
     "text": [
      "7 2 9 \n",
      "4 5 6 \n",
      "1 8 3 \n"
     ]
    }
   ],
   "source": [
    "n = 3\n",
    "m = \"\"\"1 2 3\n",
    "4 5 6\n",
    "7 8 9\"\"\"\n",
    "\n",
    "mat = [[int(j) for j in m.split(\"\\n\")[i].split()] for i in range(n)]\n",
    "for i in range(0, n // 2):\n",
    "    for j in range(n):\n",
    "        if j == i or j == n-1-i:\n",
    "            mat[i][j],mat[n-1-i][j] = mat[n-1-i][j], mat[i][j]\n",
    "        \n",
    "for i in range(n):\n",
    "    for j in range(n):\n",
    "        print(str(mat[i][j]).ljust(1), end=\" \")\n",
    "    print()\n"
   ]
  },
  {
   "cell_type": "markdown",
   "id": "00f6c3d2",
   "metadata": {},
   "source": [
    "```Python\n",
    "n = int(input())\n",
    "matrix = [input().split() for _ in range(n)]\n",
    "\n",
    "for i in range(n):\n",
    "    matrix[i][i], matrix[n - i - 1][i] = matrix[n - i - 1][i], matrix[i][i]\n",
    "\n",
    "for row in matrix:\n",
    "    print(*row)\n",
    "    \n",
    "```"
   ]
  },
  {
   "cell_type": "markdown",
   "id": "b3a24ed4",
   "metadata": {},
   "source": [
    "### Зеркальное отображение\n",
    "Дана квадратная матрица чисел. Напишите программу, которая зеркально отображает её элементы относительно горизонтальной оси симметрии.\n",
    "\n",
    "Формат входных данных:\n",
    "\n",
    "На вход программе подаётся натуральное число n — количество строк и столбцов в матрице, затем элементы матрицы построчно через пробел.\n",
    "\n",
    "Формат выходных данных:\n",
    "\n",
    "Программа должна вывести матрицу в которой зеркально отображены элементы относительно горизонтальной оси симметрии."
   ]
  },
  {
   "cell_type": "code",
   "execution_count": 74,
   "id": "2f60b6e9",
   "metadata": {},
   "outputs": [
    {
     "name": "stdout",
     "output_type": "stream",
     "text": [
      "3 4 5 6 \n",
      "8 6 4 2 \n",
      "5 6 7 8 \n",
      "1 2 3 4 \n"
     ]
    }
   ],
   "source": [
    "n = 4\n",
    "m = \"\"\"1 2 3 4\n",
    "5 6 7 8\n",
    "8 6 4 2\n",
    "3 4 5 6\"\"\"\n",
    "\n",
    "mat = [[int(j) for j in m.split(\"\\n\")[i].split()] for i in range(n)]\n",
    "for i in range(0, n // 2):\n",
    "    for j in range(n):\n",
    "        mat[i][j],mat[n-1-i][j] = mat[n-1-i][j], mat[i][j]\n",
    "        \n",
    "for i in range(n):\n",
    "    for j in range(n):\n",
    "        print(str(mat[i][j]).ljust(1), end=\" \")\n",
    "    print()\n"
   ]
  },
  {
   "cell_type": "markdown",
   "id": "3da7349b",
   "metadata": {},
   "source": [
    "```Python\n",
    "n = int(input())\n",
    "\n",
    "matrix = [[int(item) for item in input().split()] for _ in range(n)]\n",
    "matrix.reverse()\n",
    "\n",
    "for row in matrix:\n",
    "    print(*row)\n",
    "    \n",
    "##############################################\n",
    "\n",
    "matrix = [input().split() for _ in range(int(input()))]\n",
    "[print(*r) for r in matrix[::-1]]\n",
    "\n",
    "```"
   ]
  },
  {
   "cell_type": "markdown",
   "id": "4540a09a",
   "metadata": {},
   "source": [
    "### Поворот матрицы\n",
    "Напишите программу, которая поворачивает квадратную матрицу чисел на 90 \n",
    "∘ по часовой стрелке.\n",
    "\n",
    "Формат входных данных:\n",
    "\n",
    "На вход программе подаётся натуральное число n — количество строк и столбцов в матрице, затем элементы матрицы построчно через пробел.\n",
    "\n",
    "Формат выходных данных:\n",
    "\n",
    "Программа должна вывести результат на экран, числа должны быть разделены одним пробелом."
   ]
  },
  {
   "cell_type": "code",
   "execution_count": 75,
   "id": "4ea98b1f",
   "metadata": {},
   "outputs": [
    {
     "name": "stdout",
     "output_type": "stream",
     "text": [
      "7 4 1 \n",
      "8 5 2 \n",
      "9 6 3 \n"
     ]
    }
   ],
   "source": [
    "n = 3\n",
    "m = \"\"\"1 2 3\n",
    "4 5 6\n",
    "7 8 9\"\"\"\n",
    "\n",
    "mat = [[int(j) for j in m.split(\"\\n\")[i].split()] for i in range(n)]\n",
    "out = [[0]*n for i in range(n)]\n",
    "for i in range(n):\n",
    "    for j in range(n):\n",
    "        out[i][j] = mat[n-j-1][i]\n",
    "        \n",
    "for i in range(n):\n",
    "    for j in range(n):\n",
    "        print(str(out[i][j]).ljust(1), end=\" \")\n",
    "    print()\n"
   ]
  },
  {
   "attachments": {
    "5bc94216f5df3063ca010c369dfbf24c.jpg": {
     "image/jpeg": "[encoded data removed]"
    }
   },
   "cell_type": "markdown",
   "id": "55f7d819",
   "metadata": {},
   "source": [
    "### Ходы коня\n",
    "На шахматной доске 8×8 стоит конь. Напишите программу, которая отмечает положение коня на доске и все клетки, которые бьет конь. Клетку, где стоит конь, отметьте английской буквой N, клетки, которые бьет конь, отметьте символами *, остальные клетки заполните точками.\n",
    "\n",
    "Формат входных данных:\n",
    "\n",
    "На вход программе подаются координаты коня на шахматной доске в шахматной нотации (то есть в виде e4, где сначала записывается номер столбца (буква от a до h, слева направо), затем номеру строки (цифра от 1 до 8, снизу вверх)).\n",
    "\n",
    "Формат выходных данных:\n",
    "\n",
    "Программа должна вывести на экран изображение доски, разделяя элементы пробелами.\n",
    "\n",
    "Примечание. Шахматная доска имеет вид:\n",
    "\n",
    "<div>\n",
    "<img src=\"attachment:5bc94216f5df3063ca010c369dfbf24c.jpg\" width=\"300\">\n",
    "</div>"
   ]
  },
  {
   "cell_type": "code",
   "execution_count": 76,
   "id": "0b1056ee",
   "metadata": {},
   "outputs": [
    {
     "name": "stdout",
     "output_type": "stream",
     "text": [
      "* . * . . . . . \n",
      ". . . * . . . . \n",
      ". N . . . . . . \n",
      ". . . * . . . . \n",
      "* . * . . . . . \n",
      ". . . . . . . . \n",
      ". . . . . . . . \n",
      ". . . . . . . . \n"
     ]
    }
   ],
   "source": [
    "n = \"b6\"\n",
    "ax = {\"a\":1, \"b\":2, \"c\":3, \"d\":4, \"e\":5, \"f\":6, \"g\":7, \"h\":8}\n",
    "k1, k2 = int(n[1]), ax[n[0]] \n",
    "\n",
    "board = [[\".\"]*8 for i in range(8)]\n",
    "board[k1 - 1][k2 - 1] = \"N\"\n",
    "for i in range(8):\n",
    "    for j in range(8):\n",
    "        x, y = k2 - 1, k1 - 1\n",
    "        if abs((j - x)*(i - y)) == 2:\n",
    "            board[i][j] = \"*\"\n",
    "            \n",
    "for i in range(7, -1, -1):\n",
    "    for j in range(8):\n",
    "        print(str(board[i][j]).ljust(1), end=\" \")\n",
    "    print()"
   ]
  },
  {
   "cell_type": "markdown",
   "id": "efdd1455",
   "metadata": {},
   "source": [
    "### Магический квадрат 🌶️\n",
    "Магическим квадратом порядка n называется квадратная таблица размера n×n, составленная из всех чисел 1, 2, 3, n^2\n",
    "  так, что суммы по каждому столбцу, каждой строке и каждой из двух диагоналей равны между собой. Напишите программу, которая проверяет, является ли заданная квадратная матрица магическим квадратом.\n",
    "\n",
    "Формат входных данных:\n",
    "\n",
    "На вход программе подаётся натуральное число n — количество строк и столбцов в матрице, затем элементы матрицы: n строк, по n чисел в каждой, разделённые пробелами.\n",
    "\n",
    "Формат выходных данных:\n",
    "\n",
    "Программа должна вывести слово YES, если матрица является магическим квадратом, и слово NO в противном случае."
   ]
  },
  {
   "cell_type": "code",
   "execution_count": 77,
   "id": "36e5facc",
   "metadata": {},
   "outputs": [
    {
     "name": "stdout",
     "output_type": "stream",
     "text": [
      "NO\n"
     ]
    }
   ],
   "source": [
    "n = 3\n",
    "m = \"\"\"4 9 2\n",
    "8 1 6\n",
    "3 5 7\"\"\"\n",
    "\n",
    "row = [0]*n\n",
    "col = [0]*n\n",
    "diag1 = 0\n",
    "diag2 = 0\n",
    "out = \"YES\"\n",
    "\n",
    "numbers = []\n",
    "for i in range(n):\n",
    "    line = m.split(\"\\n\")[i].split()\n",
    "    for j, num in enumerate(line):\n",
    "        num = int(num)\n",
    "        numbers.append(num)\n",
    "        row[i] += num\n",
    "        col[j] += num\n",
    "        if i == j:\n",
    "            diag1 += int(line[j])\n",
    "            diag2 += int(line[n - 1 - j])\n",
    "\n",
    "if max(numbers) != len(set(numbers)) or 0 in numbers:\n",
    "    out = \"NO\"\n",
    "    \n",
    "print(\n",
    "    \"YES\" if (set(row).pop() == set(col).pop() == diag1 == diag2 \n",
    "              and len(set(row)) == len(set(col)) == 1 \n",
    "              and out != \"NO\") else \"NO\"\n",
    ")"
   ]
  },
  {
   "cell_type": "markdown",
   "id": "696d830e",
   "metadata": {},
   "source": [
    "```Python\n",
    "\n",
    "def magic_square():\n",
    "    \n",
    "    cols = int(input())\n",
    "    matrix = []\n",
    "    sum_main_diag = 0\n",
    "    sum_semi_diag = 0\n",
    "    check = []\n",
    "\n",
    "    for i in range(cols):                                # заполняем матрицу\n",
    "        elem = [int(num) for num in input().split()]\n",
    "        matrix.append(elem)\n",
    "\n",
    "    for i in range(cols):                                # заполняем проверочный список всеми элементами матрицы\n",
    "        check += matrix[i]\n",
    "\n",
    "    for i in range(1, len(check) + 1):                   # проверяем проверочный список на наличие всех чисел в промежутке от 1 до n ** 2\n",
    "        if i not in check:\n",
    "            return print(\"NO\")                           # если нет какого-то числа, то значит дальше нет смысла проверять равенство, завершаем с NO\n",
    "\n",
    "    for i in range(cols):                                # проверяем равенство диагоналей\n",
    "        sum_main_diag += matrix[i][i]\n",
    "        sum_semi_diag += matrix[i][cols - 1 - i]\n",
    "\n",
    "    for i in range(cols):                                # проверяем равенство строк, столбцов и диагоналей\n",
    "        sum_cols = 0\n",
    "        sum_rows = 0\n",
    "        for j in range(cols):\n",
    "            sum_cols += matrix[i][j]\n",
    "            sum_rows += matrix[j][i]\n",
    "        if not sum_cols == sum_rows == sum_main_diag == sum_semi_diag:\n",
    "            return print(\"NO\")                           # если что-то не равно, завершаем с NO\n",
    "    else:\n",
    "        return print(\"YES\")                              # если всё хорошо, завершаем с YES\n",
    "\n",
    "\n",
    "magic_square()\n",
    "\n",
    "\n",
    "#############################################################\n",
    "\n",
    "\n",
    "\n",
    "n = int(input())\n",
    "a = [[*map(int, input().split())] for _ in range(n)]\n",
    "print(('NO', 'YES')[set(sum(a, [])) == set((*range(1, n ** 2 + 1),))   # ряд натур. чисел до n ** 2\n",
    "                    and  \n",
    "                    len(set(map(sum, (*a,                              # суммы строк\n",
    "                                  *zip(*a),                            # суммы столбцов (транспон-ый кв-т)\n",
    "                                  [a[i][i] for i in range(n)],         # сумма гл. диагоналей\n",
    "                                  [a[i][~i] for i in range(n)]))       # сумма втор. диагонали\n",
    "                       )) == 1])                                       # все они должны совпадать\n",
    "\n",
    "\n",
    "```"
   ]
  },
  {
   "cell_type": "markdown",
   "id": "2429720e",
   "metadata": {},
   "source": [
    "### Шахматная доска\n",
    "На вход программе подаются два натуральных числа n и m. Напишите программу для создания матрицы размером n×m, заполнив её символами . и * в шахматном порядке. В левом верхнем углу должна стоять точка. Выведите полученную матрицу на экран, разделяя элементы пробелами.\n",
    "\n",
    "Формат входных данных:\n",
    "\n",
    "На вход программе на одной строке подаются два натуральных числа n и m — количество строк и столбцов в матрице.\n",
    "\n",
    "Формат выходных данных:\n",
    "\n",
    "Программа должна вывести матрицу, описанную в условии задачи."
   ]
  },
  {
   "cell_type": "code",
   "execution_count": 80,
   "id": "f88bba4f",
   "metadata": {},
   "outputs": [
    {
     "name": "stdout",
     "output_type": "stream",
     "text": [
      ". * . * \n",
      "* . * . \n",
      ". * . * \n"
     ]
    }
   ],
   "source": [
    "n = 3\n",
    "m = 4\n",
    "\n",
    "for i in range(n):\n",
    "    for j in range(m):\n",
    "        print(\".\" if (j + i) % 2 == 0 else \"*\", end=\" \")\n",
    "    print()"
   ]
  },
  {
   "cell_type": "markdown",
   "id": "78187496",
   "metadata": {},
   "source": [
    "### Побочная диагональ\n",
    "На вход программе подается натуральное число n. Напишите программу, которая создает матрицу размером n×n и заполняет её по следующему правилу:\n",
    "\n",
    "- числа на побочной диагонали равны 1;\n",
    "- числа, стоящие выше этой диагонали, равны 0;\n",
    "- числа, стоящие ниже этой диагонали, равны 2.\n",
    "\n",
    "Полученную матрицу выведите на экран. Числа в строке разделяйте одним пробелом.\n",
    "\n",
    "Формат входных данных:\n",
    "\n",
    "На вход программе подается натуральное число n — количество строк и столбцов в матрице.\n",
    "\n",
    "Формат выходных данных:\n",
    "\n",
    "Программа должна вывести матрицу в соответствии с условием задачи.\n",
    "\n",
    "Примечание. Побочная диагональ — это диагональ, идущая из правого верхнего в левый нижний угол матрицы.\n"
   ]
  },
  {
   "cell_type": "code",
   "execution_count": 85,
   "id": "c6bc0244",
   "metadata": {},
   "outputs": [
    {
     "name": "stdout",
     "output_type": "stream",
     "text": [
      "0 0 0 1 \n",
      "0 0 1 2 \n",
      "0 1 2 2 \n",
      "1 2 2 2 \n"
     ]
    }
   ],
   "source": [
    "n = 4\n",
    "m = \"\"\"0 0 0 1\n",
    "0 0 1 2\n",
    "0 1 2 2\n",
    "1 2 2 2\"\"\"\n",
    "\n",
    "for i in range(n):\n",
    "    for j in range(n):\n",
    "        if i < n - 1 - j:\n",
    "            print(0, end=\" \")\n",
    "        elif i == n - 1 - j:\n",
    "            print(1, end=\" \")\n",
    "        else:\n",
    "            print(2, end=\" \")\n",
    "    print()"
   ]
  },
  {
   "cell_type": "markdown",
   "id": "1270826f",
   "metadata": {},
   "source": [
    "### Заполнение 1\n",
    "На вход программе подаются два натуральных числа \n",
    "n и m. Напишите программу, которая создает матрицу размером \n",
    "n×m и заполняет её числами от 1 до \n",
    "n⋅m в соответствии с образцом.\n",
    "\n",
    "Формат входных данных:\n",
    "\n",
    "На вход программе на одной строке подаются два натуральных числа nn и m — количество строк и столбцов в матрице.\n",
    "\n",
    "Формат выходных данных:\n",
    "\n",
    "Программа должна вывести матрицу в соответствии с образцом.\n",
    "\n",
    "Примечание. Для вывода элементов матрицы как в примерах, отводите ровно 3\n",
    "3 символа на каждый элемент. Для этого используйте строковый метод ljust(). Можно обойтись и без ljust(), система примет и такое решение 😇"
   ]
  },
  {
   "cell_type": "code",
   "execution_count": 89,
   "id": "72d07d8b",
   "metadata": {},
   "outputs": [
    {
     "name": "stdout",
     "output_type": "stream",
     "text": [
      "1   2   3   4   \n",
      "5   6   7   8   \n",
      "9   10  11  12  \n"
     ]
    }
   ],
   "source": [
    "n, m = 3, 4\n",
    "\n",
    "num = 1\n",
    "for i in range(n):\n",
    "    for j in range(m):\n",
    "        print(str(num).ljust(3), end=\" \")\n",
    "        num += 1\n",
    "    print()"
   ]
  },
  {
   "cell_type": "markdown",
   "id": "b83650e0",
   "metadata": {},
   "source": [
    "```Python\n",
    "n, m = [int(i) for i in input().split()]\n",
    "matrix = [[0] * m for _ in range(n)]\n",
    "\n",
    "for i in range(n):\n",
    "    for j in range(m):\n",
    "        matrix[i][j] = i * m + j + 1\n",
    "\n",
    "for i in range(n):\n",
    "    for j in range(m):\n",
    "        print(str(matrix[i][j]).ljust(3), end=' ')\n",
    "    print()\n",
    "\n",
    "```"
   ]
  },
  {
   "cell_type": "markdown",
   "id": "c12e0440",
   "metadata": {},
   "source": [
    "### Заполнение 2\n",
    "На вход программе подаются два натуральных числа n и m. Напишите программу, которая создает матрицу размером n×m заполнив её в соответствии с образцом.\n",
    "\n",
    "Формат входных данных:\n",
    "\n",
    "На вход программе на одной строке подаются два натуральных числа n и m — количество строк и столбцов в матрице.\n",
    "\n",
    "Формат выходных данных:\n",
    "\n",
    "Программа должна вывести указанную матрицу в соответствии с образцом."
   ]
  },
  {
   "cell_type": "code",
   "execution_count": 98,
   "id": "17dbadd8",
   "metadata": {},
   "outputs": [
    {
     "name": "stdout",
     "output_type": "stream",
     "text": [
      "1   4   7   10  13  16  19  \n",
      "2   5   8   11  14  17  20  \n",
      "3   6   9   12  15  18  21  \n"
     ]
    }
   ],
   "source": [
    "n, m = 3, 7\n",
    "\n",
    "num = 1\n",
    "matrix = [[0]*m for _ in range(n)]\n",
    "for i in range(m):\n",
    "    for j in range(n):\n",
    "        matrix[j][i] = num\n",
    "        num += 1\n",
    "        \n",
    "for i in range(n):\n",
    "    for j in range(m):\n",
    "        print(str(matrix[i][j]).ljust(3), end=\" \")\n",
    "        num += 1\n",
    "    print()        "
   ]
  },
  {
   "cell_type": "markdown",
   "id": "97d01786",
   "metadata": {},
   "source": [
    "```Python \n",
    "\n",
    "n, m = [int(i) for i in input().split()]\n",
    "matrix = [[0] * m for _ in range(n)]\n",
    "\n",
    "for j in range(m):\n",
    "    for i in range(n):\n",
    "        matrix[i][j] = j * n + i + 1\n",
    "\n",
    "for i in range(n):\n",
    "    for j in range(m):\n",
    "        print(str(matrix[i][j]).ljust(3), end=' ')\n",
    "    print()\n",
    "````"
   ]
  }
 ],
 "metadata": {
  "kernelspec": {
   "display_name": "Python 3",
   "language": "python",
   "name": "python3"
  },
  "language_info": {
   "codemirror_mode": {
    "name": "ipython",
    "version": 3
   },
   "file_extension": ".py",
   "mimetype": "text/x-python",
   "name": "python",
   "nbconvert_exporter": "python",
   "pygments_lexer": "ipython3",
   "version": "3.8.8"
  }
 },
 "nbformat": 4,
 "nbformat_minor": 5
}
